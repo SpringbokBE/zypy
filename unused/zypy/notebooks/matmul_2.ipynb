{
 "cells": [
  {
   "cell_type": "markdown",
   "metadata": {},
   "source": [
    "# Matrix multiplication (2)"
   ]
  },
  {
   "cell_type": "markdown",
   "metadata": {},
   "source": [
    "This example shows the usage of two parallel 32x32 floating point multiplications in hardware. The data is streamed to and from the IPs using AXI DMA components. An alternative is to use a multi-channel DMA."
   ]
  },
  {
   "cell_type": "markdown",
   "metadata": {},
   "source": [
    "A first of all, the correct bitstream (.bit) and its associated hardware description (.hwh) is loaded onto the FPGA:"
   ]
  },
  {
   "cell_type": "code",
   "execution_count": 12,
   "metadata": {},
   "outputs": [],
   "source": [
    "from pynq import Overlay, MMIO\n",
    "\n",
    "overlay = Overlay(\"/home/xilinx/overlays/matmul_2.bit\")\n",
    "overlay.download()"
   ]
  },
  {
   "cell_type": "markdown",
   "metadata": {
    "slideshow": {
     "slide_type": "slide"
    }
   },
   "source": [
    "The components in the design and all associated metadata can be found in the `ip_dict`."
   ]
  },
  {
   "cell_type": "code",
   "execution_count": 13,
   "metadata": {},
   "outputs": [
    {
     "data": {
      "text/plain": [
       "['axi_dma_0', 'axi_dma_1', 'matmul_0', 'matmul_1', 'processing_system7_0']"
      ]
     },
     "execution_count": 13,
     "metadata": {},
     "output_type": "execute_result"
    }
   ],
   "source": [
    "[key for key in overlay.ip_dict.keys()]"
   ]
  },
  {
   "cell_type": "markdown",
   "metadata": {},
   "source": [
    "Next, the input and output matrices are allocated and populated with random data."
   ]
  },
  {
   "cell_type": "code",
   "execution_count": 14,
   "metadata": {},
   "outputs": [],
   "source": [
    "from pynq import allocate\n",
    "import numpy as np\n",
    "\n",
    "A = allocate(shape=(32,32), dtype=np.single)\n",
    "B = allocate(shape=(32,32), dtype=np.single)\n",
    "C = allocate(shape=(32,32), dtype=np.single)\n",
    "D = allocate(shape=(32,32), dtype=np.single)\n",
    "\n",
    "A[:] = np.random.rand(32, 32)\n",
    "B[:] = np.random.rand(32, 32)"
   ]
  },
  {
   "cell_type": "markdown",
   "metadata": {},
   "source": [
    "Start the `matmul` IPs. This can be done by writing a start (and autorestart) bit to the memory, because all components are memory mapped by default."
   ]
  },
  {
   "cell_type": "code",
   "execution_count": 15,
   "metadata": {},
   "outputs": [],
   "source": [
    "overlay.matmul_0.mmio.write(0x0, 0x81)\n",
    "overlay.matmul_1.mmio.write(0x0, 0x81)"
   ]
  },
  {
   "cell_type": "markdown",
   "metadata": {},
   "source": [
    "Stream the A and B matrices to the IP and wait until the response has been streamed back to matrix C."
   ]
  },
  {
   "cell_type": "code",
   "execution_count": 16,
   "metadata": {},
   "outputs": [],
   "source": [
    "overlay.axi_dma_0.sendchannel.transfer(A)\n",
    "overlay.axi_dma_0.sendchannel.transfer(B)\n",
    "overlay.axi_dma_1.sendchannel.transfer(A)\n",
    "overlay.axi_dma_1.sendchannel.transfer(B)\n",
    "overlay.axi_dma_0.recvchannel.transfer(C)\n",
    "overlay.axi_dma_1.recvchannel.transfer(D)\n",
    "overlay.axi_dma_0.recvchannel.wait()\n",
    "overlay.axi_dma_1.recvchannel.wait()"
   ]
  },
  {
   "cell_type": "markdown",
   "metadata": {},
   "source": [
    "Now we can verify if there is any difference between the regular software version (using `@`) and the hardware version:"
   ]
  },
  {
   "cell_type": "code",
   "execution_count": 17,
   "metadata": {},
   "outputs": [
    {
     "name": "stdout",
     "output_type": "stream",
     "text": [
      "[[7.8404207 8.229252  6.598717  ... 6.9341702 7.431403  9.261841 ]\n",
      " [6.195579  7.4207535 5.545655  ... 7.7409186 6.985519  7.663156 ]\n",
      " [6.9762025 8.182006  6.3304424 ... 7.8341413 7.0130005 8.248719 ]\n",
      " ...\n",
      " [6.3516955 7.0457754 5.5058703 ... 7.9323773 6.3141127 7.1473174]\n",
      " [6.2141557 7.0981708 5.555508  ... 7.455466  6.7106276 7.2171183]\n",
      " [6.3661427 7.1328535 5.00865   ... 8.134221  7.45771   7.40928  ]]\n",
      "[[7.8404207 8.229252  6.598717  ... 6.9341702 7.431403  9.261841 ]\n",
      " [6.195579  7.4207535 5.545655  ... 7.7409186 6.985519  7.663156 ]\n",
      " [6.9762025 8.182006  6.3304424 ... 7.8341413 7.0130005 8.248719 ]\n",
      " ...\n",
      " [6.3516955 7.0457754 5.5058703 ... 7.9323773 6.3141127 7.1473174]\n",
      " [6.2141557 7.0981708 5.555508  ... 7.455466  6.7106276 7.2171183]\n",
      " [6.3661427 7.1328535 5.00865   ... 8.134221  7.45771   7.40928  ]]\n",
      "[[7.8404207 8.229252  6.598717  ... 6.9341702 7.431403  9.261841 ]\n",
      " [6.195579  7.4207535 5.545655  ... 7.7409186 6.985519  7.663156 ]\n",
      " [6.9762025 8.182006  6.3304424 ... 7.8341413 7.0130005 8.248719 ]\n",
      " ...\n",
      " [6.3516955 7.0457754 5.5058703 ... 7.9323773 6.3141127 7.1473174]\n",
      " [6.2141557 7.0981708 5.555508  ... 7.455466  6.7106276 7.2171183]\n",
      " [6.3661427 7.1328535 5.00865   ... 8.134221  7.45771   7.40928  ]]\n"
     ]
    }
   ],
   "source": [
    "print(A@B)\n",
    "print(C)\n",
    "print(D)"
   ]
  },
  {
   "cell_type": "markdown",
   "metadata": {},
   "source": [
    "Luckily, they are the same."
   ]
  }
 ],
 "metadata": {
  "kernelspec": {
   "display_name": "Python 3",
   "language": "python",
   "name": "python3"
  },
  "language_info": {
   "codemirror_mode": {
    "name": "ipython",
    "version": 3
   },
   "file_extension": ".py",
   "mimetype": "text/x-python",
   "name": "python",
   "nbconvert_exporter": "python",
   "pygments_lexer": "ipython3",
   "version": "3.6.5"
  }
 },
 "nbformat": 4,
 "nbformat_minor": 2
}
