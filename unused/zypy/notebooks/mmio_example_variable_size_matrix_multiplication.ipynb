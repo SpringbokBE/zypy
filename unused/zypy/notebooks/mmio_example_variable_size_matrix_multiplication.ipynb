{
 "cells": [
  {
   "cell_type": "markdown",
   "metadata": {},
   "source": [
    "# MMIO example: Variable-size matrix multiplication"
   ]
  },
  {
   "cell_type": "markdown",
   "metadata": {},
   "source": [
    "This notebook illustrates the use of MMIO to communicate with the PL part of the PYNQ-Z2 board. This can be achieved at different levels of abstraction and speedup: (i) using PYNQ, (ii) using MMIO in Python and (iii) using MMIO in C++ with pybind11. The block design consists of a DMA component that interfaces with a HLS matrix multiplication IP that operates on streams."
   ]
  },
  {
   "cell_type": "markdown",
   "metadata": {},
   "source": [
    "First, we load the bitstream, allocate and fill the source buffers ``A``/``B``, and allocate the destination buffer ``C``:"
   ]
  },
  {
   "cell_type": "code",
   "execution_count": 1,
   "metadata": {},
   "outputs": [
    {
     "data": {
      "application/javascript": [
       "\n",
       "try {\n",
       "require(['notebook/js/codecell'], function(codecell) {\n",
       "  codecell.CodeCell.options_default.highlight_modes[\n",
       "      'magic_text/x-csrc'] = {'reg':[/^%%microblaze/]};\n",
       "  Jupyter.notebook.events.one('kernel_ready.Kernel', function(){\n",
       "      Jupyter.notebook.get_cells().map(function(cell){\n",
       "          if (cell.cell_type == 'code'){ cell.auto_highlight(); } }) ;\n",
       "  });\n",
       "});\n",
       "} catch (e) {};\n"
      ]
     },
     "metadata": {},
     "output_type": "display_data"
    },
    {
     "data": {
      "application/javascript": [
       "\n",
       "try {\n",
       "require(['notebook/js/codecell'], function(codecell) {\n",
       "  codecell.CodeCell.options_default.highlight_modes[\n",
       "      'magic_text/x-csrc'] = {'reg':[/^%%pybind11/]};\n",
       "  Jupyter.notebook.events.one('kernel_ready.Kernel', function(){\n",
       "      Jupyter.notebook.get_cells().map(function(cell){\n",
       "          if (cell.cell_type == 'code'){ cell.auto_highlight(); } }) ;\n",
       "  });\n",
       "});\n",
       "} catch (e) {};\n"
      ]
     },
     "metadata": {},
     "output_type": "display_data"
    }
   ],
   "source": [
    "from pynq import Overlay, allocate\n",
    "import numpy as np\n",
    "\n",
    "overlay = Overlay(\"/home/xilinx/overlays/mmul_v2_64.bit\")\n",
    "\n",
    "L, M, N = 8, 9, 10\n",
    "\n",
    "A = allocate(shape=(L,M), dtype=\"u4\")\n",
    "B = allocate(shape=(M,N), dtype=\"u4\")\n",
    "\n",
    "A[:] = np.arange(1,L * M + 1).reshape(L, M)\n",
    "B[:] = np.arange(1,M * N + 1).reshape(M, N)"
   ]
  },
  {
   "cell_type": "markdown",
   "metadata": {},
   "source": [
    "# (c) C++ (``pybind11``, ``mmap``)"
   ]
  },
  {
   "cell_type": "markdown",
   "metadata": {},
   "source": [
    "## 1.i Memory allocation"
   ]
  },
  {
   "cell_type": "markdown",
   "metadata": {},
   "source": [
    "To minimize the streaming latency, the `mmul_v2_0` component actually calculates `A@B.T=C.T`. Therefore we have to re-allocate `B` and treat `C` as being transposed."
   ]
  },
  {
   "cell_type": "code",
   "execution_count": 2,
   "metadata": {},
   "outputs": [],
   "source": [
    "BT = allocate(shape=B.shape[::-1], dtype=B.dtype)\n",
    "BT[:]=B.T\n",
    "\n",
    "CT = allocate(shape=(B.shape[1], A.shape[0]), dtype=\"u4\")"
   ]
  },
  {
   "cell_type": "markdown",
   "metadata": {},
   "source": [
    "Let's compare the memory layout of `B` and `BT`:"
   ]
  },
  {
   "cell_type": "code",
   "execution_count": 3,
   "metadata": {
    "scrolled": true
   },
   "outputs": [
    {
     "name": "stdout",
     "output_type": "stream",
     "text": [
      "[[ 1  2  3  4  5  6  7  8  9 10]\n",
      " [11 12 13 14 15 16 17 18 19 20]\n",
      " [21 22 23 24 25 26 27 28 29 30]\n",
      " [31 32 33 34 35 36 37 38 39 40]\n",
      " [41 42 43 44 45 46 47 48 49 50]\n",
      " [51 52 53 54 55 56 57 58 59 60]\n",
      " [61 62 63 64 65 66 67 68 69 70]\n",
      " [71 72 73 74 75 76 77 78 79 80]\n",
      " [81 82 83 84 85 86 87 88 89 90]]\n",
      "16865000  01 00 00 00 02 00 00 00  03 00 00 00 04 00 00 00  |................|\n",
      "16865010  05 00 00 00 06 00 00 00  07 00 00 00 08 00 00 00  |................|\n",
      "16865020  09 00 00 00 0a 00 00 00  0b 00 00 00 0c 00 00 00  |................|\n",
      "16865030  0d 00 00 00 0e 00 00 00  0f 00 00 00 10 00 00 00  |................|\n",
      "16865040  11 00 00 00 12 00 00 00  13 00 00 00 14 00 00 00  |................|\n",
      "16865050  15 00 00 00 16 00 00 00  17 00 00 00 18 00 00 00  |................|\n",
      "16865060  19 00 00 00 1a 00 00 00  1b 00 00 00 1c 00 00 00  |................|\n",
      "16865070  1d 00 00 00 1e 00 00 00  1f 00 00 00 20 00 00 00  |............ ...|\n",
      "16865080  21 00 00 00 22 00 00 00  23 00 00 00 24 00 00 00  |!...\"...#...$...|\n",
      "16865090  25 00 00 00 26 00 00 00  27 00 00 00 28 00 00 00  |%...&...'...(...|\n",
      "\n"
     ]
    }
   ],
   "source": [
    "import subprocess\n",
    "cmd = f\"hexdump -C -s {B.physical_address} /dev/mem | head\"\n",
    "print(B)\n",
    "print(subprocess.check_output(cmd, shell=True).decode(\"utf-8\"))"
   ]
  },
  {
   "cell_type": "code",
   "execution_count": 4,
   "metadata": {
    "scrolled": true
   },
   "outputs": [
    {
     "name": "stdout",
     "output_type": "stream",
     "text": [
      "[[ 1 11 21 31 41 51 61 71 81]\n",
      " [ 2 12 22 32 42 52 62 72 82]\n",
      " [ 3 13 23 33 43 53 63 73 83]\n",
      " [ 4 14 24 34 44 54 64 74 84]\n",
      " [ 5 15 25 35 45 55 65 75 85]\n",
      " [ 6 16 26 36 46 56 66 76 86]\n",
      " [ 7 17 27 37 47 57 67 77 87]\n",
      " [ 8 18 28 38 48 58 68 78 88]\n",
      " [ 9 19 29 39 49 59 69 79 89]\n",
      " [10 20 30 40 50 60 70 80 90]]\n",
      "16866000  01 00 00 00 0b 00 00 00  15 00 00 00 1f 00 00 00  |................|\n",
      "16866010  29 00 00 00 33 00 00 00  3d 00 00 00 47 00 00 00  |)...3...=...G...|\n",
      "16866020  51 00 00 00 02 00 00 00  0c 00 00 00 16 00 00 00  |Q...............|\n",
      "16866030  20 00 00 00 2a 00 00 00  34 00 00 00 3e 00 00 00  | ...*...4...>...|\n",
      "16866040  48 00 00 00 52 00 00 00  03 00 00 00 0d 00 00 00  |H...R...........|\n",
      "16866050  17 00 00 00 21 00 00 00  2b 00 00 00 35 00 00 00  |....!...+...5...|\n",
      "16866060  3f 00 00 00 49 00 00 00  53 00 00 00 04 00 00 00  |?...I...S.......|\n",
      "16866070  0e 00 00 00 18 00 00 00  22 00 00 00 2c 00 00 00  |........\"...,...|\n",
      "16866080  36 00 00 00 40 00 00 00  4a 00 00 00 54 00 00 00  |6...@...J...T...|\n",
      "16866090  05 00 00 00 0f 00 00 00  19 00 00 00 23 00 00 00  |............#...|\n",
      "\n"
     ]
    }
   ],
   "source": [
    "import subprocess\n",
    "cmd = f\"hexdump -C -s {BT.physical_address} /dev/mem | head\"\n",
    "print(BT)\n",
    "print(subprocess.check_output(cmd, shell=True).decode(\"utf-8\"))"
   ]
  },
  {
   "cell_type": "markdown",
   "metadata": {},
   "source": [
    "As we can see, the memory layout of `BT` is suitable for streaming it with DMA. Else, we would have to send each element of B as a separate DMA transfer, resulting in a very slow transfer. Of course, we have to take into account the cost of transposing the array."
   ]
  },
  {
   "cell_type": "markdown",
   "metadata": {},
   "source": [
    "## 1.ii Hardware execution"
   ]
  },
  {
   "cell_type": "code",
   "execution_count": 5,
   "metadata": {},
   "outputs": [],
   "source": [
    "%%pybind11 mmul\n",
    "\n",
    "#include <unistd.h>\n",
    "#include <fcntl.h>\n",
    "#include <termios.h>\n",
    "#include <sys/mman.h>\n",
    "\n",
    "#define MM2S_DMACR 0x00\n",
    "#define MM2S_DMACR_RS 0x00000001\n",
    "#define MM2S_DMACR_Reset 0x00000004\n",
    "#define MM2S_DMASR 0x04\n",
    "#define MM2S_DMASR_Halted 0x00000001\n",
    "#define MM2S_DMASR_Idle 0x00000002\n",
    "#define MM2S_SA 0x18\n",
    "#define MM2S_SA_MSB 0x1c\n",
    "#define MM2S_LENGTH 0x28\n",
    "\n",
    "#define S2MM_DMACR 0x30\n",
    "#define S2MM_DMACR_RS 0x00000001\n",
    "#define S2MM_DMACR_Reset 0x00000004\n",
    "#define S2MM_DMASR 0x34\n",
    "#define S2MM_DMASR_Halted 0x00000001\n",
    "#define S2MM_DMASR_Idle 0x00000002\n",
    "#define S2MM_DA 0x48\n",
    "#define S2MM_DA_MSB 0x4c\n",
    "#define S2MM_LENGTH 0x58\n",
    "\n",
    "#define printf py::print\n",
    "\n",
    "#define dma_get(x) DMA_VADDR[x >> 2]\n",
    "#define dma_set(x, y) DMA_VADDR[x >> 2] = y\n",
    "\n",
    "#define mmul_set_L(x) MMUL_VADDR[0x10 >> 2] = x\n",
    "#define mmul_set_M(x) MMUL_VADDR[0x18 >> 2] = x\n",
    "#define mmul_set_N(x) MMUL_VADDR[0x20 >> 2] = x\n",
    "#define mmul_start() MMUL_VADDR[0x00 >> 2] = 0x00000001\n",
    "\n",
    "void mmul(unsigned int DMA_addr, unsigned int MMUL_addr,\n",
    "          unsigned int L, unsigned int M, unsigned int N,\n",
    "          unsigned int A_addr, unsigned int BT_addr, unsigned int CT_addr)\n",
    "{\n",
    "    int fd = open(\"/dev/mem\", O_RDWR | O_SYNC);\n",
    "    volatile unsigned int *DMA_VADDR = (volatile unsigned int *) mmap(NULL, 65535, PROT_READ | PROT_WRITE, MAP_SHARED, fd, DMA_addr);\n",
    "    volatile unsigned int *MMUL_VADDR = (volatile unsigned int *) mmap(NULL, 65535, PROT_READ | PROT_WRITE, MAP_SHARED, fd, MMUL_addr);\n",
    "    \n",
    "    mmul_set_L(L);\n",
    "    mmul_set_M(M);\n",
    "    mmul_set_N(N);\n",
    "    mmul_start();\n",
    "    \n",
    "    dma_set(S2MM_DMACR, S2MM_DMACR_Reset);\n",
    "    dma_set(MM2S_DMACR, MM2S_DMACR_Reset);\n",
    "    \n",
    "    dma_set(S2MM_DMACR, S2MM_DMACR_RS);\n",
    "    dma_set(MM2S_DMACR, MM2S_DMACR_RS);\n",
    "    \n",
    "    dma_set(MM2S_SA, A_addr);\n",
    "    dma_set(MM2S_LENGTH, L*M*sizeof(unsigned int));\n",
    "    \n",
    "    while(!(dma_get(MM2S_DMASR) & MM2S_DMASR_Idle));\n",
    "    \n",
    "    dma_set(MM2S_SA, BT_addr);\n",
    "    dma_set(MM2S_LENGTH, N*M*sizeof(unsigned int));\n",
    "    \n",
    "    dma_set(S2MM_DA, CT_addr);\n",
    "    dma_set(S2MM_LENGTH, N*L*sizeof(unsigned int));\n",
    "    \n",
    "    while(!(dma_get(MM2S_DMASR) & MM2S_DMASR_Idle));\n",
    "    while(!(dma_get(S2MM_DMASR) & S2MM_DMASR_Idle));\n",
    "    \n",
    "    close(fd);\n",
    "}"
   ]
  },
  {
   "cell_type": "markdown",
   "metadata": {},
   "source": [
    "We now clear the ``B`` buffer and run the actual C++ extension that starts the DMA transfer. We see that the data is successfully copied into ``B`` when the DMA transfers are done:"
   ]
  },
  {
   "cell_type": "code",
   "execution_count": 6,
   "metadata": {},
   "outputs": [
    {
     "name": "stdout",
     "output_type": "stream",
     "text": [
      "[[ 1  2  3  4  5  6  7  8  9]\n",
      " [10 11 12 13 14 15 16 17 18]\n",
      " [19 20 21 22 23 24 25 26 27]\n",
      " [28 29 30 31 32 33 34 35 36]\n",
      " [37 38 39 40 41 42 43 44 45]\n",
      " [46 47 48 49 50 51 52 53 54]\n",
      " [55 56 57 58 59 60 61 62 63]\n",
      " [64 65 66 67 68 69 70 71 72]]\n",
      "[[ 1 11 21 31 41 51 61 71 81]\n",
      " [ 2 12 22 32 42 52 62 72 82]\n",
      " [ 3 13 23 33 43 53 63 73 83]\n",
      " [ 4 14 24 34 44 54 64 74 84]\n",
      " [ 5 15 25 35 45 55 65 75 85]\n",
      " [ 6 16 26 36 46 56 66 76 86]\n",
      " [ 7 17 27 37 47 57 67 77 87]\n",
      " [ 8 18 28 38 48 58 68 78 88]\n",
      " [ 9 19 29 39 49 59 69 79 89]\n",
      " [10 20 30 40 50 60 70 80 90]]\n",
      "[[0 0 0 0 0 0 0 0]\n",
      " [0 0 0 0 0 0 0 0]\n",
      " [0 0 0 0 0 0 0 0]\n",
      " [0 0 0 0 0 0 0 0]\n",
      " [0 0 0 0 0 0 0 0]\n",
      " [0 0 0 0 0 0 0 0]\n",
      " [0 0 0 0 0 0 0 0]\n",
      " [0 0 0 0 0 0 0 0]\n",
      " [0 0 0 0 0 0 0 0]\n",
      " [0 0 0 0 0 0 0 0]]\n"
     ]
    }
   ],
   "source": [
    "CT[:] = 0\n",
    "print(A)\n",
    "print(BT)\n",
    "print(CT)"
   ]
  },
  {
   "cell_type": "code",
   "execution_count": 7,
   "metadata": {},
   "outputs": [
    {
     "name": "stdout",
     "output_type": "stream",
     "text": [
      "[[ 1  2  3  4  5  6  7  8  9]\n",
      " [10 11 12 13 14 15 16 17 18]\n",
      " [19 20 21 22 23 24 25 26 27]\n",
      " [28 29 30 31 32 33 34 35 36]\n",
      " [37 38 39 40 41 42 43 44 45]\n",
      " [46 47 48 49 50 51 52 53 54]\n",
      " [55 56 57 58 59 60 61 62 63]\n",
      " [64 65 66 67 68 69 70 71 72]]\n",
      "[[ 1 11 21 31 41 51 61 71 81]\n",
      " [ 2 12 22 32 42 52 62 72 82]\n",
      " [ 3 13 23 33 43 53 63 73 83]\n",
      " [ 4 14 24 34 44 54 64 74 84]\n",
      " [ 5 15 25 35 45 55 65 75 85]\n",
      " [ 6 16 26 36 46 56 66 76 86]\n",
      " [ 7 17 27 37 47 57 67 77 87]\n",
      " [ 8 18 28 38 48 58 68 78 88]\n",
      " [ 9 19 29 39 49 59 69 79 89]\n",
      " [10 20 30 40 50 60 70 80 90]]\n",
      "[[ 2445  5766  9087 12408 15729 19050 22371 25692]\n",
      " [ 2490  5892  9294 12696 16098 19500 22902 26304]\n",
      " [ 2535  6018  9501 12984 16467 19950 23433 26916]\n",
      " [ 2580  6144  9708 13272 16836 20400 23964 27528]\n",
      " [ 2625  6270  9915 13560 17205 20850 24495 28140]\n",
      " [ 2670  6396 10122 13848 17574 21300 25026 28752]\n",
      " [ 2715  6522 10329 14136 17943 21750 25557 29364]\n",
      " [ 2760  6648 10536 14424 18312 22200 26088 29976]\n",
      " [ 2805  6774 10743 14712 18681 22650 26619 30588]\n",
      " [ 2850  6900 10950 15000 19050 23100 27150 31200]]\n"
     ]
    }
   ],
   "source": [
    "import mmul\n",
    "\n",
    "mmul.mmul(overlay.axi_dma_0.sendchannel._mmio.base_addr, overlay.mmul_v2_0.mmio.base_addr,\n",
    "          L, M, N,\n",
    "          A.physical_address, BT.physical_address, CT.physical_address)\n",
    "\n",
    "print(A)\n",
    "print(BT)\n",
    "print(CT)"
   ]
  },
  {
   "cell_type": "code",
   "execution_count": 8,
   "metadata": {},
   "outputs": [
    {
     "name": "stdout",
     "output_type": "stream",
     "text": [
      "[[ 2445  5766  9087 12408 15729 19050 22371 25692]\n",
      " [ 2490  5892  9294 12696 16098 19500 22902 26304]\n",
      " [ 2535  6018  9501 12984 16467 19950 23433 26916]\n",
      " [ 2580  6144  9708 13272 16836 20400 23964 27528]\n",
      " [ 2625  6270  9915 13560 17205 20850 24495 28140]\n",
      " [ 2670  6396 10122 13848 17574 21300 25026 28752]\n",
      " [ 2715  6522 10329 14136 17943 21750 25557 29364]\n",
      " [ 2760  6648 10536 14424 18312 22200 26088 29976]\n",
      " [ 2805  6774 10743 14712 18681 22650 26619 30588]\n",
      " [ 2850  6900 10950 15000 19050 23100 27150 31200]]\n",
      "16867000  8d 09 00 00 86 16 00 00  7f 23 00 00 78 30 00 00  |.........#..x0..|\n",
      "16867010  71 3d 00 00 6a 4a 00 00  63 57 00 00 5c 64 00 00  |q=..jJ..cW..\\d..|\n",
      "16867020  ba 09 00 00 04 17 00 00  4e 24 00 00 98 31 00 00  |........N$...1..|\n",
      "16867030  e2 3e 00 00 2c 4c 00 00  76 59 00 00 c0 66 00 00  |.>..,L..vY...f..|\n",
      "16867040  e7 09 00 00 82 17 00 00  1d 25 00 00 b8 32 00 00  |.........%...2..|\n",
      "16867050  53 40 00 00 ee 4d 00 00  89 5b 00 00 24 69 00 00  |S@...M...[..$i..|\n",
      "16867060  14 0a 00 00 00 18 00 00  ec 25 00 00 d8 33 00 00  |.........%...3..|\n",
      "16867070  c4 41 00 00 b0 4f 00 00  9c 5d 00 00 88 6b 00 00  |.A...O...]...k..|\n",
      "16867080  41 0a 00 00 7e 18 00 00  bb 26 00 00 f8 34 00 00  |A...~....&...4..|\n",
      "16867090  35 43 00 00 72 51 00 00  af 5f 00 00 ec 6d 00 00  |5C..rQ..._...m..|\n",
      "\n"
     ]
    }
   ],
   "source": [
    "import subprocess\n",
    "cmd = f\"hexdump -C -s {CT.physical_address} /dev/mem | head\"\n",
    "print(CT)\n",
    "print(subprocess.check_output(cmd, shell=True).decode(\"utf-8\"))"
   ]
  },
  {
   "cell_type": "code",
   "execution_count": 9,
   "metadata": {},
   "outputs": [],
   "source": [
    "CT_ref = allocate(shape=(B.shape[1], A.shape[0]), dtype=\"u4\")\n",
    "CT_ref[:] = (A@B).T"
   ]
  },
  {
   "cell_type": "code",
   "execution_count": 10,
   "metadata": {},
   "outputs": [
    {
     "name": "stdout",
     "output_type": "stream",
     "text": [
      "[[ 2445  5766  9087 12408 15729 19050 22371 25692]\n",
      " [ 2490  5892  9294 12696 16098 19500 22902 26304]\n",
      " [ 2535  6018  9501 12984 16467 19950 23433 26916]\n",
      " [ 2580  6144  9708 13272 16836 20400 23964 27528]\n",
      " [ 2625  6270  9915 13560 17205 20850 24495 28140]\n",
      " [ 2670  6396 10122 13848 17574 21300 25026 28752]\n",
      " [ 2715  6522 10329 14136 17943 21750 25557 29364]\n",
      " [ 2760  6648 10536 14424 18312 22200 26088 29976]\n",
      " [ 2805  6774 10743 14712 18681 22650 26619 30588]\n",
      " [ 2850  6900 10950 15000 19050 23100 27150 31200]]\n",
      "1686c000  8d 09 00 00 86 16 00 00  7f 23 00 00 78 30 00 00  |.........#..x0..|\n",
      "1686c010  71 3d 00 00 6a 4a 00 00  63 57 00 00 5c 64 00 00  |q=..jJ..cW..\\d..|\n",
      "1686c020  ba 09 00 00 04 17 00 00  4e 24 00 00 98 31 00 00  |........N$...1..|\n",
      "1686c030  e2 3e 00 00 2c 4c 00 00  76 59 00 00 c0 66 00 00  |.>..,L..vY...f..|\n",
      "1686c040  e7 09 00 00 82 17 00 00  1d 25 00 00 b8 32 00 00  |.........%...2..|\n",
      "1686c050  53 40 00 00 ee 4d 00 00  89 5b 00 00 24 69 00 00  |S@...M...[..$i..|\n",
      "1686c060  14 0a 00 00 00 18 00 00  ec 25 00 00 d8 33 00 00  |.........%...3..|\n",
      "1686c070  c4 41 00 00 b0 4f 00 00  9c 5d 00 00 88 6b 00 00  |.A...O...]...k..|\n",
      "1686c080  41 0a 00 00 7e 18 00 00  bb 26 00 00 f8 34 00 00  |A...~....&...4..|\n",
      "1686c090  35 43 00 00 72 51 00 00  af 5f 00 00 ec 6d 00 00  |5C..rQ..._...m..|\n",
      "\n"
     ]
    }
   ],
   "source": [
    "import subprocess\n",
    "cmd = f\"hexdump -C -s {CT_ref.physical_address} /dev/mem | head\"\n",
    "print(CT_ref)\n",
    "print(subprocess.check_output(cmd, shell=True).decode(\"utf-8\"))"
   ]
  },
  {
   "cell_type": "code",
   "execution_count": null,
   "metadata": {},
   "outputs": [],
   "source": []
  }
 ],
 "metadata": {
  "kernelspec": {
   "display_name": "Python 3",
   "language": "python",
   "name": "python3"
  },
  "language_info": {
   "codemirror_mode": {
    "name": "ipython",
    "version": 3
   },
   "file_extension": ".py",
   "mimetype": "text/x-python",
   "name": "python",
   "nbconvert_exporter": "python",
   "pygments_lexer": "ipython3",
   "version": "3.7.0b3"
  }
 },
 "nbformat": 4,
 "nbformat_minor": 2
}
