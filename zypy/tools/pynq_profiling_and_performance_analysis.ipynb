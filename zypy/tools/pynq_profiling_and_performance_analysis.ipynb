{
 "cells": [
  {
   "cell_type": "code",
   "execution_count": 1,
   "source": [
    "import os, sys\r\n",
    "\r\n",
    "# Import the lower-level ZyPy module\r\n",
    "zypy_path = os.path.abspath(os.path.join(\"..\"))\r\n",
    "\r\n",
    "if zypy_path not in sys.path:\r\n",
    "    sys.path.append(zypy_path)"
   ],
   "outputs": [],
   "metadata": {}
  },
  {
   "cell_type": "markdown",
   "source": [
    "# `Creating a profiler`"
   ],
   "metadata": {}
  },
  {
   "cell_type": "markdown",
   "source": [
    "We now create a customized profiler, based on Python's built-in `cProfile` module. This will allow us to investigate the parts of the code that take up most of the run-time:"
   ],
   "metadata": {}
  },
  {
   "cell_type": "code",
   "execution_count": 2,
   "source": [
    "from contextlib import contextmanager\r\n",
    "from cProfile import Profile\r\n",
    "from pstats import Stats\r\n",
    "\r\n",
    "class Profiler(Profile):\r\n",
    "    \"\"\" Custom Profile class with a __call__() context manager method to\r\n",
    "        enable profiling.\r\n",
    "    \"\"\"\r\n",
    "    def __init__(self, *args, **kwargs):\r\n",
    "        super(Profile, self).__init__(*args, **kwargs)\r\n",
    "        self.disable()  # Profiling initially off.\r\n",
    "\r\n",
    "    @contextmanager\r\n",
    "    def __call__(self):\r\n",
    "        self.enable()\r\n",
    "        yield  # Execute code to be profiled.\r\n",
    "        self.disable()"
   ],
   "outputs": [],
   "metadata": {
    "hide_input": false
   }
  },
  {
   "cell_type": "markdown",
   "source": [
    "# `PYNQ overlay download`"
   ],
   "metadata": {}
  },
  {
   "cell_type": "code",
   "execution_count": null,
   "source": [
    "from pynq import Overlay\r\n",
    "profiler = Profiler()\r\n",
    "\r\n",
    "with profiler():\r\n",
    "    x = Overlay(\"/home/xilinx/jupyter_notebooks/zypy/overlays/ufunc_call_f4.bit\")\r\n",
    "\r\n",
    "profiler.dump_stats('output/pynq_overlay.prof')"
   ],
   "outputs": [],
   "metadata": {}
  },
  {
   "cell_type": "markdown",
   "source": [
    "# `ZyPy bitfile download`"
   ],
   "metadata": {}
  },
  {
   "cell_type": "code",
   "execution_count": null,
   "source": [
    "from zypy import ZyPy\r\n",
    "profiler = Profiler()\r\n",
    "\r\n",
    "with profiler():\r\n",
    "    ZyPy.download_bitfile(\"/home/xilinx/jupyter_notebooks/zypy/overlays/ufunc_call_f4.bit\")\r\n",
    "\r\n",
    "profiler.dump_stats('output/zypy_bitfile.prof')"
   ],
   "outputs": [],
   "metadata": {}
  },
  {
   "cell_type": "markdown",
   "source": [
    "# `PYNQ allocate`"
   ],
   "metadata": {}
  },
  {
   "cell_type": "code",
   "execution_count": null,
   "source": [
    "from pynq import allocate\r\n",
    "profiler = Profiler()\r\n",
    "\r\n",
    "with profiler():\r\n",
    "    x1 = allocate((1000,1000))\r\n",
    "\r\n",
    "profiler.dump_stats('output/pynq_allocate.prof')"
   ],
   "outputs": [],
   "metadata": {}
  },
  {
   "cell_type": "markdown",
   "source": [
    "# `32x32 heat equation`"
   ],
   "metadata": {}
  },
  {
   "cell_type": "code",
   "execution_count": null,
   "source": [
    "from bench_zypy import heat2d_zypy\r\n",
    "profiler = Profiler()\r\n",
    "\r\n",
    "with profiler():\r\n",
    "    z32 = heat2d_zypy(32, 32)\r\n",
    "\r\n",
    "profiler.dump_stats('output/heat2d_32_zypy.prof')"
   ],
   "outputs": [],
   "metadata": {}
  },
  {
   "cell_type": "code",
   "execution_count": null,
   "source": [
    "from bench_numpy import heat2d_numpy\r\n",
    "profiler = Profiler()\r\n",
    "\r\n",
    "with profiler():\r\n",
    "    n32 = heat2d_numpy(32, 32)\r\n",
    "\r\n",
    "profiler.dump_stats('output/heat2d_32_numpy.prof')"
   ],
   "outputs": [],
   "metadata": {}
  },
  {
   "cell_type": "code",
   "execution_count": null,
   "source": [
    "from bench_pynq import heat2d_pynq\r\n",
    "profiler = Profiler()\r\n",
    "\r\n",
    "with profiler():\r\n",
    "    n32 = heat2d_pynq(32, 32)\r\n",
    "\r\n",
    "profiler.dump_stats('output/heat2d_32_pynq.prof')"
   ],
   "outputs": [],
   "metadata": {}
  },
  {
   "cell_type": "markdown",
   "source": [
    "# `64x64 heat equation`"
   ],
   "metadata": {}
  },
  {
   "cell_type": "code",
   "execution_count": null,
   "source": [
    "from bench_numpy import heat2d_numpy\r\n",
    "profiler = Profiler()\r\n",
    "\r\n",
    "with profiler():\r\n",
    "    heat2d_numpy(64, 64)\r\n",
    "\r\n",
    "profiler.dump_stats('output/heat2d_64_numpy.prof')"
   ],
   "outputs": [],
   "metadata": {}
  },
  {
   "cell_type": "code",
   "execution_count": null,
   "source": [
    "from bench_zypy import heat2d_zypy\r\n",
    "profiler = Profiler()\r\n",
    "\r\n",
    "with profiler():\r\n",
    "    heat2d_zypy(64, 64)\r\n",
    "\r\n",
    "profiler.dump_stats('output/heat2d_64_zypy.prof')"
   ],
   "outputs": [],
   "metadata": {}
  },
  {
   "cell_type": "code",
   "execution_count": null,
   "source": [
    "from bench_pynq import heat2d_pynq\r\n",
    "profiler = Profiler()\r\n",
    "\r\n",
    "with profiler():\r\n",
    "    p32 = heat2d_pynq(64, 64)\r\n",
    "\r\n",
    "profiler.dump_stats('output/heat2d_64_pynq.prof')"
   ],
   "outputs": [],
   "metadata": {}
  },
  {
   "cell_type": "markdown",
   "source": [
    "# `128x128 heat equation`"
   ],
   "metadata": {}
  },
  {
   "cell_type": "code",
   "execution_count": null,
   "source": [
    "from bench_numpy import heat2d_numpy\r\n",
    "profiler = Profiler()\r\n",
    "\r\n",
    "with profiler():\r\n",
    "    heat2d_numpy(128, 128)\r\n",
    "\r\n",
    "profiler.dump_stats('output/heat2d_128_numpy.prof')"
   ],
   "outputs": [],
   "metadata": {}
  },
  {
   "cell_type": "code",
   "execution_count": 3,
   "source": [
    "from bench_zypy import heat2d_zypy\r\n",
    "profiler = Profiler()\r\n",
    "\r\n",
    "with profiler():\r\n",
    "    heat2d_zypy(128, 128)\r\n",
    "\r\n",
    "profiler.dump_stats('output/heat2d_128_zypy.prof')"
   ],
   "outputs": [
    {
     "output_type": "display_data",
     "data": {
      "application/javascript": "\ntry {\nrequire(['notebook/js/codecell'], function(codecell) {\n  codecell.CodeCell.options_default.highlight_modes[\n      'magic_text/x-csrc'] = {'reg':[/^%%microblaze/]};\n  Jupyter.notebook.events.one('kernel_ready.Kernel', function(){\n      Jupyter.notebook.get_cells().map(function(cell){\n          if (cell.cell_type == 'code'){ cell.auto_highlight(); } }) ;\n  });\n});\n} catch (e) {};\n"
     },
     "metadata": {}
    },
    {
     "output_type": "display_data",
     "data": {
      "application/javascript": "\ntry {\nrequire(['notebook/js/codecell'], function(codecell) {\n  codecell.CodeCell.options_default.highlight_modes[\n      'magic_text/x-csrc'] = {'reg':[/^%%pybind11/]};\n  Jupyter.notebook.events.one('kernel_ready.Kernel', function(){\n      Jupyter.notebook.get_cells().map(function(cell){\n          if (cell.cell_type == 'code'){ cell.auto_highlight(); } }) ;\n  });\n});\n} catch (e) {};\n"
     },
     "metadata": {}
    },
    {
     "output_type": "stream",
     "name": "stdout",
     "text": [
      "i = 40801\n"
     ]
    }
   ],
   "metadata": {}
  },
  {
   "cell_type": "code",
   "execution_count": null,
   "source": [
    "from bench_pynq import heat2d_pynq\r\n",
    "profiler = Profiler()\r\n",
    "\r\n",
    "with profiler():\r\n",
    "    p32 = heat2d_pynq(128, 128)\r\n",
    "\r\n",
    "profiler.dump_stats('output/heat2d_128_pynq.prof')"
   ],
   "outputs": [],
   "metadata": {}
  },
  {
   "cell_type": "markdown",
   "source": [
    "# `256x256 heat equation`"
   ],
   "metadata": {}
  },
  {
   "cell_type": "code",
   "execution_count": null,
   "source": [
    "from bench_zypy import heat2d_zypy\r\n",
    "profiler = Profiler()\r\n",
    "\r\n",
    "with profiler():\r\n",
    "    z256 = heat2d_zypy(256, 256)\r\n",
    "\r\n",
    "profiler.dump_stats('output/heat2d_256_zypy.prof')"
   ],
   "outputs": [],
   "metadata": {}
  },
  {
   "cell_type": "code",
   "execution_count": null,
   "source": [
    "from bench_numpy import heat2d_numpy\r\n",
    "profiler = Profiler()\r\n",
    "\r\n",
    "with profiler():\r\n",
    "    n256 = heat2d_numpy(256, 256)\r\n",
    "\r\n",
    "profiler.dump_stats('output/heat2d_256_numpy.prof')"
   ],
   "outputs": [],
   "metadata": {}
  },
  {
   "cell_type": "markdown",
   "source": [
    "# `384x384 heat equation`"
   ],
   "metadata": {}
  },
  {
   "cell_type": "code",
   "execution_count": null,
   "source": [
    "from bench_zypy import heat2d_zypy\r\n",
    "profiler = Profiler()\r\n",
    "\r\n",
    "with profiler():\r\n",
    "    z384 = heat2d_zypy(384, 384)\r\n",
    "\r\n",
    "profiler.dump_stats('output/heat2d_384_zypy.prof')"
   ],
   "outputs": [],
   "metadata": {}
  },
  {
   "cell_type": "code",
   "execution_count": null,
   "source": [
    "from bench_numpy import heat2d_numpy\r\n",
    "profiler = Profiler()\r\n",
    "\r\n",
    "with profiler():\r\n",
    "    n384 = heat2d_numpy(384, 384)\r\n",
    "\r\n",
    "profiler.dump_stats('output/heat2d_384_numpy.prof')"
   ],
   "outputs": [],
   "metadata": {}
  },
  {
   "cell_type": "markdown",
   "source": [
    "# `512x512 heat equation`"
   ],
   "metadata": {}
  },
  {
   "cell_type": "code",
   "execution_count": null,
   "source": [
    "from bench_zypy import heat2d_zypy\r\n",
    "profiler = Profiler()\r\n",
    "\r\n",
    "with profiler():\r\n",
    "    z512 = heat2d_zypy(512, 512)\r\n",
    "\r\n",
    "profiler.dump_stats('output/heat2d_512_zypy.prof')"
   ],
   "outputs": [],
   "metadata": {}
  },
  {
   "cell_type": "code",
   "execution_count": null,
   "source": [
    "from bench_numpy import heat2d_numpy\r\n",
    "profiler = Profiler()\r\n",
    "\r\n",
    "with profiler():\r\n",
    "    n512 = heat2d_numpy(512, 512)\r\n",
    "\r\n",
    "profiler.dump_stats('output/heat2d_512_numpy.prof')"
   ],
   "outputs": [],
   "metadata": {}
  }
 ],
 "metadata": {
  "kernelspec": {
   "display_name": "perf_env/Python 3",
   "language": "python",
   "name": "python3"
  },
  "language_info": {
   "codemirror_mode": {
    "name": "ipython",
    "version": 3
   },
   "file_extension": ".py",
   "mimetype": "text/x-python",
   "name": "python",
   "nbconvert_exporter": "python",
   "pygments_lexer": "ipython3",
   "version": "3.7.0b3"
  }
 },
 "nbformat": 4,
 "nbformat_minor": 2
}