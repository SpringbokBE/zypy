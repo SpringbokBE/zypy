{
 "cells": [
  {
   "cell_type": "markdown",
   "metadata": {},
   "source": [
    "# MMIO example: DMA loopback"
   ]
  },
  {
   "cell_type": "markdown",
   "metadata": {},
   "source": [
    "This notebook illustrates the use of MMIO to communicate with the PL part of the PYNQ-Z2 board. This can be achieved at different levels of abstraction and speedup: (i) using PYNQ, (ii) using MMIO in Python and (iii) using MMIO in C++ with pybind11. The simple, example block design consists of a DMA component in a loopback configuration, which means that the DMA can offload a ``memcpy`` from the CPU to the PL."
   ]
  },
  {
   "cell_type": "markdown",
   "metadata": {},
   "source": [
    "First, we load the bitstream, allocate the source and destination buffers ``A`` and ``B`` and fill the source buffer with random data:"
   ]
  },
  {
   "cell_type": "code",
   "execution_count": 2,
   "metadata": {},
   "outputs": [
    {
     "data": {
      "application/javascript": [
       "\n",
       "try {\n",
       "require(['notebook/js/codecell'], function(codecell) {\n",
       "  codecell.CodeCell.options_default.highlight_modes[\n",
       "      'magic_text/x-csrc'] = {'reg':[/^%%microblaze/]};\n",
       "  Jupyter.notebook.events.one('kernel_ready.Kernel', function(){\n",
       "      Jupyter.notebook.get_cells().map(function(cell){\n",
       "          if (cell.cell_type == 'code'){ cell.auto_highlight(); } }) ;\n",
       "  });\n",
       "});\n",
       "} catch (e) {};\n"
      ]
     },
     "metadata": {},
     "output_type": "display_data"
    },
    {
     "data": {
      "application/javascript": [
       "\n",
       "try {\n",
       "require(['notebook/js/codecell'], function(codecell) {\n",
       "  codecell.CodeCell.options_default.highlight_modes[\n",
       "      'magic_text/x-csrc'] = {'reg':[/^%%pybind11/]};\n",
       "  Jupyter.notebook.events.one('kernel_ready.Kernel', function(){\n",
       "      Jupyter.notebook.get_cells().map(function(cell){\n",
       "          if (cell.cell_type == 'code'){ cell.auto_highlight(); } }) ;\n",
       "  });\n",
       "});\n",
       "} catch (e) {};\n"
      ]
     },
     "metadata": {},
     "output_type": "display_data"
    },
    {
     "name": "stdout",
     "output_type": "stream",
     "text": [
      "[21189 87074 76249 52193   913 32379 59394 58368  9113 59281  8695 78441\n",
      " 52855 12167  2119 56823 33859 18304 87992 10914 66148 24318  2076 65445\n",
      " 57213 96738 88649 38616 92120 38474 55263 61291]\n"
     ]
    }
   ],
   "source": [
    "from pynq import Overlay, allocate\n",
    "import numpy as np\n",
    "\n",
    "overlay = Overlay(\"/home/xilinx/overlays/dma_loopback_1.bit\")\n",
    "A = allocate(shape=(2**5,), dtype=\"u4\")\n",
    "B = allocate(shape=(2**5,), dtype=\"u4\")\n",
    "A[:] = np.random.randint(100000, size=A.shape)\n",
    "print(A)"
   ]
  },
  {
   "cell_type": "markdown",
   "metadata": {},
   "source": [
    "# (i) PYNQ"
   ]
  },
  {
   "cell_type": "markdown",
   "metadata": {},
   "source": [
    "First we illustrate the ``memcpy`` functionality in pure PYNQ. We clear the destination buffer ``B`` to make sure the copy takes place:"
   ]
  },
  {
   "cell_type": "code",
   "execution_count": 3,
   "metadata": {},
   "outputs": [
    {
     "name": "stdout",
     "output_type": "stream",
     "text": [
      "[0 0 0 0 0 0 0 0 0 0 0 0 0 0 0 0 0 0 0 0 0 0 0 0 0 0 0 0 0 0 0 0]\n"
     ]
    }
   ],
   "source": [
    "B[:] = 0\n",
    "print(B)"
   ]
  },
  {
   "cell_type": "markdown",
   "metadata": {},
   "source": [
    "We see that the data is successfully copied into B when the DMA transfers are done:"
   ]
  },
  {
   "cell_type": "code",
   "execution_count": 4,
   "metadata": {},
   "outputs": [
    {
     "name": "stdout",
     "output_type": "stream",
     "text": [
      "[21189 87074 76249 52193   913 32379 59394 58368  9113 59281  8695 78441\n",
      " 52855 12167  2119 56823 33859 18304 87992 10914 66148 24318  2076 65445\n",
      " 57213 96738 88649 38616 92120 38474 55263 61291]\n"
     ]
    }
   ],
   "source": [
    "overlay.axi_dma_0.sendchannel.transfer(A)\n",
    "overlay.axi_dma_0.recvchannel.transfer(B)\n",
    "overlay.axi_dma_0.recvchannel.wait()\n",
    "print(B)"
   ]
  },
  {
   "cell_type": "markdown",
   "metadata": {},
   "source": [
    "# (b) MMIO in Python"
   ]
  },
  {
   "cell_type": "markdown",
   "metadata": {},
   "source": [
    "We can speedup the PYNQ implementation by stripping off some of the checks and generic functionality. For more information on mmap'ing `/dev/mem`, see [this](https://unix.stackexchange.com/questions/167948/how-does-mmaping-dev-mem-work-despite-being-from-unprivileged-mode) StackExchange thread."
   ]
  },
  {
   "cell_type": "code",
   "execution_count": 5,
   "metadata": {},
   "outputs": [],
   "source": [
    "def mmap(base_addr, length):\n",
    "    import mmap, os\n",
    "    # Align the base address with the pages\n",
    "    virt_base = base_addr & ~(mmap.PAGESIZE - 1)\n",
    "\n",
    "    # Calculate base address offset w.r.t the base address\n",
    "    virt_offset = base_addr - virt_base\n",
    "\n",
    "    # Open file and mmap\n",
    "    mmap_file = os.open('/dev/mem', os.O_RDWR | os.O_SYNC)\n",
    "    mem = mmap.mmap(mmap_file, length + virt_offset, mmap.MAP_SHARED, mmap.PROT_READ | mmap.PROT_WRITE, offset=virt_base)\n",
    "    os.close(mmap_file)\n",
    "    array = np.frombuffer(mem, np.uint32, length >> 2, virt_offset)\n",
    "    \n",
    "    return array\n",
    "\n",
    "def write(array, offset, data):\n",
    "    assert not offset % 4, \"Unaligned write: offset must be multiple of 4!\"\n",
    "    i = offset >> 2\n",
    "    array[i] = np.uint32(data)  # We assume the data is uint32\n",
    "    \n",
    "def read(array, offset):\n",
    "    assert not offset % 4, \"Unaligned read: offset must be multiple of 4!\"\n",
    "    i = offset >> 2\n",
    "    return int(array[i]) & 0xffffffff"
   ]
  },
  {
   "cell_type": "markdown",
   "metadata": {},
   "source": [
    "Again, we clear the ``B`` buffer to make sure the ``memcpy`` is successful:"
   ]
  },
  {
   "cell_type": "code",
   "execution_count": 6,
   "metadata": {},
   "outputs": [
    {
     "name": "stdout",
     "output_type": "stream",
     "text": [
      "[0 0 0 0 0 0 0 0 0 0 0 0 0 0 0 0 0 0 0 0 0 0 0 0 0 0 0 0 0 0 0 0]\n"
     ]
    }
   ],
   "source": [
    "B[:] = 0\n",
    "print(B)"
   ]
  },
  {
   "cell_type": "markdown",
   "metadata": {},
   "source": [
    "We ``mmap`` the send and receive channel of the DMA component separately:"
   ]
  },
  {
   "cell_type": "code",
   "execution_count": 7,
   "metadata": {},
   "outputs": [],
   "source": [
    "dma_send_vaddr = mmap(overlay.axi_dma_0.sendchannel._mmio.base_addr, overlay.axi_dma_0.sendchannel._mmio.length)\n",
    "dma_recv_vaddr = mmap(overlay.axi_dma_0.recvchannel._mmio.base_addr, overlay.axi_dma_0.recvchannel._mmio.length)"
   ]
  },
  {
   "cell_type": "markdown",
   "metadata": {},
   "source": [
    "We see that the data is successfully copied into B when the DMA transfers are done:"
   ]
  },
  {
   "cell_type": "code",
   "execution_count": 8,
   "metadata": {},
   "outputs": [
    {
     "name": "stdout",
     "output_type": "stream",
     "text": [
      "[21189 87074 76249 52193   913 32379 59394 58368  9113 59281  8695 78441\n",
      " 52855 12167  2119 56823 33859 18304 87992 10914 66148 24318  2076 65445\n",
      " 57213 96738 88649 38616 92120 38474 55263 61291]\n"
     ]
    }
   ],
   "source": [
    "write(dma_send_vaddr, 0x00, 0x0001)  # Start sendchannel\n",
    "while not read(dma_send_vaddr, 0x04) & 0x01 == 0x00: # Wait for startup\n",
    "    pass\n",
    "\n",
    "\n",
    "write(dma_recv_vaddr, 0x30, 0x0001)  # Start recvchannel\n",
    "while not read(dma_recv_vaddr, 0x34) & 0x01 == 0x00: # Wait for startup\n",
    "    pass\n",
    "\n",
    "# Send A\n",
    "A.flush()\n",
    "write(dma_send_vaddr, 0x18, A.physical_address & 0xffffffff)\n",
    "write(dma_send_vaddr, 0x1c, (A.physical_address >> 32) & 0xffffffff)\n",
    "write(dma_send_vaddr, 0x28, A.nbytes)\n",
    "while not read(dma_send_vaddr, 0x04) & 0x02 == 0x02: # Wait for idle\n",
    "    pass\n",
    "\n",
    "# Receive B\n",
    "write(dma_recv_vaddr, 0x48, B.physical_address & 0xffffffff)\n",
    "write(dma_recv_vaddr, 0x4c, (B.physical_address >> 32) & 0xffffffff)\n",
    "write(dma_recv_vaddr, 0x58, B.nbytes)\n",
    "while not read(dma_recv_vaddr, 0x34) & 0x02 == 0x02: # Wait for idle\n",
    "    pass\n",
    "\n",
    "print(B)"
   ]
  },
  {
   "cell_type": "code",
   "execution_count": 9,
   "metadata": {},
   "outputs": [
    {
     "name": "stdout",
     "output_type": "stream",
     "text": [
      "377786368\n",
      "377786368\n"
     ]
    }
   ],
   "source": [
    "write(dma_send_vaddr, 0x18, A.physical_address & 0xffffffff)\n",
    "write(dma_send_vaddr, 0x1c, (A.physical_address >> 32) & 0xffffffff)\n",
    "print(A.physical_address)\n",
    "print(read(dma_send_vaddr, 0x18))"
   ]
  },
  {
   "cell_type": "markdown",
   "metadata": {},
   "source": [
    "# (c) C++ (`pybind11`, `mmap`)"
   ]
  },
  {
   "cell_type": "markdown",
   "metadata": {},
   "source": [
    "We can now write a C++ extension using ``pybind11`` that does the ``mmap``'ing directly in C++ and through which we can pass the parameters of the DMA and the buffers. First we clear the destination buffer and we verify that the ``A`` and ``B`` buffers can be accessed using their physical address by checking out a dump of the physical memory:"
   ]
  },
  {
   "cell_type": "code",
   "execution_count": 9,
   "metadata": {},
   "outputs": [
    {
     "name": "stdout",
     "output_type": "stream",
     "text": [
      "[0 0 0 0 0 0 0 0 0 0 0 0 0 0 0 0 0 0 0 0 0 0 0 0 0 0 0 0 0 0 0 0]\n"
     ]
    }
   ],
   "source": [
    "B[:] = 0\n",
    "print(B)"
   ]
  },
  {
   "cell_type": "code",
   "execution_count": 10,
   "metadata": {
    "scrolled": false
   },
   "outputs": [
    {
     "name": "stdout",
     "output_type": "stream",
     "text": [
      "1684b000  0e 1c 00 00 7f 8a 00 00  6e 12 01 00 e3 56 01 00  |........n....V..|\n",
      "1684b010  10 5f 00 00 64 d0 00 00  36 70 01 00 5d 83 00 00  |._..d...6p..]...|\n",
      "1684b020  08 09 01 00 98 ca 00 00  9c 2e 00 00 e9 5c 00 00  |.............\\..|\n",
      "1684b030  ee f5 00 00 7f 00 00 00  30 71 01 00 5f 10 00 00  |........0q.._...|\n",
      "1684b040  9c 50 00 00 6f db 00 00  fc 56 00 00 13 2c 00 00  |.P..o....V...,..|\n",
      "1684b050  e5 11 00 00 92 30 00 00  96 ba 00 00 fa 50 01 00  |.....0.......P..|\n",
      "1684b060  b1 32 00 00 12 08 01 00  02 5f 00 00 e9 49 01 00  |.2......._...I..|\n",
      "1684b070  7c 2d 01 00 b9 5b 01 00  74 23 01 00 54 60 00 00  ||-...[..t#..T`..|\n",
      "1684b080  00 00 00 00 00 00 00 00  00 00 00 00 00 00 00 00  |................|\n",
      "*\n",
      "\n"
     ]
    }
   ],
   "source": [
    "import subprocess\n",
    "cmd = f\"hexdump -C -s {A.physical_address} /dev/mem | head\"\n",
    "print(subprocess.check_output(cmd, shell=True).decode(\"utf-8\"))"
   ]
  },
  {
   "cell_type": "code",
   "execution_count": 11,
   "metadata": {
    "scrolled": false
   },
   "outputs": [
    {
     "name": "stdout",
     "output_type": "stream",
     "text": [
      "1684c000  00 00 00 00 00 00 00 00  00 00 00 00 00 00 00 00  |................|\n",
      "*\n",
      "1684d000  17 00 00 00 00 00 00 00  e0 f4 97 b3 00 00 00 00  |................|\n",
      "1684d010  e0 81 86 b6 f8 81 86 b6  00 00 00 00 46 62 01 00  |............Fb..|\n",
      "1684d020  00 00 19 00 0a 00 00 00  ff ff ff ff 00 00 00 00  |................|\n",
      "1684d030  00 00 00 00 00 00 00 00  60 7f 98 b3 00 00 00 00  |........`.......|\n",
      "1684d040  00 7f 98 b3 00 00 00 00  00 00 00 00 00 00 00 00  |................|\n",
      "1684d050  88 b5 98 b3 00 00 00 00  e0 e1 c5 b3 90 33 96 b6  |.............3..|\n",
      "1684d060  0a 00 10 00 00 01 00 00  40 28 98 b3 00 00 00 00  |........@(......|\n",
      "1684d070  d8 0f 85 b6 00 80 86 b6  00 00 00 00 47 62 01 00  |............Gb..|\n",
      "\n"
     ]
    }
   ],
   "source": [
    "import subprocess\n",
    "cmd = f\"hexdump -C -s {B.physical_address} /dev/mem | head\"\n",
    "print(subprocess.check_output(cmd, shell=True).decode(\"utf-8\"))"
   ]
  },
  {
   "cell_type": "code",
   "execution_count": 13,
   "metadata": {},
   "outputs": [],
   "source": [
    "%%pybind11 mmap_cpp_dma_2_x\n",
    "\n",
    "#include <unistd.h>\n",
    "#include <fcntl.h>\n",
    "#include <termios.h>\n",
    "#include <sys/mman.h>\n",
    "\n",
    "#define MM2S_DMACR 0x00\n",
    "#define MM2S_DMACR_RS 0x00000001\n",
    "#define MM2S_DMACR_Reset 0x00000004\n",
    "#define MM2S_DMASR 0x04\n",
    "#define MM2S_DMASR_Halted 0x00000001\n",
    "#define MM2S_DMASR_Idle 0x00000002\n",
    "#define MM2S_SA 0x18\n",
    "#define MM2S_SA_MSB 0x1c\n",
    "#define MM2S_LENGTH 0x28\n",
    "\n",
    "#define S2MM_DMACR 0x30\n",
    "#define S2MM_DMACR_RS 0x00000001\n",
    "#define S2MM_DMACR_Reset 0x00000004\n",
    "#define S2MM_DMASR 0x34\n",
    "#define S2MM_DMASR_Halted 0x00000001\n",
    "#define S2MM_DMASR_Idle 0x00000002\n",
    "#define S2MM_DA 0x48\n",
    "#define S2MM_DA_MSB 0x4c\n",
    "#define S2MM_LENGTH 0x58\n",
    "\n",
    "#define dma_get(x) DMA_VADDR[x >> 2]\n",
    "#define dma_set(x, y) DMA_VADDR[x >> 2] = y\n",
    "\n",
    "void transfer(unsigned int dma_addr, unsigned int A_addr, unsigned int B_addr, unsigned int dma_length)\n",
    "{\n",
    "    int fd = open(\"/dev/mem\", O_RDWR | O_SYNC);\n",
    "    volatile unsigned int *DMA_VADDR = (volatile unsigned int *) mmap(NULL, 65535, PROT_READ | PROT_WRITE, MAP_SHARED, fd, dma_addr);\n",
    "\n",
    "    dma_set(S2MM_DMACR, S2MM_DMACR_Reset);\n",
    "    dma_set(MM2S_DMACR, MM2S_DMACR_Reset);\n",
    "    \n",
    "    dma_set(S2MM_DMACR, S2MM_DMACR_RS);\n",
    "    dma_set(MM2S_DMACR, MM2S_DMACR_RS);\n",
    "    \n",
    "    dma_set(MM2S_SA, A_addr);\n",
    "    dma_set(MM2S_LENGTH, dma_length);\n",
    "    \n",
    "    dma_set(S2MM_DA, B_addr);\n",
    "    dma_set(S2MM_LENGTH, dma_length);\n",
    "    \n",
    "    while(!(dma_get(MM2S_DMASR) & MM2S_DMASR_Idle));\n",
    "    while(!(dma_get(S2MM_DMASR) & S2MM_DMASR_Idle));\n",
    "    \n",
    "    close(fd);\n",
    "}"
   ]
  },
  {
   "cell_type": "markdown",
   "metadata": {},
   "source": [
    "We now clear the ``B`` buffer and run the actual C++ extension that starts the DMA transfer. We see that the data is successfully copied into ``B`` when the DMA transfers are done:"
   ]
  },
  {
   "cell_type": "code",
   "execution_count": 14,
   "metadata": {},
   "outputs": [
    {
     "name": "stdout",
     "output_type": "stream",
     "text": [
      "[0 0 0 0 0 0 0 0 0 0 0 0 0 0 0 0 0 0 0 0 0 0 0 0 0 0 0 0 0 0 0 0]\n"
     ]
    }
   ],
   "source": [
    "B[:] = 0\n",
    "print(B)"
   ]
  },
  {
   "cell_type": "code",
   "execution_count": 15,
   "metadata": {},
   "outputs": [
    {
     "name": "stdout",
     "output_type": "stream",
     "text": [
      "[21189 87074 76249 52193   913 32379 59394 58368  9113 59281  8695 78441\n",
      " 52855 12167  2119 56823 33859 18304 87992 10914 66148 24318  2076 65445\n",
      " 57213 96738 88649 38616 92120 38474 55263 61291]\n"
     ]
    }
   ],
   "source": [
    "import mmap_cpp_dma_2_x as dma\n",
    "\n",
    "dma.transfer(overlay.axi_dma_0.sendchannel._mmio.base_addr, A.physical_address, B.physical_address, A.nbytes)\n",
    "\n",
    "print(B)"
   ]
  },
  {
   "cell_type": "markdown",
   "metadata": {},
   "source": [
    "# (d) C (``CFFI``, ``mmap``)"
   ]
  },
  {
   "cell_type": "code",
   "execution_count": 15,
   "metadata": {},
   "outputs": [
    {
     "name": "stdout",
     "output_type": "stream",
     "text": [
      "generating ./_example.c\n",
      "the current directory is '/home/xilinx/jupyter_notebooks/thesis'\n",
      "running build_ext\n",
      "building '_example' extension\n",
      "arm-linux-gnueabihf-gcc -pthread -DNDEBUG -g -fwrapv -O2 -Wall -Wstrict-prototypes -g -fdebug-prefix-map=/build/python3.7-2QTFw6/python3.7-3.7.0~b3=. -fstack-protector-strong -Wformat -Werror=format-security -Wdate-time -D_FORTIFY_SOURCE=2 -fPIC -I/home/xilinx/perf_env/include -I/usr/include/python3.7m -c _example.c -o ./_example.o\n",
      "arm-linux-gnueabihf-gcc -pthread -shared -Wl,-O1 -Wl,-Bsymbolic-functions -Wl,-Bsymbolic-functions -Wl,-z,relro -Wl,-Bsymbolic-functions -Wl,-z,relro -g -fdebug-prefix-map=/build/python3.7-2QTFw6/python3.7-3.7.0~b3=. -fstack-protector-strong -Wformat -Werror=format-security -Wdate-time -D_FORTIFY_SOURCE=2 ./_example.o -o ./_example.cpython-37m-arm-linux-gnueabihf.so\n"
     ]
    }
   ],
   "source": [
    "from cffi import FFI\n",
    "ffibuilder = FFI()\n",
    "\n",
    "ffibuilder.cdef(\"void transfer(unsigned int, unsigned int, unsigned int, unsigned int);\")\n",
    "\n",
    "ffibuilder.set_source(\"_example\",\n",
    "r\"\"\"\n",
    "#include <unistd.h>\n",
    "#include <fcntl.h>\n",
    "#include <termios.h>\n",
    "#include <sys/mman.h>\n",
    "\n",
    "#define MM2S_DMACR 0x00\n",
    "#define MM2S_DMACR_RS 0x00000001\n",
    "#define MM2S_DMACR_Reset 0x00000004\n",
    "#define MM2S_DMASR 0x04\n",
    "#define MM2S_DMASR_Halted 0x00000001\n",
    "#define MM2S_DMASR_Idle 0x00000002\n",
    "#define MM2S_SA 0x18\n",
    "#define MM2S_SA_MSB 0x1c\n",
    "#define MM2S_LENGTH 0x28\n",
    "\n",
    "#define S2MM_DMACR 0x30\n",
    "#define S2MM_DMACR_RS 0x00000001\n",
    "#define S2MM_DMACR_Reset 0x00000004\n",
    "#define S2MM_DMASR 0x34\n",
    "#define S2MM_DMASR_Halted 0x00000001\n",
    "#define S2MM_DMASR_Idle 0x00000002\n",
    "#define S2MM_DA 0x48\n",
    "#define S2MM_DA_MSB 0x4c\n",
    "#define S2MM_LENGTH 0x58\n",
    "\n",
    "#define dma_get(x) DMA_VADDR[x >> 2]\n",
    "#define dma_set(x, y) DMA_VADDR[x >> 2] = y\n",
    "\n",
    "void transfer(unsigned int dma_addr, unsigned int A_addr, unsigned int B_addr, unsigned int dma_length)\n",
    "{\n",
    "    int fd = open(\"/dev/mem\", O_RDWR | O_SYNC);\n",
    "    volatile unsigned int *DMA_VADDR = (volatile unsigned int *) mmap(NULL, 65535, PROT_READ | PROT_WRITE, MAP_SHARED, fd, dma_addr);\n",
    "\n",
    "    dma_set(S2MM_DMACR, S2MM_DMACR_Reset);\n",
    "    dma_set(MM2S_DMACR, MM2S_DMACR_Reset);\n",
    "    \n",
    "    dma_set(S2MM_DMACR, S2MM_DMACR_RS);\n",
    "    dma_set(MM2S_DMACR, MM2S_DMACR_RS);\n",
    "    \n",
    "    dma_set(MM2S_SA, A_addr);\n",
    "    dma_set(MM2S_LENGTH, dma_length);\n",
    "    \n",
    "    dma_set(S2MM_DA, B_addr);\n",
    "    dma_set(S2MM_LENGTH, dma_length);\n",
    "    \n",
    "    while(!(dma_get(MM2S_DMASR) & MM2S_DMASR_Idle));\n",
    "    while(!(dma_get(S2MM_DMASR) & S2MM_DMASR_Idle));\n",
    "    \n",
    "    close(fd);\n",
    "}\n",
    "\"\"\")\n",
    "\n",
    "if __name__ == \"__main__\":\n",
    "    ffibuilder.compile(verbose=True)"
   ]
  },
  {
   "cell_type": "code",
   "execution_count": 16,
   "metadata": {
    "scrolled": true
   },
   "outputs": [
    {
     "name": "stdout",
     "output_type": "stream",
     "text": [
      "[0 0 0 0 0 0 0 0 0 0 0 0 0 0 0 0 0 0 0 0 0 0 0 0 0 0 0 0 0 0 0 0]\n"
     ]
    }
   ],
   "source": [
    "B[:] = 0\n",
    "print(B)"
   ]
  }
 ],
 "metadata": {
  "kernelspec": {
   "display_name": "perf_env/Python 3",
   "language": "python",
   "name": "python3"
  },
  "language_info": {
   "codemirror_mode": {
    "name": "ipython",
    "version": 3
   },
   "file_extension": ".py",
   "mimetype": "text/x-python",
   "name": "python",
   "nbconvert_exporter": "python",
   "pygments_lexer": "ipython3",
   "version": "3.7.0b3"
  }
 },
 "nbformat": 4,
 "nbformat_minor": 2
}
