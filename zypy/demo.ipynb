{
 "cells": [
  {
   "cell_type": "markdown",
   "metadata": {},
   "source": [
    "# Introduction"
   ]
  },
  {
   "cell_type": "code",
   "execution_count": 7,
   "metadata": {},
   "outputs": [
    {
     "name": "stdout",
     "output_type": "stream",
     "text": [
      "[0.000e+00 1.000e+00 2.000e+00 ... 9.997e+03 9.998e+03 9.999e+03]\n",
      "[0.000e+00 1.000e+00 2.000e+00 ... 9.997e+03 9.998e+03 9.999e+03]\n"
     ]
    }
   ],
   "source": [
    "import zypy_debug as zp\n",
    "\n",
    "x1 = zp.allocate(shape=(10000,), dtype=\"f4\")\n",
    "x1[:] = zp.arange(x1.size)\n",
    "\n",
    "x2 = zp.allocate(shape=(10000,), dtype=\"f4\")\n",
    "x2[:] = zp.arange(x2.size)\n",
    "\n",
    "print(x1)\n",
    "print(x2)"
   ]
  },
  {
   "cell_type": "code",
   "execution_count": 8,
   "metadata": {
    "scrolled": true
   },
   "outputs": [
    {
     "name": "stdout",
     "output_type": "stream",
     "text": [
      "ufunc `add.__call__` called\n",
      "Checking implementation `/home/xilinx/jupyter_notebooks/zypy/overlays/ufunc_call_f4.bit`\n",
      "Bitfile loaded = False\n",
      "Checking implementation `/home/xilinx/jupyter_notebooks/zypy/overlays/ufunc_call_i4.bit`\n",
      "Running default\n"
     ]
    },
    {
     "data": {
      "text/plain": [
       "array([0.0000e+00, 2.0000e+00, 4.0000e+00, ..., 1.9994e+04, 1.9996e+04,\n",
       "       1.9998e+04], dtype=float32)"
      ]
     },
     "execution_count": 8,
     "metadata": {},
     "output_type": "execute_result"
    }
   ],
   "source": [
    "x1 + x2"
   ]
  },
  {
   "cell_type": "code",
   "execution_count": 9,
   "metadata": {},
   "outputs": [
    {
     "name": "stdout",
     "output_type": "stream",
     "text": [
      "Downloading bitfile `/home/xilinx/jupyter_notebooks/zypy/overlays/ufunc_call_f4.bit`\n"
     ]
    },
    {
     "data": {
      "text/plain": [
       "'/home/xilinx/jupyter_notebooks/zypy/overlays/ufunc_call_f4.bit'"
      ]
     },
     "execution_count": 9,
     "metadata": {},
     "output_type": "execute_result"
    }
   ],
   "source": [
    "zp.hint(\"add.__call__\", x1, x2)"
   ]
  },
  {
   "cell_type": "code",
   "execution_count": 10,
   "metadata": {
    "scrolled": true
   },
   "outputs": [
    {
     "name": "stdout",
     "output_type": "stream",
     "text": [
      "ufunc `add.__call__` called\n",
      "Checking implementation `/home/xilinx/jupyter_notebooks/zypy/overlays/ufunc_call_f4.bit`\n",
      "Bitfile loaded = True\n",
      "`add.__call__` can be accelerated using driver `<function ZyPy.add_call_f4_cffi at 0xb00dca08>`\n",
      "Allocated fresh `out` argument\n",
      "Runnning hardware accelerator!\n"
     ]
    },
    {
     "data": {
      "text/plain": [
       "PynqBuffer([0.0000e+00, 2.0000e+00, 4.0000e+00, ..., 1.9994e+04,\n",
       "            1.9996e+04, 1.9998e+04], dtype=float32)"
      ]
     },
     "execution_count": 10,
     "metadata": {},
     "output_type": "execute_result"
    }
   ],
   "source": [
    "x1 + x2"
   ]
  },
  {
   "cell_type": "markdown",
   "metadata": {},
   "source": [
    "# Other operations"
   ]
  },
  {
   "cell_type": "code",
   "execution_count": 11,
   "metadata": {},
   "outputs": [
    {
     "name": "stdout",
     "output_type": "stream",
     "text": [
      "Downloading bitfile `/home/xilinx/jupyter_notebooks/zypy/overlays/ufunc_reduce_all_f4.bit`\n",
      "ufunc `add.reduce` called\n",
      "Checking implementation `/home/xilinx/jupyter_notebooks/zypy/overlays/ufunc_reduce_all_f4.bit`\n",
      "Bitfile loaded = True\n",
      "`add.reduce` can be accelerated using driver `<function ZyPy.add_reduce_all_f4_cffi at 0xaf579f18>`\n",
      "Runnning hardware accelerator!\n",
      "49995000.0\n"
     ]
    }
   ],
   "source": [
    "zp.hint(\"add.reduce\", x1, axis=None)\n",
    "print(zp.add.reduce(x1, axis=None))"
   ]
  },
  {
   "cell_type": "code",
   "execution_count": 12,
   "metadata": {},
   "outputs": [
    {
     "name": "stdout",
     "output_type": "stream",
     "text": [
      "Downloading bitfile `/home/xilinx/jupyter_notebooks/zypy/overlays/ufunc_reduce_all_f4.bit`\n",
      "method `<class 'numpy.ufunc'>` called\n",
      "Checking implementation `/home/xilinx/jupyter_notebooks/zypy/overlays/ufunc_reduce_all_f4.bit`\n",
      "Bitfile loaded = True\n",
      "`dot` can be accelerated using driver `<function ZyPy.dot_f4_cffi at 0xaf4fd108>`\n",
      "Runnning hardware accelerator (pre-alloc)!\n"
     ]
    },
    {
     "data": {
      "text/plain": [
       "333283328000.0"
      ]
     },
     "execution_count": 12,
     "metadata": {},
     "output_type": "execute_result"
    }
   ],
   "source": [
    "zp.hint(\"dot\", x1, x2)\n",
    "zp.dot(x1, x2)"
   ]
  },
  {
   "cell_type": "code",
   "execution_count": null,
   "metadata": {},
   "outputs": [],
   "source": []
  }
 ],
 "metadata": {
  "kernelspec": {
   "display_name": "perf_env/Python 3",
   "language": "python",
   "name": "python3"
  },
  "language_info": {
   "codemirror_mode": {
    "name": "ipython",
    "version": 3
   },
   "file_extension": ".py",
   "mimetype": "text/x-python",
   "name": "python",
   "nbconvert_exporter": "python",
   "pygments_lexer": "ipython3",
   "version": "3.7.0b3"
  }
 },
 "nbformat": 4,
 "nbformat_minor": 2
}
