{
 "cells": [
  {
   "cell_type": "markdown",
   "metadata": {},
   "source": [
    "# Timing analysis: Variable-size matrix multiplication"
   ]
  },
  {
   "cell_type": "code",
   "execution_count": 1,
   "metadata": {},
   "outputs": [
    {
     "data": {
      "application/javascript": [
       "\n",
       "try {\n",
       "require(['notebook/js/codecell'], function(codecell) {\n",
       "  codecell.CodeCell.options_default.highlight_modes[\n",
       "      'magic_text/x-csrc'] = {'reg':[/^%%microblaze/]};\n",
       "  Jupyter.notebook.events.one('kernel_ready.Kernel', function(){\n",
       "      Jupyter.notebook.get_cells().map(function(cell){\n",
       "          if (cell.cell_type == 'code'){ cell.auto_highlight(); } }) ;\n",
       "  });\n",
       "});\n",
       "} catch (e) {};\n"
      ]
     },
     "metadata": {},
     "output_type": "display_data"
    },
    {
     "data": {
      "application/javascript": [
       "\n",
       "try {\n",
       "require(['notebook/js/codecell'], function(codecell) {\n",
       "  codecell.CodeCell.options_default.highlight_modes[\n",
       "      'magic_text/x-csrc'] = {'reg':[/^%%pybind11/]};\n",
       "  Jupyter.notebook.events.one('kernel_ready.Kernel', function(){\n",
       "      Jupyter.notebook.get_cells().map(function(cell){\n",
       "          if (cell.cell_type == 'code'){ cell.auto_highlight(); } }) ;\n",
       "  });\n",
       "});\n",
       "} catch (e) {};\n"
      ]
     },
     "metadata": {},
     "output_type": "display_data"
    }
   ],
   "source": [
    "from pynq import Overlay, allocate\n",
    "import numpy as np\n",
    "import mmul\n",
    "\n",
    "overlay = Overlay(\"/home/xilinx/overlays/mmul_v2_64.bit\")\n",
    "\n",
    "L, M, N = 20, 21, 22\n",
    "\n",
    "A = allocate(shape=(L,M), dtype=\"u4\")\n",
    "B = allocate(shape=(M,N), dtype=\"u4\")\n",
    "\n",
    "A[:] = np.arange(1,L * M + 1).reshape(L, M)\n",
    "B[:] = np.arange(1,M * N + 1).reshape(M, N)"
   ]
  },
  {
   "cell_type": "code",
   "execution_count": 2,
   "metadata": {},
   "outputs": [],
   "source": [
    "%%pybind11 mmul\n",
    "\n",
    "#include <unistd.h>\n",
    "#include <fcntl.h>\n",
    "#include <termios.h>\n",
    "#include <sys/mman.h>\n",
    "\n",
    "#define MM2S_DMACR 0x00\n",
    "#define MM2S_DMACR_RS 0x00000001\n",
    "#define MM2S_DMACR_Reset 0x00000004\n",
    "#define MM2S_DMASR 0x04\n",
    "#define MM2S_DMASR_Halted 0x00000001\n",
    "#define MM2S_DMASR_Idle 0x00000002\n",
    "#define MM2S_SA 0x18\n",
    "#define MM2S_SA_MSB 0x1c\n",
    "#define MM2S_LENGTH 0x28\n",
    "\n",
    "#define S2MM_DMACR 0x30\n",
    "#define S2MM_DMACR_RS 0x00000001\n",
    "#define S2MM_DMACR_Reset 0x00000004\n",
    "#define S2MM_DMASR 0x34\n",
    "#define S2MM_DMASR_Halted 0x00000001\n",
    "#define S2MM_DMASR_Idle 0x00000002\n",
    "#define S2MM_DA 0x48\n",
    "#define S2MM_DA_MSB 0x4c\n",
    "#define S2MM_LENGTH 0x58\n",
    "\n",
    "#define printf py::print\n",
    "\n",
    "#define dma_get(x) DMA_VADDR[x >> 2]\n",
    "#define dma_set(x, y) DMA_VADDR[x >> 2] = y\n",
    "\n",
    "#define mmul_set_L(x) MMUL_VADDR[0x10 >> 2] = x\n",
    "#define mmul_set_M(x) MMUL_VADDR[0x18 >> 2] = x\n",
    "#define mmul_set_N(x) MMUL_VADDR[0x20 >> 2] = x\n",
    "#define mmul_start() MMUL_VADDR[0x00 >> 2] = 0x00000001\n",
    "\n",
    "void mmul(unsigned int DMA_addr, unsigned int MMUL_addr,\n",
    "          unsigned int L, unsigned int M, unsigned int N,\n",
    "          unsigned int A_addr, unsigned int BT_addr, unsigned int CT_addr)\n",
    "{\n",
    "    int fd = open(\"/dev/mem\", O_RDWR | O_SYNC);\n",
    "    volatile unsigned int *DMA_VADDR = (volatile unsigned int *) mmap(NULL, 65535, PROT_READ | PROT_WRITE, MAP_SHARED, fd, DMA_addr);\n",
    "    volatile unsigned int *MMUL_VADDR = (volatile unsigned int *) mmap(NULL, 65535, PROT_READ | PROT_WRITE, MAP_SHARED, fd, MMUL_addr);\n",
    "    \n",
    "    mmul_set_L(L);\n",
    "    mmul_set_M(M);\n",
    "    mmul_set_N(N);\n",
    "    mmul_start();\n",
    "    \n",
    "    dma_set(S2MM_DMACR, S2MM_DMACR_Reset);\n",
    "    dma_set(MM2S_DMACR, MM2S_DMACR_Reset);\n",
    "    \n",
    "    dma_set(S2MM_DMACR, S2MM_DMACR_RS);\n",
    "    dma_set(MM2S_DMACR, MM2S_DMACR_RS);\n",
    "    \n",
    "    dma_set(MM2S_SA, A_addr);\n",
    "    dma_set(MM2S_LENGTH, L*M*sizeof(unsigned int));\n",
    "    \n",
    "    while(!(dma_get(MM2S_DMASR) & MM2S_DMASR_Idle));\n",
    "    \n",
    "    dma_set(MM2S_SA, BT_addr);\n",
    "    dma_set(MM2S_LENGTH, N*M*sizeof(unsigned int));\n",
    "    \n",
    "    dma_set(S2MM_DA, CT_addr);\n",
    "    dma_set(S2MM_LENGTH, N*L*sizeof(unsigned int));\n",
    "    \n",
    "    while(!(dma_get(MM2S_DMASR) & MM2S_DMASR_Idle));\n",
    "    while(!(dma_get(S2MM_DMASR) & S2MM_DMASR_Idle));\n",
    "    \n",
    "    close(fd);\n",
    "}"
   ]
  },
  {
   "cell_type": "code",
   "execution_count": 3,
   "metadata": {},
   "outputs": [
    {
     "name": "stdout",
     "output_type": "stream",
     "text": [
      "5 loops, best of 10: 2.37 ms per loop\n"
     ]
    }
   ],
   "source": [
    "%%timeit -r 10 -n 5\n",
    "A@B"
   ]
  },
  {
   "cell_type": "code",
   "execution_count": 4,
   "metadata": {},
   "outputs": [
    {
     "name": "stdout",
     "output_type": "stream",
     "text": [
      "5 loops, best of 10: 41.3 ms per loop\n"
     ]
    }
   ],
   "source": [
    "%%timeit -r 10 -n 5\n",
    "BT = allocate(shape=B.shape[::-1], dtype=B.dtype)\n",
    "BT[:]=B.T\n",
    "\n",
    "CT = allocate(shape=(B.shape[1], A.shape[0]), dtype=\"u4\")\n",
    "mmul.mmul(overlay.axi_dma_0.sendchannel._mmio.base_addr, overlay.mmul_v2_0.mmio.base_addr,\n",
    "          L, M, N,\n",
    "          A.physical_address, BT.physical_address, CT.physical_address)"
   ]
  },
  {
   "cell_type": "code",
   "execution_count": 5,
   "metadata": {},
   "outputs": [
    {
     "name": "stdout",
     "output_type": "stream",
     "text": [
      "5 loops, best of 10: 1.65 ms per loop\n"
     ]
    }
   ],
   "source": [
    "%%timeit -r 10 -n 5\n",
    "BT = allocate(shape=B.shape[::-1], dtype=B.dtype)\n",
    "BT[:]=B.T\n",
    "\n",
    "CT = allocate(shape=(B.shape[1], A.shape[0]), dtype=\"u4\")"
   ]
  },
  {
   "cell_type": "code",
   "execution_count": 7,
   "metadata": {},
   "outputs": [],
   "source": [
    "BT = allocate(shape=B.shape[::-1], dtype=B.dtype)\n",
    "BT[:]=B.T\n",
    "\n",
    "CT = allocate(shape=(B.shape[1], A.shape[0]), dtype=\"u4\")"
   ]
  },
  {
   "cell_type": "code",
   "execution_count": 8,
   "metadata": {},
   "outputs": [
    {
     "name": "stdout",
     "output_type": "stream",
     "text": [
      "5 loops, best of 10: 39.5 ms per loop\n"
     ]
    }
   ],
   "source": [
    "%%timeit -r 10 -n 5\n",
    "\n",
    "mmul.mmul(overlay.axi_dma_0.sendchannel._mmio.base_addr, overlay.mmul_v2_0.mmio.base_addr,\n",
    "          L, M, N,\n",
    "          A.physical_address, BT.physical_address, CT.physical_address)"
   ]
  },
  {
   "cell_type": "code",
   "execution_count": 9,
   "metadata": {},
   "outputs": [
    {
     "name": "stdout",
     "output_type": "stream",
     "text": [
      "5 loops, best of 10: 107 µs per loop\n"
     ]
    }
   ],
   "source": [
    "%%timeit -r 10 -n 5\n",
    "\n",
    "mmul.mmul(0x40400000, 0x43c00000,\n",
    "          L, M, N,\n",
    "          A.physical_address, BT.physical_address, CT.physical_address)"
   ]
  },
  {
   "cell_type": "code",
   "execution_count": null,
   "metadata": {},
   "outputs": [],
   "source": []
  }
 ],
 "metadata": {
  "kernelspec": {
   "display_name": "Python 3",
   "language": "python",
   "name": "python3"
  },
  "language_info": {
   "codemirror_mode": {
    "name": "ipython",
    "version": 3
   },
   "file_extension": ".py",
   "mimetype": "text/x-python",
   "name": "python",
   "nbconvert_exporter": "python",
   "pygments_lexer": "ipython3",
   "version": "3.6.5"
  }
 },
 "nbformat": 4,
 "nbformat_minor": 2
}
