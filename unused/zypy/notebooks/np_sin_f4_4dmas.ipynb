{
 "cells": [
  {
   "cell_type": "markdown",
   "metadata": {},
   "source": [
    "# `np_sin_f4_4dmas`"
   ]
  },
  {
   "cell_type": "code",
   "execution_count": 1,
   "metadata": {},
   "outputs": [
    {
     "data": {
      "application/javascript": [
       "\n",
       "try {\n",
       "require(['notebook/js/codecell'], function(codecell) {\n",
       "  codecell.CodeCell.options_default.highlight_modes[\n",
       "      'magic_text/x-csrc'] = {'reg':[/^%%microblaze/]};\n",
       "  Jupyter.notebook.events.one('kernel_ready.Kernel', function(){\n",
       "      Jupyter.notebook.get_cells().map(function(cell){\n",
       "          if (cell.cell_type == 'code'){ cell.auto_highlight(); } }) ;\n",
       "  });\n",
       "});\n",
       "} catch (e) {};\n"
      ]
     },
     "metadata": {},
     "output_type": "display_data"
    },
    {
     "data": {
      "application/javascript": [
       "\n",
       "try {\n",
       "require(['notebook/js/codecell'], function(codecell) {\n",
       "  codecell.CodeCell.options_default.highlight_modes[\n",
       "      'magic_text/x-csrc'] = {'reg':[/^%%pybind11/]};\n",
       "  Jupyter.notebook.events.one('kernel_ready.Kernel', function(){\n",
       "      Jupyter.notebook.get_cells().map(function(cell){\n",
       "          if (cell.cell_type == 'code'){ cell.auto_highlight(); } }) ;\n",
       "  });\n",
       "});\n",
       "} catch (e) {};\n"
      ]
     },
     "metadata": {},
     "output_type": "display_data"
    }
   ],
   "source": [
    "from pynq import Overlay, allocate\n",
    "import numpy as np\n",
    "\n",
    "# overlay = Overlay(\"/home/xilinx/jupyter_notebooks/np/overlays/np_sin_f4_4dmas.bit\")\n",
    "# overlay = Overlay(\"/home/xilinx/jupyter_notebooks/np/overlays/np_sin_2f4_4dmas.bit\")\n",
    "# overlay = Overlay(\"/home/xilinx/jupyter_notebooks/np/overlays/np_sin_4f4_4dmas.bit\")\n",
    "overlay = Overlay(\"/home/xilinx/jupyter_notebooks/np/overlays/np_sin_8f4_4dmas.bit\")\n",
    "\n",
    "L = 2**13\n",
    "\n",
    "A = allocate(shape=(L,), dtype=\"f4\")\n",
    "B = allocate(shape=(L,), dtype=\"f4\")\n",
    "\n",
    "A[:] = np.random.rand(L)\n",
    "B[:] = np.zeros(L)"
   ]
  },
  {
   "cell_type": "markdown",
   "metadata": {},
   "source": [
    "## NumPy"
   ]
  },
  {
   "cell_type": "code",
   "execution_count": 2,
   "metadata": {},
   "outputs": [
    {
     "name": "stdout",
     "output_type": "stream",
     "text": [
      "[0.08520328 0.77338827 0.5768191  ... 0.58781254 0.6181808  0.04651754]\n"
     ]
    }
   ],
   "source": [
    "def np_sin_f4_numpy(x1, out):\n",
    "    np.sin(x1, out)\n",
    "\n",
    "B[:] = 0\n",
    "np_sin_f4_numpy(A, B)\n",
    "print(B)"
   ]
  },
  {
   "cell_type": "markdown",
   "metadata": {},
   "source": [
    "## PYNQ"
   ]
  },
  {
   "cell_type": "code",
   "execution_count": 3,
   "metadata": {},
   "outputs": [
    {
     "name": "stdout",
     "output_type": "stream",
     "text": [
      "[0.08520328 0.77338827 0.57681906 ... 0.58781254 0.6181808  0.04651754]\n"
     ]
    }
   ],
   "source": [
    "def np_sin_f4_pynq(x1, out):\n",
    "#     overlay.np_sin_f4_hw_0.mmio.write(0x0, 0x01)\n",
    "#     overlay.np_sin_2f4_hw_0.mmio.write(0x0, 0x01)\n",
    "#     overlay.np_sin_4f4_hw_0.mmio.write(0x0, 0x01)\n",
    "    overlay.np_sin_8f4_hw_0.mmio.write(0x0, 0x01)\n",
    "    \n",
    "    half = x1.shape[0] // 2\n",
    "    \n",
    "    overlay.axi_dma_0.sendchannel.transfer(x1[:half])\n",
    "    overlay.axi_dma_1.sendchannel.transfer(x1[half:])\n",
    "    overlay.axi_dma_2.recvchannel.transfer(out[:half])\n",
    "    overlay.axi_dma_3.recvchannel.transfer(out[half:])\n",
    "    \n",
    "    overlay.axi_dma_2.recvchannel.wait()\n",
    "    overlay.axi_dma_3.recvchannel.wait()\n",
    "\n",
    "B[:] = 0\n",
    "np_sin_f4_pynq(A, B)\n",
    "print(B)"
   ]
  },
  {
   "cell_type": "markdown",
   "metadata": {},
   "source": [
    "## pybind11"
   ]
  },
  {
   "cell_type": "code",
   "execution_count": 4,
   "metadata": {},
   "outputs": [],
   "source": [
    "%%pybind11 np_sin_f4_4dmas\n",
    "\n",
    "#include <unistd.h>\n",
    "#include <fcntl.h>\n",
    "#include <termios.h>\n",
    "#include <sys/mman.h>\n",
    "\n",
    "#define MM2S_DMACR 0x00\n",
    "#define MM2S_DMACR_RS 0x00000001\n",
    "#define MM2S_DMACR_Reset 0x00000004\n",
    "#define MM2S_DMASR 0x04\n",
    "#define MM2S_DMASR_Halted 0x00000001\n",
    "#define MM2S_DMASR_Idle 0x00000002\n",
    "#define MM2S_SA 0x18\n",
    "#define MM2S_SA_MSB 0x1c\n",
    "#define MM2S_LENGTH 0x28\n",
    "\n",
    "#define S2MM_DMACR 0x30\n",
    "#define S2MM_DMACR_RS 0x00000001\n",
    "#define S2MM_DMACR_Reset 0x00000004\n",
    "#define S2MM_DMASR 0x34\n",
    "#define S2MM_DMASR_Halted 0x00000001\n",
    "#define S2MM_DMASR_Idle 0x00000002\n",
    "#define S2MM_DA 0x48\n",
    "#define S2MM_DA_MSB 0x4c\n",
    "#define S2MM_LENGTH 0x58\n",
    "\n",
    "#define printf py::print\n",
    "\n",
    "#define DMA_0_ADDR 0x40400000\n",
    "#define dma_0_get(x) DMA_0_VADDR[x >> 2]\n",
    "#define dma_0_set(x, y) DMA_0_VADDR[x >> 2] = y\n",
    "\n",
    "#define DMA_1_ADDR 0x40410000\n",
    "#define dma_1_get(x) DMA_1_VADDR[x >> 2]\n",
    "#define dma_1_set(x, y) DMA_1_VADDR[x >> 2] = y\n",
    "\n",
    "#define DMA_2_ADDR 0x40420000\n",
    "#define dma_2_get(x) DMA_2_VADDR[x >> 2]\n",
    "#define dma_2_set(x, y) DMA_2_VADDR[x >> 2] = y\n",
    "\n",
    "#define DMA_3_ADDR 0x40430000\n",
    "#define dma_3_get(x) DMA_3_VADDR[x >> 2]\n",
    "#define dma_3_set(x, y) DMA_3_VADDR[x >> 2] = y\n",
    "\n",
    "#define IP_ADDR 0x43C00000 \n",
    "#define ip_start() IP_VADDR[0x00 >> 2] = 0x00000001\n",
    "\n",
    "void np_sin_f4(unsigned int x1_addr,\n",
    "               unsigned int out_addr,\n",
    "               unsigned int stream_len)\n",
    "{\n",
    "    int fd = open(\"/dev/mem\", O_RDWR | O_SYNC);\n",
    "    volatile unsigned int * DMA_0_VADDR = (volatile unsigned int *) mmap(\n",
    "            NULL, 65535, PROT_READ | PROT_WRITE, MAP_SHARED, fd, DMA_0_ADDR\n",
    "    );\n",
    "    volatile unsigned int * DMA_1_VADDR = (volatile unsigned int *) mmap(\n",
    "            NULL, 65535, PROT_READ | PROT_WRITE, MAP_SHARED, fd, DMA_1_ADDR\n",
    "    );\n",
    "    volatile unsigned int * DMA_2_VADDR = (volatile unsigned int *) mmap(\n",
    "            NULL, 65535, PROT_READ | PROT_WRITE, MAP_SHARED, fd, DMA_2_ADDR\n",
    "    );\n",
    "    volatile unsigned int * DMA_3_VADDR = (volatile unsigned int *) mmap(\n",
    "            NULL, 65535, PROT_READ | PROT_WRITE, MAP_SHARED, fd, DMA_3_ADDR\n",
    "    );\n",
    "    volatile unsigned int * IP_VADDR = (volatile unsigned int *) mmap(\n",
    "            NULL, 65535, PROT_READ | PROT_WRITE, MAP_SHARED, fd, IP_ADDR\n",
    "    );\n",
    "    \n",
    "    ip_start();\n",
    "    \n",
    "    dma_0_set(S2MM_DMACR, S2MM_DMACR_Reset);\n",
    "    dma_1_set(S2MM_DMACR, S2MM_DMACR_Reset);\n",
    "    dma_2_set(S2MM_DMACR, S2MM_DMACR_Reset);\n",
    "    dma_3_set(S2MM_DMACR, S2MM_DMACR_Reset);\n",
    "    \n",
    "    dma_0_set(S2MM_DMACR, S2MM_DMACR_RS);\n",
    "    dma_1_set(S2MM_DMACR, S2MM_DMACR_RS);\n",
    "    dma_2_set(S2MM_DMACR, S2MM_DMACR_RS);\n",
    "    dma_3_set(S2MM_DMACR, S2MM_DMACR_RS);\n",
    "\n",
    "    int first_half = stream_len / 2;\n",
    "    int first_half_n_bytes = first_half * sizeof(float);\n",
    "    \n",
    "    int second_half = stream_len - first_half;\n",
    "    int second_half_n_bytes = second_half * sizeof(float);\n",
    "    \n",
    "    dma_0_set(MM2S_SA, x1_addr);\n",
    "    dma_0_set(MM2S_LENGTH, first_half_n_bytes);\n",
    "    \n",
    "    dma_1_set(MM2S_SA, x1_addr + first_half_n_bytes);\n",
    "    dma_1_set(MM2S_LENGTH, second_half_n_bytes);\n",
    "    \n",
    "    dma_2_set(S2MM_DA, out_addr);\n",
    "    dma_2_set(S2MM_LENGTH, first_half_n_bytes);\n",
    "    \n",
    "    dma_3_set(S2MM_DA, out_addr + first_half_n_bytes);\n",
    "    dma_3_set(S2MM_LENGTH, second_half_n_bytes);\n",
    "    \n",
    "    while(!(dma_2_get(S2MM_DMASR) & S2MM_DMASR_Idle) &&\n",
    "          !(dma_3_get(S2MM_DMASR) & S2MM_DMASR_Idle));\n",
    "    \n",
    "    close(fd);\n",
    "}"
   ]
  },
  {
   "cell_type": "code",
   "execution_count": 5,
   "metadata": {
    "scrolled": true
   },
   "outputs": [
    {
     "name": "stdout",
     "output_type": "stream",
     "text": [
      "[0.08520328 0.77338827 0.57681906 ... 0.58781254 0.6181808  0.04651754]\n"
     ]
    }
   ],
   "source": [
    "import np_sin_f4_4dmas as calc\n",
    "\n",
    "def np_sin_f4_pybind11(x1, out):\n",
    "    calc.np_sin_f4(x1.physical_address, out.physical_address, x1.size)\n",
    "\n",
    "B[:] = 0\n",
    "np_sin_f4_pybind11(A, B)\n",
    "print(B)"
   ]
  },
  {
   "cell_type": "markdown",
   "metadata": {},
   "source": [
    "## CFFI"
   ]
  },
  {
   "cell_type": "code",
   "execution_count": 6,
   "metadata": {
    "scrolled": false
   },
   "outputs": [
    {
     "name": "stdout",
     "output_type": "stream",
     "text": [
      "Overwriting build_np_sin_f4_4dmas_cffi.py\n"
     ]
    }
   ],
   "source": [
    "%%writefile build_np_sin_f4_4dmas_cffi.py\n",
    "\n",
    "from cffi import FFI\n",
    "ffibuilder = FFI()\n",
    "\n",
    "ffibuilder.cdef(\n",
    "    r\"\"\"\n",
    "    void np_sin_f4(unsigned int x1_addr,\n",
    "                   unsigned int out_addr,\n",
    "                   unsigned int stream_len);\n",
    "    \"\"\"\n",
    ")\n",
    "\n",
    "ffibuilder.set_source(\"np_sin_f4_4dmas_cffi\",\n",
    "    r\"\"\"\n",
    "    #include <unistd.h>\n",
    "    #include <fcntl.h>\n",
    "    #include <termios.h>\n",
    "    #include <sys/mman.h>\n",
    "\n",
    "    #define MM2S_DMACR 0x00\n",
    "    #define MM2S_DMACR_RS 0x00000001\n",
    "    #define MM2S_DMACR_Reset 0x00000004\n",
    "    #define MM2S_DMASR 0x04\n",
    "    #define MM2S_DMASR_Halted 0x00000001\n",
    "    #define MM2S_DMASR_Idle 0x00000002\n",
    "    #define MM2S_SA 0x18\n",
    "    #define MM2S_SA_MSB 0x1c\n",
    "    #define MM2S_LENGTH 0x28\n",
    "\n",
    "    #define S2MM_DMACR 0x30\n",
    "    #define S2MM_DMACR_RS 0x00000001\n",
    "    #define S2MM_DMACR_Reset 0x00000004\n",
    "    #define S2MM_DMASR 0x34\n",
    "    #define S2MM_DMASR_Halted 0x00000001\n",
    "    #define S2MM_DMASR_Idle 0x00000002\n",
    "    #define S2MM_DA 0x48\n",
    "    #define S2MM_DA_MSB 0x4c\n",
    "    #define S2MM_LENGTH 0x58\n",
    "\n",
    "    #define printf py::print\n",
    "\n",
    "    #define DMA_0_ADDR 0x40400000\n",
    "    #define dma_0_get(x) DMA_0_VADDR[x >> 2]\n",
    "    #define dma_0_set(x, y) DMA_0_VADDR[x >> 2] = y\n",
    "\n",
    "    #define DMA_1_ADDR 0x40410000\n",
    "    #define dma_1_get(x) DMA_1_VADDR[x >> 2]\n",
    "    #define dma_1_set(x, y) DMA_1_VADDR[x >> 2] = y\n",
    "\n",
    "    #define DMA_2_ADDR 0x40420000\n",
    "    #define dma_2_get(x) DMA_2_VADDR[x >> 2]\n",
    "    #define dma_2_set(x, y) DMA_2_VADDR[x >> 2] = y\n",
    "\n",
    "    #define DMA_3_ADDR 0x40430000\n",
    "    #define dma_3_get(x) DMA_3_VADDR[x >> 2]\n",
    "    #define dma_3_set(x, y) DMA_3_VADDR[x >> 2] = y\n",
    "\n",
    "    #define IP_ADDR 0x43C00000 \n",
    "    #define ip_start() IP_VADDR[0x00 >> 2] = 0x00000001\n",
    "\n",
    "    void np_sin_f4(unsigned int x1_addr,\n",
    "                   unsigned int out_addr,\n",
    "                   unsigned int stream_len)\n",
    "    {\n",
    "        int fd = open(\"/dev/mem\", O_RDWR | O_SYNC);\n",
    "        volatile unsigned int * DMA_0_VADDR = (volatile unsigned int *) mmap(\n",
    "                NULL, 65535, PROT_READ | PROT_WRITE, MAP_SHARED, fd, DMA_0_ADDR\n",
    "        );\n",
    "        volatile unsigned int * DMA_1_VADDR = (volatile unsigned int *) mmap(\n",
    "                NULL, 65535, PROT_READ | PROT_WRITE, MAP_SHARED, fd, DMA_1_ADDR\n",
    "        );\n",
    "        volatile unsigned int * DMA_2_VADDR = (volatile unsigned int *) mmap(\n",
    "                NULL, 65535, PROT_READ | PROT_WRITE, MAP_SHARED, fd, DMA_2_ADDR\n",
    "        );\n",
    "        volatile unsigned int * DMA_3_VADDR = (volatile unsigned int *) mmap(\n",
    "                NULL, 65535, PROT_READ | PROT_WRITE, MAP_SHARED, fd, DMA_3_ADDR\n",
    "        );\n",
    "        volatile unsigned int * IP_VADDR = (volatile unsigned int *) mmap(\n",
    "                NULL, 65535, PROT_READ | PROT_WRITE, MAP_SHARED, fd, IP_ADDR\n",
    "        );\n",
    "\n",
    "        ip_start();\n",
    "\n",
    "        dma_0_set(S2MM_DMACR, S2MM_DMACR_Reset);\n",
    "        dma_1_set(S2MM_DMACR, S2MM_DMACR_Reset);\n",
    "        dma_2_set(S2MM_DMACR, S2MM_DMACR_Reset);\n",
    "        dma_3_set(S2MM_DMACR, S2MM_DMACR_Reset);\n",
    "\n",
    "        dma_0_set(S2MM_DMACR, S2MM_DMACR_RS);\n",
    "        dma_1_set(S2MM_DMACR, S2MM_DMACR_RS);\n",
    "        dma_2_set(S2MM_DMACR, S2MM_DMACR_RS);\n",
    "        dma_3_set(S2MM_DMACR, S2MM_DMACR_RS);\n",
    "\n",
    "        int first_half = stream_len / 2;\n",
    "        int first_half_n_bytes = first_half * sizeof(float);\n",
    "\n",
    "        int second_half = stream_len - first_half;\n",
    "        int second_half_n_bytes = second_half * sizeof(float);\n",
    "\n",
    "        dma_0_set(MM2S_SA, x1_addr);\n",
    "        dma_0_set(MM2S_LENGTH, first_half_n_bytes);\n",
    "\n",
    "        dma_1_set(MM2S_SA, x1_addr + first_half_n_bytes);\n",
    "        dma_1_set(MM2S_LENGTH, second_half_n_bytes);\n",
    "\n",
    "        dma_2_set(S2MM_DA, out_addr);\n",
    "        dma_2_set(S2MM_LENGTH, first_half_n_bytes);\n",
    "\n",
    "        dma_3_set(S2MM_DA, out_addr + first_half_n_bytes);\n",
    "        dma_3_set(S2MM_LENGTH, second_half_n_bytes);\n",
    "\n",
    "        while(!(dma_2_get(S2MM_DMASR) & S2MM_DMASR_Idle) &&\n",
    "              !(dma_3_get(S2MM_DMASR) & S2MM_DMASR_Idle));\n",
    "\n",
    "        close(fd);\n",
    "    }\n",
    "    \"\"\"\n",
    ")\n",
    "\n",
    "if __name__ == \"__main__\":\n",
    "    import sys\n",
    "    print(sys.executable)\n",
    "    ffibuilder.compile(verbose=True)"
   ]
  },
  {
   "cell_type": "code",
   "execution_count": 7,
   "metadata": {
    "scrolled": true
   },
   "outputs": [
    {
     "name": "stdout",
     "output_type": "stream",
     "text": [
      "/home/xilinx/perf_env/bin/python\n",
      "generating ./np_sin_f4_4dmas_cffi.c\n",
      "(already up-to-date)\n",
      "the current directory is '/home/xilinx/jupyter_notebooks/np/build'\n",
      "running build_ext\n",
      "building 'np_sin_f4_4dmas_cffi' extension\n",
      "arm-linux-gnueabihf-gcc -pthread -DNDEBUG -g -fwrapv -O2 -Wall -Wstrict-prototypes -g -fdebug-prefix-map=/build/python3.7-2QTFw6/python3.7-3.7.0~b3=. -fstack-protector-strong -Wformat -Werror=format-security -Wdate-time -D_FORTIFY_SOURCE=2 -fPIC -I/home/xilinx/perf_env/include -I/usr/include/python3.7m -c np_sin_f4_4dmas_cffi.c -o ./np_sin_f4_4dmas_cffi.o\n",
      "arm-linux-gnueabihf-gcc -pthread -shared -Wl,-O1 -Wl,-Bsymbolic-functions -Wl,-Bsymbolic-functions -Wl,-z,relro -Wl,-Bsymbolic-functions -Wl,-z,relro -g -fdebug-prefix-map=/build/python3.7-2QTFw6/python3.7-3.7.0~b3=. -fstack-protector-strong -Wformat -Werror=format-security -Wdate-time -D_FORTIFY_SOURCE=2 ./np_sin_f4_4dmas_cffi.o -o ./np_sin_f4_4dmas_cffi.cpython-37m-arm-linux-gnueabihf.so\n"
     ]
    }
   ],
   "source": [
    "%%bash\n",
    "\n",
    "/home/xilinx/perf_env/bin/python build_np_sin_f4_4dmas_cffi.py"
   ]
  },
  {
   "cell_type": "code",
   "execution_count": 8,
   "metadata": {},
   "outputs": [
    {
     "name": "stdout",
     "output_type": "stream",
     "text": [
      "[0.08520328 0.77338827 0.57681906 ... 0.58781254 0.6181808  0.04651754]\n"
     ]
    }
   ],
   "source": [
    "from np_sin_f4_4dmas_cffi import lib as calc\n",
    "\n",
    "def np_sin_f4_cffi(x1, out):\n",
    "    calc.np_sin_f4(x1.physical_address, out.physical_address, x1.size)\n",
    "\n",
    "B[:] = 0\n",
    "np_sin_f4_cffi(A, B)\n",
    "print(B)"
   ]
  },
  {
   "cell_type": "markdown",
   "metadata": {},
   "source": [
    "## Timing analysis"
   ]
  },
  {
   "cell_type": "code",
   "execution_count": 9,
   "metadata": {},
   "outputs": [
    {
     "name": "stdout",
     "output_type": "stream",
     "text": [
      "kernel = 0, n = 4, t = 4.73425e-05\n",
      "kernel = 1, n = 4, t = 0.2105819391\n",
      "kernel = 2, n = 4, t = 0.0004072886\n",
      "kernel = 3, n = 4, t = 0.0001753031\n",
      "kernel = 0, n = 8, t = 4.76907e-05\n",
      "kernel = 1, n = 8, t = 0.20917072250000002\n",
      "kernel = 2, n = 8, t = 0.0001593538\n",
      "kernel = 3, n = 8, t = 0.0001508379\n",
      "kernel = 0, n = 16, t = 4.9509500000000004e-05\n",
      "kernel = 1, n = 16, t = 0.20933723440000002\n",
      "kernel = 2, n = 16, t = 0.00016812420000000003\n",
      "kernel = 3, n = 16, t = 0.0001559316\n",
      "kernel = 0, n = 32, t = 6.404180000000001e-05\n",
      "kernel = 1, n = 32, t = 0.22177521990000001\n",
      "kernel = 2, n = 32, t = 0.00044100270000000004\n",
      "kernel = 3, n = 32, t = 0.0001585086\n",
      "kernel = 0, n = 64, t = 6.73631e-05\n",
      "kernel = 1, n = 64, t = 0.20950937700000002\n",
      "kernel = 2, n = 64, t = 0.000163065\n",
      "kernel = 3, n = 64, t = 0.00016242210000000002\n",
      "kernel = 0, n = 128, t = 8.518160000000001e-05\n",
      "kernel = 1, n = 128, t = 0.2100403493\n",
      "kernel = 2, n = 128, t = 0.0004315363\n",
      "kernel = 3, n = 128, t = 0.0001682025\n",
      "kernel = 0, n = 256, t = 0.0001362919\n",
      "kernel = 1, n = 256, t = 0.2147959391\n",
      "kernel = 2, n = 256, t = 0.0001657181\n",
      "kernel = 3, n = 256, t = 0.00015656970000000003\n",
      "kernel = 0, n = 512, t = 0.0002120829\n",
      "kernel = 1, n = 512, t = 0.21156746590000003\n",
      "kernel = 2, n = 512, t = 0.000170686\n",
      "kernel = 3, n = 512, t = 0.0001737195\n",
      "kernel = 0, n = 1024, t = 0.00037530070000000004\n",
      "kernel = 1, n = 1024, t = 0.2092822189\n",
      "kernel = 2, n = 1024, t = 0.0004220336\n",
      "kernel = 3, n = 1024, t = 0.00019085950000000002\n",
      "kernel = 0, n = 2048, t = 0.0007133551\n",
      "kernel = 1, n = 2048, t = 0.22254943100000002\n",
      "kernel = 2, n = 2048, t = 0.0001760424\n",
      "kernel = 3, n = 2048, t = 0.0001667153\n",
      "kernel = 0, n = 4096, t = 0.0015817114\n",
      "kernel = 1, n = 4096, t = 0.20952843730000004\n",
      "kernel = 2, n = 4096, t = 0.0004354339\n",
      "kernel = 3, n = 4096, t = 0.000187364\n",
      "kernel = 0, n = 8192, t = 0.0031029942000000005\n",
      "kernel = 1, n = 8192, t = 0.2092914274\n",
      "kernel = 2, n = 8192, t = 0.00020612160000000002\n",
      "kernel = 3, n = 8192, t = 0.00020688410000000001\n",
      "kernel = 0, n = 16384, t = 0.0061514698\n",
      "kernel = 1, n = 16384, t = 0.21081056730000003\n",
      "kernel = 2, n = 16384, t = 0.0005072993\n",
      "kernel = 3, n = 16384, t = 0.0002467476\n",
      "kernel = 0, n = 32768, t = 0.012274452400000002\n",
      "kernel = 1, n = 32768, t = 0.21021856800000002\n",
      "kernel = 2, n = 32768, t = 0.0003459946\n",
      "kernel = 3, n = 32768, t = 0.0003743081\n",
      "kernel = 0, n = 65536, t = 0.024537993600000002\n",
      "kernel = 1, n = 65536, t = 0.22327549900000002\n",
      "kernel = 2, n = 65536, t = 0.0008304508000000001\n",
      "kernel = 3, n = 65536, t = 0.0006609176\n",
      "kernel = 0, n = 131072, t = 0.048858298200000004\n",
      "kernel = 1, n = 131072, t = 0.21015458010000002\n",
      "kernel = 2, n = 131072, t = 0.0008550315000000001\n",
      "kernel = 3, n = 131072, t = 0.000889881\n",
      "kernel = 0, n = 262144, t = 0.0975750066\n",
      "kernel = 1, n = 262144, t = 0.21069952460000002\n",
      "kernel = 2, n = 262144, t = 0.0014903608\n",
      "kernel = 3, n = 262144, t = 0.0014842978000000001\n",
      "kernel = 0, n = 524288, t = 0.19482143300000002\n",
      "kernel = 1, n = 524288, t = 0.2104385957\n",
      "kernel = 2, n = 524288, t = 0.0027422114\n",
      "kernel = 3, n = 524288, t = 0.0027008597000000006\n",
      "kernel = 0, n = 1048576, t = 0.39310240100000005\n",
      "kernel = 1, n = 1048576, t = 0.2106298677\n",
      "kernel = 2, n = 1048576, t = 0.0052880662\n",
      "kernel = 3, n = 1048576, t = 0.0052243825\n",
      "kernel = 0, n = 2097152, t = 0.7817291102000001\n",
      "kernel = 1, n = 2097152, t = 0.21776920000000002\n",
      "kernel = 2, n = 2097152, t = 0.010421259300000001\n",
      "kernel = 3, n = 2097152, t = 0.0103572991\n"
     ]
    },
    {
     "data": {
      "text/html": [
       "<pre style=\"white-space:pre;overflow-x:auto;line-height:normal;font-family:Menlo,'DejaVu Sans Mono',consolas,'Courier New',monospace\">┏━━━━━━━━━┳━━━━━━━━━━━━━━━━━━━┳━━━━━━━━━━━━━━━━━━━━┳━━━━━━━━━━━━━━━━━━━┳━━━━━━━━━━━━━━━━━━━━┓\n",
       "┃<span style=\"font-weight: bold\"> n       </span>┃<span style=\"font-weight: bold\"> numpy             </span>┃<span style=\"font-weight: bold\"> pynq               </span>┃<span style=\"font-weight: bold\"> pybind11          </span>┃<span style=\"font-weight: bold\"> cffi               </span>┃\n",
       "┡━━━━━━━━━╇━━━━━━━━━━━━━━━━━━━╇━━━━━━━━━━━━━━━━━━━━╇━━━━━━━━━━━━━━━━━━━╇━━━━━━━━━━━━━━━━━━━━┩\n",
       "│ 4       │ 4.73425e-05       │ 0.2105819391       │ 0.0004072886      │ 0.0001753031       │\n",
       "│ 8       │ 4.76907e-05       │ 0.209170722500000… │ 0.0001593538      │ 0.0001508379       │\n",
       "│ 16      │ 4.95095000000000… │ 0.209337234400000… │ 0.00016812420000… │ 0.0001559316       │\n",
       "│ 32      │ 6.40418000000000… │ 0.221775219900000… │ 0.00044100270000… │ 0.0001585086       │\n",
       "│ 64      │ 6.73631e-05       │ 0.209509377000000… │ 0.000163065       │ 0.000162422100000… │\n",
       "│ 128     │ 8.51816000000000… │ 0.2100403493       │ 0.0004315363      │ 0.0001682025       │\n",
       "│ 256     │ 0.0001362919      │ 0.2147959391       │ 0.0001657181      │ 0.000156569700000… │\n",
       "│ 512     │ 0.0002120829      │ 0.211567465900000… │ 0.000170686       │ 0.0001737195       │\n",
       "│ 1024    │ 0.00037530070000… │ 0.2092822189       │ 0.0004220336      │ 0.000190859500000… │\n",
       "│ 2048    │ 0.0007133551      │ 0.222549431000000… │ 0.0001760424      │ 0.0001667153       │\n",
       "│ 4096    │ 0.0015817114      │ 0.209528437300000… │ 0.0004354339      │ 0.000187364        │\n",
       "│ 8192    │ 0.00310299420000… │ 0.2092914274       │ 0.00020612160000… │ 0.000206884100000… │\n",
       "│ 16384   │ 0.0061514698      │ 0.210810567300000… │ 0.0005072993      │ 0.0002467476       │\n",
       "│ 32768   │ 0.01227445240000… │ 0.210218568000000… │ 0.0003459946      │ 0.0003743081       │\n",
       "│ 65536   │ 0.02453799360000… │ 0.223275499000000… │ 0.00083045080000… │ 0.0006609176       │\n",
       "│ 131072  │ 0.04885829820000… │ 0.210154580100000… │ 0.00085503150000… │ 0.000889881        │\n",
       "│ 262144  │ 0.0975750066      │ 0.210699524600000… │ 0.0014903608      │ 0.001484297800000… │\n",
       "│ 524288  │ 0.19482143300000… │ 0.2104385957       │ 0.0027422114      │ 0.002700859700000… │\n",
       "│ 1048576 │ 0.39310240100000… │ 0.2106298677       │ 0.0052880662      │ 0.0052243825       │\n",
       "│ 2097152 │ 0.78172911020000… │ 0.217769200000000… │ 0.01042125930000… │ 0.0103572991       │\n",
       "└─────────┴───────────────────┴────────────────────┴───────────────────┴────────────────────┘\n",
       "</pre>\n"
      ],
      "text/plain": [
       "┏━━━━━━━━━┳━━━━━━━━━━━━━━━━━━━┳━━━━━━━━━━━━━━━━━━━━┳━━━━━━━━━━━━━━━━━━━┳━━━━━━━━━━━━━━━━━━━━┓\n",
       "┃\u001b[1m \u001b[0m\u001b[1mn      \u001b[0m\u001b[1m \u001b[0m┃\u001b[1m \u001b[0m\u001b[1mnumpy            \u001b[0m\u001b[1m \u001b[0m┃\u001b[1m \u001b[0m\u001b[1mpynq              \u001b[0m\u001b[1m \u001b[0m┃\u001b[1m \u001b[0m\u001b[1mpybind11         \u001b[0m\u001b[1m \u001b[0m┃\u001b[1m \u001b[0m\u001b[1mcffi              \u001b[0m\u001b[1m \u001b[0m┃\n",
       "┡━━━━━━━━━╇━━━━━━━━━━━━━━━━━━━╇━━━━━━━━━━━━━━━━━━━━╇━━━━━━━━━━━━━━━━━━━╇━━━━━━━━━━━━━━━━━━━━┩\n",
       "│ 4       │ 4.73425e-05       │ 0.2105819391       │ 0.0004072886      │ 0.0001753031       │\n",
       "│ 8       │ 4.76907e-05       │ 0.209170722500000… │ 0.0001593538      │ 0.0001508379       │\n",
       "│ 16      │ 4.95095000000000… │ 0.209337234400000… │ 0.00016812420000… │ 0.0001559316       │\n",
       "│ 32      │ 6.40418000000000… │ 0.221775219900000… │ 0.00044100270000… │ 0.0001585086       │\n",
       "│ 64      │ 6.73631e-05       │ 0.209509377000000… │ 0.000163065       │ 0.000162422100000… │\n",
       "│ 128     │ 8.51816000000000… │ 0.2100403493       │ 0.0004315363      │ 0.0001682025       │\n",
       "│ 256     │ 0.0001362919      │ 0.2147959391       │ 0.0001657181      │ 0.000156569700000… │\n",
       "│ 512     │ 0.0002120829      │ 0.211567465900000… │ 0.000170686       │ 0.0001737195       │\n",
       "│ 1024    │ 0.00037530070000… │ 0.2092822189       │ 0.0004220336      │ 0.000190859500000… │\n",
       "│ 2048    │ 0.0007133551      │ 0.222549431000000… │ 0.0001760424      │ 0.0001667153       │\n",
       "│ 4096    │ 0.0015817114      │ 0.209528437300000… │ 0.0004354339      │ 0.000187364        │\n",
       "│ 8192    │ 0.00310299420000… │ 0.2092914274       │ 0.00020612160000… │ 0.000206884100000… │\n",
       "│ 16384   │ 0.0061514698      │ 0.210810567300000… │ 0.0005072993      │ 0.0002467476       │\n",
       "│ 32768   │ 0.01227445240000… │ 0.210218568000000… │ 0.0003459946      │ 0.0003743081       │\n",
       "│ 65536   │ 0.02453799360000… │ 0.223275499000000… │ 0.00083045080000… │ 0.0006609176       │\n",
       "│ 131072  │ 0.04885829820000… │ 0.210154580100000… │ 0.00085503150000… │ 0.000889881        │\n",
       "│ 262144  │ 0.0975750066      │ 0.210699524600000… │ 0.0014903608      │ 0.001484297800000… │\n",
       "│ 524288  │ 0.19482143300000… │ 0.2104385957       │ 0.0027422114      │ 0.002700859700000… │\n",
       "│ 1048576 │ 0.39310240100000… │ 0.2106298677       │ 0.0052880662      │ 0.0052243825       │\n",
       "│ 2097152 │ 0.78172911020000… │ 0.217769200000000… │ 0.01042125930000… │ 0.0103572991       │\n",
       "└─────────┴───────────────────┴────────────────────┴───────────────────┴────────────────────┘\n"
      ]
     },
     "metadata": {},
     "output_type": "display_data"
    },
    {
     "name": "stdout",
     "output_type": "stream",
     "text": [
      "\n"
     ]
    },
    {
     "data": {
      "image/png": "[encoded data removed]",
      "text/plain": [
       "<Figure size 432x288 with 1 Axes>"
      ]
     },
     "metadata": {
      "needs_background": "dark"
     },
     "output_type": "display_data"
    }
   ],
   "source": [
    "import time\n",
    "from perfplot._main import PerfplotData\n",
    "\n",
    "def _setup(n):\n",
    "    A = allocate(shape=(n,), dtype=\"f4\")\n",
    "    B = allocate(shape=(n,), dtype=\"f4\")\n",
    "\n",
    "    A[:] = np.random.rand(n)\n",
    "    B[:] = np.zeros(n)\n",
    "    \n",
    "    return A, B\n",
    "\n",
    "kernels = [\n",
    "    np_sin_f4_numpy,\n",
    "    np_sin_f4_pynq,\n",
    "    np_sin_f4_pybind11,\n",
    "    np_sin_f4_cffi,\n",
    "]\n",
    "\n",
    "iters = 10\n",
    "n_range = [2 ** k for k in range(2, 22)] \n",
    "timings_s = np.empty((len(kernels), len(n_range)), dtype=float)\n",
    "\n",
    "labels = [\"numpy\", \"pynq\", \"pybind11\", \"cffi\"]\n",
    "xlabel = \"len(x)\"\n",
    "\n",
    "for i, n in enumerate(n_range):\n",
    "    t0_ns = time.time_ns()\n",
    "    for _ in range(10):\n",
    "        pass\n",
    "    t1_ns = time.time_ns()\n",
    "    \n",
    "    loop_overhead_ns = t1_ns - t0_ns\n",
    "    \n",
    "    data = _setup(n)\n",
    "\n",
    "    for j, kernel in enumerate(kernels):        \n",
    "        t0_ns = time.time_ns()\n",
    "        for _ in range(iters):\n",
    "            kernel(*data)\n",
    "        t1_ns = time.time_ns()\n",
    "        \n",
    "        timings_s[j,i] = 1e-9 * ((t1_ns - t0_ns - loop_overhead_ns) / iters)\n",
    "        \n",
    "        print(f\"kernel = {j}, n = {n}, t = {timings_s[j,i]}\")\n",
    "        \n",
    "    for x in data:\n",
    "        x.freebuffer()\n",
    "        \n",
    "p = PerfplotData(\n",
    "    n_range,\n",
    "    timings_s,\n",
    "    None,\n",
    "    labels,\n",
    "    xlabel\n",
    ")\n",
    "\n",
    "print(p)\n",
    "\n",
    "p.show()"
   ]
  }
 ],
 "metadata": {
  "kernelspec": {
   "display_name": "perf_env/Python 3",
   "language": "python",
   "name": "python3"
  },
  "language_info": {
   "codemirror_mode": {
    "name": "ipython",
    "version": 3
   },
   "file_extension": ".py",
   "mimetype": "text/x-python",
   "name": "python",
   "nbconvert_exporter": "python",
   "pygments_lexer": "ipython3",
   "version": "3.7.0b3"
  }
 },
 "nbformat": 4,
 "nbformat_minor": 2
}
