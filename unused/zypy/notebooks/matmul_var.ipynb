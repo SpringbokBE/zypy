{
 "cells": [
  {
   "cell_type": "markdown",
   "metadata": {},
   "source": [
    "# Matrix multiplication (variable size)"
   ]
  },
  {
   "cell_type": "markdown",
   "metadata": {},
   "source": [
    "This example shows the usage of a variable-size (up to 64x64) floating point multiplication in hardware. The data is streamed to and from the IP using an AXI DMA component."
   ]
  },
  {
   "cell_type": "markdown",
   "metadata": {},
   "source": [
    "A first of all, the correct bitstream (.bit) and its associated hardware description (.hwh) is loaded onto the FPGA:"
   ]
  },
  {
   "cell_type": "code",
   "execution_count": 1,
   "metadata": {},
   "outputs": [
    {
     "data": {
      "application/javascript": [
       "\n",
       "try {\n",
       "require(['notebook/js/codecell'], function(codecell) {\n",
       "  codecell.CodeCell.options_default.highlight_modes[\n",
       "      'magic_text/x-csrc'] = {'reg':[/^%%microblaze/]};\n",
       "  Jupyter.notebook.events.one('kernel_ready.Kernel', function(){\n",
       "      Jupyter.notebook.get_cells().map(function(cell){\n",
       "          if (cell.cell_type == 'code'){ cell.auto_highlight(); } }) ;\n",
       "  });\n",
       "});\n",
       "} catch (e) {};\n"
      ]
     },
     "metadata": {},
     "output_type": "display_data"
    },
    {
     "data": {
      "application/javascript": [
       "\n",
       "try {\n",
       "require(['notebook/js/codecell'], function(codecell) {\n",
       "  codecell.CodeCell.options_default.highlight_modes[\n",
       "      'magic_text/x-csrc'] = {'reg':[/^%%pybind11/]};\n",
       "  Jupyter.notebook.events.one('kernel_ready.Kernel', function(){\n",
       "      Jupyter.notebook.get_cells().map(function(cell){\n",
       "          if (cell.cell_type == 'code'){ cell.auto_highlight(); } }) ;\n",
       "  });\n",
       "});\n",
       "} catch (e) {};\n"
      ]
     },
     "metadata": {},
     "output_type": "display_data"
    }
   ],
   "source": [
    "from pynq import Overlay, MMIO\n",
    "\n",
    "overlay = Overlay(\"/home/xilinx/overlays/mmul_v2_64.bit\")"
   ]
  },
  {
   "cell_type": "markdown",
   "metadata": {
    "slideshow": {
     "slide_type": "slide"
    }
   },
   "source": [
    "The components in the design and all associated metadata can be found in the `ip_dict`."
   ]
  },
  {
   "cell_type": "code",
   "execution_count": 2,
   "metadata": {},
   "outputs": [
    {
     "data": {
      "text/plain": [
       "['axi_dma_0', 'mmul_v2_0', 'processing_system7_0']"
      ]
     },
     "execution_count": 2,
     "metadata": {},
     "output_type": "execute_result"
    }
   ],
   "source": [
    "[key for key in overlay.ip_dict.keys()]"
   ]
  },
  {
   "cell_type": "markdown",
   "metadata": {},
   "source": [
    "Next, the input matrices `A` and `B` have to be allocated and populated with random data. "
   ]
  },
  {
   "cell_type": "code",
   "execution_count": 3,
   "metadata": {},
   "outputs": [],
   "source": [
    "from pynq import allocate\n",
    "import numpy as np\n",
    "\n",
    "L, M, N = 4, 5, 6\n",
    "\n",
    "A = allocate(shape=(L,M), dtype=\"u4\")\n",
    "B = allocate(shape=(M,N), dtype=\"u4\")\n",
    "\n",
    "A[:] = np.mgrid[1:L+1, 1:M+1][0]\n",
    "B[:] = np.mgrid[1:M+1, 1:N+1][0]"
   ]
  },
  {
   "cell_type": "markdown",
   "metadata": {},
   "source": [
    "# 1. Python (PYNQ)"
   ]
  },
  {
   "cell_type": "markdown",
   "metadata": {},
   "source": [
    "## 1.a Memory allocation"
   ]
  },
  {
   "cell_type": "markdown",
   "metadata": {},
   "source": [
    "To minimize the streaming latency, the `mmul_v2_0` component actually calculates `A@B.T=C.T`. Therefore we have to re-allocate `B` and treat `C` as being transposed."
   ]
  },
  {
   "cell_type": "code",
   "execution_count": 4,
   "metadata": {},
   "outputs": [],
   "source": [
    "BT = allocate(shape=B.shape[::-1], dtype=B.dtype)\n",
    "BT[:]=B.T\n",
    "\n",
    "CT = allocate(shape=(A.shape[0], B.shape[1]), dtype=\"u4\")"
   ]
  },
  {
   "cell_type": "markdown",
   "metadata": {},
   "source": [
    "Let's compare the memory layout of `B` and `BT`:"
   ]
  },
  {
   "cell_type": "code",
   "execution_count": 5,
   "metadata": {},
   "outputs": [
    {
     "name": "stdout",
     "output_type": "stream",
     "text": [
      "[[1 1 1 1 1 1]\n",
      " [2 2 2 2 2 2]\n",
      " [3 3 3 3 3 3]\n",
      " [4 4 4 4 4 4]\n",
      " [5 5 5 5 5 5]]\n",
      "16869000  01 00 00 00 01 00 00 00  01 00 00 00 01 00 00 00  |................|\n",
      "16869010  01 00 00 00 01 00 00 00  02 00 00 00 02 00 00 00  |................|\n",
      "16869020  02 00 00 00 02 00 00 00  02 00 00 00 02 00 00 00  |................|\n",
      "16869030  03 00 00 00 03 00 00 00  03 00 00 00 03 00 00 00  |................|\n",
      "16869040  03 00 00 00 03 00 00 00  04 00 00 00 04 00 00 00  |................|\n",
      "16869050  04 00 00 00 04 00 00 00  04 00 00 00 04 00 00 00  |................|\n",
      "16869060  05 00 00 00 05 00 00 00  05 00 00 00 05 00 00 00  |................|\n",
      "16869070  05 00 00 00 05 00 00 00  00 00 00 00 00 00 00 00  |................|\n",
      "16869080  00 00 00 00 00 00 00 00  00 00 00 00 00 00 00 00  |................|\n",
      "*\n",
      "\n"
     ]
    }
   ],
   "source": [
    "import subprocess\n",
    "cmd = f\"hexdump -C -s {B.physical_address} /dev/mem | head\"\n",
    "print(B)\n",
    "print(subprocess.check_output(cmd, shell=True).decode(\"utf-8\"))"
   ]
  },
  {
   "cell_type": "code",
   "execution_count": 6,
   "metadata": {},
   "outputs": [
    {
     "name": "stdout",
     "output_type": "stream",
     "text": [
      "[[1 2 3 4 5]\n",
      " [1 2 3 4 5]\n",
      " [1 2 3 4 5]\n",
      " [1 2 3 4 5]\n",
      " [1 2 3 4 5]\n",
      " [1 2 3 4 5]]\n",
      "1686a000  01 00 00 00 02 00 00 00  03 00 00 00 04 00 00 00  |................|\n",
      "1686a010  05 00 00 00 01 00 00 00  02 00 00 00 03 00 00 00  |................|\n",
      "1686a020  04 00 00 00 05 00 00 00  01 00 00 00 02 00 00 00  |................|\n",
      "1686a030  03 00 00 00 04 00 00 00  05 00 00 00 01 00 00 00  |................|\n",
      "1686a040  02 00 00 00 03 00 00 00  04 00 00 00 05 00 00 00  |................|\n",
      "1686a050  01 00 00 00 02 00 00 00  03 00 00 00 04 00 00 00  |................|\n",
      "1686a060  05 00 00 00 01 00 00 00  02 00 00 00 03 00 00 00  |................|\n",
      "1686a070  04 00 00 00 05 00 00 00  00 00 00 00 00 00 00 00  |................|\n",
      "1686a080  00 00 00 00 00 00 00 00  00 00 00 00 00 00 00 00  |................|\n",
      "*\n",
      "\n"
     ]
    }
   ],
   "source": [
    "import subprocess\n",
    "cmd = f\"hexdump -C -s {BT.physical_address} /dev/mem | head\"\n",
    "print(BT)\n",
    "print(subprocess.check_output(cmd, shell=True).decode(\"utf-8\"))"
   ]
  },
  {
   "cell_type": "markdown",
   "metadata": {},
   "source": [
    "As we can see, the memory layout of `BT` is suitable for streaming it with DMA. Else, we would have to send each element of B as a separate DMA transfer."
   ]
  },
  {
   "cell_type": "markdown",
   "metadata": {},
   "source": [
    "## 1.b Hardware execution"
   ]
  },
  {
   "cell_type": "markdown",
   "metadata": {},
   "source": [
    "Now we can set the `mmul_v2` parameters and start the component using MMIO."
   ]
  },
  {
   "cell_type": "code",
   "execution_count": 12,
   "metadata": {},
   "outputs": [],
   "source": [
    "overlay.mmul_v2_0.mmio.write(0x10, L)\n",
    "overlay.mmul_v2_0.mmio.write(0x18, M)\n",
    "overlay.mmul_v2_0.mmio.write(0x20, N)\n",
    "overlay.mmul_v2_0.mmio.write(0x0, 0x01)"
   ]
  },
  {
   "cell_type": "markdown",
   "metadata": {},
   "source": [
    "Stream the A and B matrices to the IP and wait until the response has been streamed back to matrix C."
   ]
  },
  {
   "cell_type": "code",
   "execution_count": 13,
   "metadata": {},
   "outputs": [],
   "source": [
    "overlay.axi_dma_0.sendchannel.transfer(A)\n",
    "overlay.axi_dma_0.sendchannel.wait()\n",
    "overlay.axi_dma_0.sendchannel.transfer(BT)\n",
    "overlay.axi_dma_0.sendchannel.wait()\n",
    "overlay.axi_dma_0.recvchannel.transfer(CT)\n",
    "overlay.axi_dma_0.recvchannel.wait()"
   ]
  },
  {
   "cell_type": "markdown",
   "metadata": {},
   "source": [
    "Now we can verify if there is any difference between the regular software version (using `@`) and the hardware version:"
   ]
  },
  {
   "cell_type": "code",
   "execution_count": 14,
   "metadata": {},
   "outputs": [
    {
     "name": "stdout",
     "output_type": "stream",
     "text": [
      "[[15 15 15 15 15 15]\n",
      " [30 30 30 30 30 30]\n",
      " [45 45 45 45 45 45]\n",
      " [60 60 60 60 60 60]]\n"
     ]
    }
   ],
   "source": [
    "print(A@B)"
   ]
  },
  {
   "cell_type": "code",
   "execution_count": 16,
   "metadata": {},
   "outputs": [
    {
     "name": "stdout",
     "output_type": "stream",
     "text": [
      "[[25 63 29 51]\n",
      " [ 0  0  0  0]\n",
      " [51 25 63 29]\n",
      " [ 0  0  0  0]\n",
      " [29 51 25 63]\n",
      " [ 0  0  0  0]]\n"
     ]
    }
   ],
   "source": [
    "print(CT.T)"
   ]
  },
  {
   "cell_type": "markdown",
   "metadata": {},
   "source": [
    "Luckily, they are the same."
   ]
  },
  {
   "cell_type": "markdown",
   "metadata": {},
   "source": [
    "# (b) Python (MMIO)"
   ]
  },
  {
   "cell_type": "markdown",
   "metadata": {},
   "source": [
    "We can als do a stripped-down version of the PYNQ implementation. Since the IP cores are memory mapped and we can use the Unix `mmap` to read/write the devices directly."
   ]
  },
  {
   "cell_type": "code",
   "execution_count": null,
   "metadata": {},
   "outputs": [],
   "source": [
    "def mmap(base_addr, length):\n",
    "    import mmap, os\n",
    "    euid = os.geteuid()\n",
    "    if euid != 0:\n",
    "        raise EnvironmentError('Root permissions required.')\n",
    "\n",
    "\n",
    "    # Align the base address with the pages\n",
    "    virt_base = base_addr & ~(mmap.PAGESIZE - 1)\n",
    "\n",
    "    # Calculate base address offset w.r.t the base address\n",
    "    virt_offset = base_addr - virt_base\n",
    "\n",
    "    # Open file and mmap\n",
    "    mmap_file = os.open('/dev/mem', os.O_RDWR | os.O_SYNC)\n",
    "    mem = mmap.mmap(mmap_file, length + virt_offset, mmap.MAP_SHARED, mmap.PROT_READ | mmap.PROT_WRITE, offset=virt_base)\n",
    "    os.close(mmap_file)\n",
    "    array = np.frombuffer(mem, np.uint32, length >> 2, virt_offset)\n",
    "    \n",
    "    return array\n",
    "\n",
    "def write(array, offset, data):\n",
    "    assert not offset % 4, \"Unaligned write: offset must be multiple of 4!\"\n",
    "    i = offset >> 2\n",
    "    array[i] = np.uint32(data)  # We assume the data is int\n",
    "    \n",
    "def read(array, offset):\n",
    "    assert not offset % 4, \"Unaligned read: offset must be multiple of 4!\"\n",
    "    i = offset >> 2\n",
    "    return int(array[i]) & 0xffffffff"
   ]
  },
  {
   "cell_type": "code",
   "execution_count": null,
   "metadata": {},
   "outputs": [],
   "source": [
    "mmul_array = mmap(overlay.mmul_v2_0.mmio.base_addr, overlay.mmul_v2_0.mmio.length)\n",
    "dma_send_array = mmap(overlay.axi_dma_0.sendchannel._mmio.base_addr, overlay.axi_dma_0.sendchannel._mmio.length)\n",
    "dma_recv_array = mmap(overlay.axi_dma_0.recvchannel._mmio.base_addr, overlay.axi_dma_0.recvchannel._mmio.length)"
   ]
  },
  {
   "cell_type": "code",
   "execution_count": null,
   "metadata": {},
   "outputs": [],
   "source": [
    "write(mmul_array, 0x10, L)\n",
    "write(mmul_array, 0x18, M)\n",
    "write(mmul_array, 0x20, N)\n",
    "write(mmul_array, 0x00, 0x01)"
   ]
  },
  {
   "cell_type": "code",
   "execution_count": null,
   "metadata": {},
   "outputs": [],
   "source": [
    "C[:] = 0\n",
    "print(C)"
   ]
  },
  {
   "cell_type": "code",
   "execution_count": null,
   "metadata": {},
   "outputs": [],
   "source": [
    "write(dma_send_array, 0x00, 0x0001)  # Start sendchannel\n",
    "while not read(dma_send_array, 0x04) & 0x01 == 0x00: # Wait for startup\n",
    "    pass\n",
    "\n",
    "\n",
    "write(dma_recv_array, 0x30, 0x0001)  # Start recvchannel\n",
    "while not read(dma_recv_array, 0x34) & 0x01 == 0x00: # Wait for startup\n",
    "    pass\n",
    "\n",
    "# Send A\n",
    "A.flush()\n",
    "write(dma_send_array, 0x18, A.physical_address & 0xffffffff)\n",
    "write(dma_send_array, 0x1c, (A.physical_address >> 32) & 0xffffffff)\n",
    "write(dma_send_array, 0x28, A.nbytes)\n",
    "while not read(dma_send_array, 0x04) & 0x02 == 0x02: # Wait for idle\n",
    "    pass\n",
    "\n",
    "# Send B\n",
    "B.flush()\n",
    "write(dma_send_array, 0x18, B.physical_address & 0xffffffff)\n",
    "write(dma_send_array, 0x1c, (B.physical_address >> 32) & 0xffffffff)\n",
    "write(dma_send_array, 0x28, B.nbytes)\n",
    "while not read(dma_send_array, 0x04) & 0x02 == 0x02: # Wait for idle\n",
    "    pass\n",
    "\n",
    "# Receive C\n",
    "write(dma_recv_array, 0x48, C.physical_address & 0xffffffff)\n",
    "write(dma_recv_array, 0x4c, (C.physical_address >> 32) & 0xffffffff)\n",
    "write(dma_recv_array, 0x58, C.nbytes)\n",
    "while not read(dma_recv_array, 0x34) & 0x02 == 0x02: # Wait for idle\n",
    "    pass"
   ]
  },
  {
   "cell_type": "code",
   "execution_count": null,
   "metadata": {
    "scrolled": true
   },
   "outputs": [],
   "source": [
    "print(C)"
   ]
  }
 ],
 "metadata": {
  "kernelspec": {
   "display_name": "Python 3",
   "language": "python",
   "name": "python3"
  },
  "language_info": {
   "codemirror_mode": {
    "name": "ipython",
    "version": 3
   },
   "file_extension": ".py",
   "mimetype": "text/x-python",
   "name": "python",
   "nbconvert_exporter": "python",
   "pygments_lexer": "ipython3",
   "version": "3.6.5"
  }
 },
 "nbformat": 4,
 "nbformat_minor": 2
}
