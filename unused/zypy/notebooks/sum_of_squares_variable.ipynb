{
 "cells": [
  {
   "cell_type": "markdown",
   "metadata": {},
   "source": [
    "# Sum of squares (variable)"
   ]
  },
  {
   "cell_type": "markdown",
   "metadata": {},
   "source": [
    "This example shows the usage of summing the squares of an incoming data stream. The data is streamed to and from the IP using an AXI DMA component."
   ]
  },
  {
   "cell_type": "markdown",
   "metadata": {},
   "source": [
    "A first of all, the correct bitstream (.bit) and its associated hardware description (.hwh) is loaded onto the FPGA:"
   ]
  },
  {
   "cell_type": "code",
   "execution_count": 1,
   "metadata": {},
   "outputs": [
    {
     "data": {
      "application/javascript": [
       "\n",
       "try {\n",
       "require(['notebook/js/codecell'], function(codecell) {\n",
       "  codecell.CodeCell.options_default.highlight_modes[\n",
       "      'magic_text/x-csrc'] = {'reg':[/^%%microblaze/]};\n",
       "  Jupyter.notebook.events.one('kernel_ready.Kernel', function(){\n",
       "      Jupyter.notebook.get_cells().map(function(cell){\n",
       "          if (cell.cell_type == 'code'){ cell.auto_highlight(); } }) ;\n",
       "  });\n",
       "});\n",
       "} catch (e) {};\n"
      ]
     },
     "metadata": {},
     "output_type": "display_data"
    },
    {
     "data": {
      "application/javascript": [
       "\n",
       "try {\n",
       "require(['notebook/js/codecell'], function(codecell) {\n",
       "  codecell.CodeCell.options_default.highlight_modes[\n",
       "      'magic_text/x-csrc'] = {'reg':[/^%%pybind11/]};\n",
       "  Jupyter.notebook.events.one('kernel_ready.Kernel', function(){\n",
       "      Jupyter.notebook.get_cells().map(function(cell){\n",
       "          if (cell.cell_type == 'code'){ cell.auto_highlight(); } }) ;\n",
       "  });\n",
       "});\n",
       "} catch (e) {};\n"
      ]
     },
     "metadata": {},
     "output_type": "display_data"
    }
   ],
   "source": [
    "from pynq import Overlay, MMIO\n",
    "from pynq.lib import AxiGPIO\n",
    "\n",
    "overlay = Overlay(\"/home/xilinx/overlays/sum_of_squares_variable_rst.bit\")\n",
    "overlay.download()"
   ]
  },
  {
   "cell_type": "markdown",
   "metadata": {
    "slideshow": {
     "slide_type": "slide"
    }
   },
   "source": [
    "The components in the design and all associated metadata can be found in the `ip_dict`."
   ]
  },
  {
   "cell_type": "code",
   "execution_count": 2,
   "metadata": {},
   "outputs": [
    {
     "data": {
      "text/plain": [
       "['axi_dma_0', 'axi_gpio_0', 'sum_of_squares_varia_0', 'processing_system7_0']"
      ]
     },
     "execution_count": 2,
     "metadata": {},
     "output_type": "execute_result"
    }
   ],
   "source": [
    "[key for key in overlay.ip_dict.keys()]"
   ]
  },
  {
   "cell_type": "markdown",
   "metadata": {},
   "source": [
    "# Example with small array"
   ]
  },
  {
   "cell_type": "markdown",
   "metadata": {},
   "source": [
    "Next, the input stream is allocated and populated with random data."
   ]
  },
  {
   "cell_type": "code",
   "execution_count": 3,
   "metadata": {},
   "outputs": [],
   "source": [
    "from pynq import allocate\n",
    "import numpy as np\n",
    "\n",
    "A = allocate(shape=(39,), dtype=np.uint32)\n",
    "\n",
    "A[:] = np.random.randint(39, size=(39,))"
   ]
  },
  {
   "cell_type": "markdown",
   "metadata": {},
   "source": [
    "Because the reset of the IP core is done using AXI GPIO, and the reset is active low, we need to set the value to `1` first. Else, the IP core will be permanently reset."
   ]
  },
  {
   "cell_type": "code",
   "execution_count": 4,
   "metadata": {},
   "outputs": [
    {
     "data": {
      "text/plain": [
       "1"
      ]
     },
     "execution_count": 4,
     "metadata": {},
     "output_type": "execute_result"
    }
   ],
   "source": [
    "overlay.axi_gpio_0.channel1[0].on()\n",
    "overlay.axi_gpio_0.channel1.read()"
   ]
  },
  {
   "cell_type": "markdown",
   "metadata": {},
   "source": [
    "First, we signal the length of the stream (minus one) to the IP component."
   ]
  },
  {
   "cell_type": "code",
   "execution_count": 5,
   "metadata": {},
   "outputs": [],
   "source": [
    "overlay.sum_of_squares_varia_0.mmio.write(0x18, A.size - 1)"
   ]
  },
  {
   "cell_type": "markdown",
   "metadata": {},
   "source": [
    "Then we start the `sum_of_squares_varia_0` IP. This can be done by writing a start bit to the memory."
   ]
  },
  {
   "cell_type": "code",
   "execution_count": 6,
   "metadata": {},
   "outputs": [],
   "source": [
    "overlay.sum_of_squares_varia_0.mmio.write(0x0, 0x01)"
   ]
  },
  {
   "cell_type": "markdown",
   "metadata": {},
   "source": [
    "Stream to the IP and wait until it completes."
   ]
  },
  {
   "cell_type": "code",
   "execution_count": 7,
   "metadata": {},
   "outputs": [],
   "source": [
    "overlay.axi_dma_0.sendchannel.transfer(A)\n",
    "overlay.axi_dma_0.sendchannel.wait()"
   ]
  },
  {
   "cell_type": "markdown",
   "metadata": {},
   "source": [
    "Indeed, the result is the same when using NumPy's software implementation."
   ]
  },
  {
   "cell_type": "code",
   "execution_count": 8,
   "metadata": {},
   "outputs": [
    {
     "name": "stdout",
     "output_type": "stream",
     "text": [
      "17438\n",
      "17438\n"
     ]
    }
   ],
   "source": [
    "print(overlay.sum_of_squares_varia_0.mmio.read(0x10))\n",
    "print(sum(A**2))"
   ]
  },
  {
   "cell_type": "markdown",
   "metadata": {},
   "source": [
    "# Example with large array"
   ]
  },
  {
   "cell_type": "markdown",
   "metadata": {},
   "source": [
    "We now allocate a much larger input stream and populate it with random data."
   ]
  },
  {
   "cell_type": "code",
   "execution_count": 28,
   "metadata": {},
   "outputs": [],
   "source": [
    "from pynq import allocate\n",
    "import numpy as np\n",
    "\n",
    "A = allocate(shape=(300,), dtype=np.uint32)\n",
    "\n",
    "# A[:] = np.random.randint(2500, size=(2500,))\n",
    "A[:] = np.arange(300)"
   ]
  },
  {
   "cell_type": "markdown",
   "metadata": {},
   "source": [
    "We first reset the IP core (active low):"
   ]
  },
  {
   "cell_type": "code",
   "execution_count": 29,
   "metadata": {},
   "outputs": [
    {
     "data": {
      "text/plain": [
       "1"
      ]
     },
     "execution_count": 29,
     "metadata": {},
     "output_type": "execute_result"
    }
   ],
   "source": [
    "overlay.axi_gpio_0.channel1[0].off()\n",
    "overlay.axi_gpio_0.channel1[0].on()\n",
    "overlay.axi_gpio_0.channel1.read()"
   ]
  },
  {
   "cell_type": "markdown",
   "metadata": {},
   "source": [
    "The IP core can handle a maximum of 256 values at once. Therefore, we need to split up the array in chunks and send them one-by-one. This will be done implicitly when using DMA. By using a static accumulator in the IP core, we only have to read back the result at the very end."
   ]
  },
  {
   "cell_type": "code",
   "execution_count": 30,
   "metadata": {},
   "outputs": [
    {
     "name": "stdout",
     "output_type": "stream",
     "text": [
      "1 44\n"
     ]
    }
   ],
   "source": [
    "STREAM_LEN = 256;\n",
    "iterations = A.size // STREAM_LEN;\n",
    "remainder = A.size % STREAM_LEN;\n",
    "\n",
    "print(iterations, remainder)\n",
    "\n",
    "# if iterations:\n",
    "#     overlay.sum_of_squares_varia_0.mmio.write(0x18, STREAM_LEN - 1)\n",
    "#     overlay.sum_of_squares_varia_0.mmio.write(0x0, 0x81)\n",
    "#     overlay.axi_dma_0.sendchannel.transfer(A[:iterations * STREAM_LEN])\n",
    "#     overlay.axi_dma_0.sendchannel.wait()"
   ]
  },
  {
   "cell_type": "code",
   "execution_count": 31,
   "metadata": {},
   "outputs": [],
   "source": [
    "if remainder:\n",
    "    overlay.sum_of_squares_varia_0.mmio.write(0x18, remainder - 1)\n",
    "    overlay.sum_of_squares_varia_0.mmio.write(0x0, 0x01)\n",
    "    #     overlay.sum_of_squares_varia_0.mmio.write(0x0, 0x01)\n",
    "#     print(overlay.sum_of_squares_varia_0.mmio.read(0x0))\n",
    "    overlay.axi_dma_0.sendchannel.transfer(A[iterations * STREAM_LEN:])\n",
    "    overlay.axi_dma_0.sendchannel.wait()"
   ]
  },
  {
   "cell_type": "markdown",
   "metadata": {},
   "source": [
    "We again check if the result matches the software implementation:"
   ]
  },
  {
   "cell_type": "code",
   "execution_count": 32,
   "metadata": {},
   "outputs": [
    {
     "name": "stdout",
     "output_type": "stream",
     "text": [
      "3395370\n",
      "8955050\n"
     ]
    }
   ],
   "source": [
    "print(overlay.sum_of_squares_varia_0.mmio.read(0x10))\n",
    "print(sum(A**2))"
   ]
  },
  {
   "cell_type": "code",
   "execution_count": 13,
   "metadata": {},
   "outputs": [
    {
     "name": "stdout",
     "output_type": "stream",
     "text": [
      "5559680\n"
     ]
    }
   ],
   "source": [
    "print(sum(A[:256]**2))"
   ]
  },
  {
   "cell_type": "code",
   "execution_count": null,
   "metadata": {},
   "outputs": [],
   "source": []
  }
 ],
 "metadata": {
  "kernelspec": {
   "display_name": "Python 3",
   "language": "python",
   "name": "python3"
  },
  "language_info": {
   "codemirror_mode": {
    "name": "ipython",
    "version": 3
   },
   "file_extension": ".py",
   "mimetype": "text/x-python",
   "name": "python",
   "nbconvert_exporter": "python",
   "pygments_lexer": "ipython3",
   "version": "3.6.5"
  }
 },
 "nbformat": 4,
 "nbformat_minor": 2
}
