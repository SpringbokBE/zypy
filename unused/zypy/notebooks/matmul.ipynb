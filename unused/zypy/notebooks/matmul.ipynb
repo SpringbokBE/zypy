{
 "cells": [
  {
   "cell_type": "markdown",
   "metadata": {},
   "source": [
    "# Matrix multiplication"
   ]
  },
  {
   "cell_type": "markdown",
   "metadata": {},
   "source": [
    "This example shows the usage of a 32x32 floating point multiplication in hardware. The data is streamed to and from the IP using an AXI DMA component."
   ]
  },
  {
   "cell_type": "markdown",
   "metadata": {},
   "source": [
    "A first of all, the correct bitstream (.bit) and its associated hardware description (.hwh) is loaded onto the FPGA:"
   ]
  },
  {
   "cell_type": "code",
   "execution_count": 1,
   "metadata": {},
   "outputs": [
    {
     "data": {
      "application/javascript": [
       "\n",
       "try {\n",
       "require(['notebook/js/codecell'], function(codecell) {\n",
       "  codecell.CodeCell.options_default.highlight_modes[\n",
       "      'magic_text/x-csrc'] = {'reg':[/^%%microblaze/]};\n",
       "  Jupyter.notebook.events.one('kernel_ready.Kernel', function(){\n",
       "      Jupyter.notebook.get_cells().map(function(cell){\n",
       "          if (cell.cell_type == 'code'){ cell.auto_highlight(); } }) ;\n",
       "  });\n",
       "});\n",
       "} catch (e) {};\n"
      ]
     },
     "metadata": {},
     "output_type": "display_data"
    },
    {
     "data": {
      "application/javascript": [
       "\n",
       "try {\n",
       "require(['notebook/js/codecell'], function(codecell) {\n",
       "  codecell.CodeCell.options_default.highlight_modes[\n",
       "      'magic_text/x-csrc'] = {'reg':[/^%%pybind11/]};\n",
       "  Jupyter.notebook.events.one('kernel_ready.Kernel', function(){\n",
       "      Jupyter.notebook.get_cells().map(function(cell){\n",
       "          if (cell.cell_type == 'code'){ cell.auto_highlight(); } }) ;\n",
       "  });\n",
       "});\n",
       "} catch (e) {};\n"
      ]
     },
     "metadata": {},
     "output_type": "display_data"
    }
   ],
   "source": [
    "from pynq import Overlay, MMIO\n",
    "\n",
    "overlay = Overlay(\"/home/xilinx/overlays/matmul.bit\")\n",
    "overlay.download()"
   ]
  },
  {
   "cell_type": "markdown",
   "metadata": {
    "slideshow": {
     "slide_type": "slide"
    }
   },
   "source": [
    "The components in the design and all associated metadata can be found in the `ip_dict`."
   ]
  },
  {
   "cell_type": "code",
   "execution_count": 2,
   "metadata": {},
   "outputs": [
    {
     "data": {
      "text/plain": [
       "['axi_dma_0', 'matmul_0', 'processing_system7_0']"
      ]
     },
     "execution_count": 2,
     "metadata": {},
     "output_type": "execute_result"
    }
   ],
   "source": [
    "[key for key in overlay.ip_dict.keys()]"
   ]
  },
  {
   "cell_type": "markdown",
   "metadata": {},
   "source": [
    "Next, the input and output matrices are allocated and populated with random data."
   ]
  },
  {
   "cell_type": "code",
   "execution_count": 3,
   "metadata": {},
   "outputs": [],
   "source": [
    "from pynq import allocate\n",
    "import numpy as np\n",
    "\n",
    "A = allocate(shape=(32,32), dtype=np.single)\n",
    "B = allocate(shape=(32,32), dtype=np.single)\n",
    "C = allocate(shape=(32,32), dtype=np.single)\n",
    "\n",
    "A[:] = np.random.rand(32, 32)\n",
    "B[:] = np.random.rand(32, 32)"
   ]
  },
  {
   "cell_type": "markdown",
   "metadata": {},
   "source": [
    "Start the `matmul` IP. This can be done by writing a start (and autorestart) bit to the memory, because all components are memory mapped by default."
   ]
  },
  {
   "cell_type": "code",
   "execution_count": 4,
   "metadata": {},
   "outputs": [],
   "source": [
    "overlay.matmul_0.mmio.write(0x0, 0x81)"
   ]
  },
  {
   "cell_type": "markdown",
   "metadata": {},
   "source": [
    "Stream the A and B matrices to the IP and wait until the response has been streamed back to matrix C."
   ]
  },
  {
   "cell_type": "code",
   "execution_count": 5,
   "metadata": {},
   "outputs": [],
   "source": [
    "overlay.axi_dma_0.sendchannel.transfer(A)\n",
    "overlay.axi_dma_0.sendchannel.wait()\n",
    "overlay.axi_dma_0.sendchannel.transfer(B)\n",
    "overlay.axi_dma_0.sendchannel.wait()\n",
    "overlay.axi_dma_0.recvchannel.transfer(C)\n",
    "overlay.axi_dma_0.recvchannel.wait()"
   ]
  },
  {
   "cell_type": "markdown",
   "metadata": {},
   "source": [
    "Now we can verify if there is any difference between the regular software version (using `@`) and the hardware version:"
   ]
  },
  {
   "cell_type": "code",
   "execution_count": 6,
   "metadata": {},
   "outputs": [
    {
     "name": "stdout",
     "output_type": "stream",
     "text": [
      "[[10.582283   9.44932    8.677923  ... 10.936913   9.450773  11.509162 ]\n",
      " [ 9.852601   7.74787    6.9610806 ...  8.905417   7.4958234  9.296692 ]\n",
      " [ 8.124746   7.477977   6.189775  ...  7.8957343  6.4541636  9.025695 ]\n",
      " ...\n",
      " [ 8.692516   6.999814   6.1991825 ...  7.870747   6.946889   8.9476595]\n",
      " [ 7.959147   8.554923   7.000863  ...  8.619805   7.314119   9.380833 ]\n",
      " [ 9.062386   8.559791   7.176244  ...  8.954982   8.023294  10.618    ]]\n",
      "[[10.582283   9.44932    8.677923  ... 10.936913   9.450773  11.509162 ]\n",
      " [ 9.852601   7.74787    6.9610806 ...  8.905417   7.4958234  9.296692 ]\n",
      " [ 8.124746   7.477977   6.189775  ...  7.8957343  6.4541636  9.025695 ]\n",
      " ...\n",
      " [ 8.692516   6.999814   6.1991825 ...  7.870747   6.946889   8.9476595]\n",
      " [ 7.959147   8.554923   7.000863  ...  8.619805   7.314119   9.380833 ]\n",
      " [ 9.062386   8.559791   7.176244  ...  8.954982   8.023294  10.618    ]]\n"
     ]
    }
   ],
   "source": [
    "print(A@B)\n",
    "print(C)"
   ]
  },
  {
   "cell_type": "markdown",
   "metadata": {},
   "source": [
    "Luckily, they are the same."
   ]
  }
 ],
 "metadata": {
  "kernelspec": {
   "display_name": "Python 3",
   "language": "python",
   "name": "python3"
  },
  "language_info": {
   "codemirror_mode": {
    "name": "ipython",
    "version": 3
   },
   "file_extension": ".py",
   "mimetype": "text/x-python",
   "name": "python",
   "nbconvert_exporter": "python",
   "pygments_lexer": "ipython3",
   "version": "3.7.0b3"
  }
 },
 "nbformat": 4,
 "nbformat_minor": 2
}
