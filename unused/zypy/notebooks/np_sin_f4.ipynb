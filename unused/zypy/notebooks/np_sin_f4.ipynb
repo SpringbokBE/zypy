{
 "cells": [
  {
   "cell_type": "markdown",
   "metadata": {},
   "source": [
    "# `np_sin_4f4`"
   ]
  },
  {
   "cell_type": "code",
   "execution_count": 1,
   "metadata": {},
   "outputs": [
    {
     "data": {
      "application/javascript": [
       "\n",
       "try {\n",
       "require(['notebook/js/codecell'], function(codecell) {\n",
       "  codecell.CodeCell.options_default.highlight_modes[\n",
       "      'magic_text/x-csrc'] = {'reg':[/^%%microblaze/]};\n",
       "  Jupyter.notebook.events.one('kernel_ready.Kernel', function(){\n",
       "      Jupyter.notebook.get_cells().map(function(cell){\n",
       "          if (cell.cell_type == 'code'){ cell.auto_highlight(); } }) ;\n",
       "  });\n",
       "});\n",
       "} catch (e) {};\n"
      ]
     },
     "metadata": {},
     "output_type": "display_data"
    },
    {
     "data": {
      "application/javascript": [
       "\n",
       "try {\n",
       "require(['notebook/js/codecell'], function(codecell) {\n",
       "  codecell.CodeCell.options_default.highlight_modes[\n",
       "      'magic_text/x-csrc'] = {'reg':[/^%%pybind11/]};\n",
       "  Jupyter.notebook.events.one('kernel_ready.Kernel', function(){\n",
       "      Jupyter.notebook.get_cells().map(function(cell){\n",
       "          if (cell.cell_type == 'code'){ cell.auto_highlight(); } }) ;\n",
       "  });\n",
       "});\n",
       "} catch (e) {};\n"
      ]
     },
     "metadata": {},
     "output_type": "display_data"
    }
   ],
   "source": [
    "from pynq import Overlay, allocate\n",
    "import numpy as np\n",
    "\n",
    "# overlay = Overlay(\"/home/xilinx/jupyter_notebooks/np/overlays/np_sin_f4.bit\")\n",
    "# overlay = Overlay(\"/home/xilinx/jupyter_notebooks/np/overlays/np_sin_2f4.bit\")\n",
    "# overlay = Overlay(\"/home/xilinx/jupyter_notebooks/np/overlays/np_sin_4f4.bit\")\n",
    "overlay = Overlay(\"/home/xilinx/jupyter_notebooks/np/overlays/np_sin_8f4.bit\")\n",
    "\n",
    "L = 2**13\n",
    "\n",
    "A = allocate(shape=(L,), dtype=\"f4\")\n",
    "B = allocate(shape=(L,), dtype=\"f4\")\n",
    "\n",
    "A[:] = np.random.rand(L)\n",
    "B[:] = np.zeros(L)"
   ]
  },
  {
   "cell_type": "markdown",
   "metadata": {},
   "source": [
    "## NumPy"
   ]
  },
  {
   "cell_type": "code",
   "execution_count": 2,
   "metadata": {},
   "outputs": [
    {
     "name": "stdout",
     "output_type": "stream",
     "text": [
      "[0.70785785 0.11268552 0.4769256  ... 0.38561714 0.42933264 0.63132733]\n"
     ]
    }
   ],
   "source": [
    "def np_sin_f4_numpy(x1, out):\n",
    "    np.sin(x1, out)\n",
    "\n",
    "B[:] = 0\n",
    "np_sin_f4_numpy(A, B)\n",
    "print(B)"
   ]
  },
  {
   "cell_type": "markdown",
   "metadata": {},
   "source": [
    "## PYNQ"
   ]
  },
  {
   "cell_type": "code",
   "execution_count": 3,
   "metadata": {},
   "outputs": [
    {
     "name": "stdout",
     "output_type": "stream",
     "text": [
      "[0.70785785 0.11268552 0.47692558 ... 0.3856171  0.4293326  0.6313273 ]\n"
     ]
    }
   ],
   "source": [
    "def np_sin_f4_pynq(x1, out):\n",
    "#     overlay.np_sin_f4_hw_0.mmio.write(0x0, 0x01)\n",
    "#     overlay.np_sin_2f4_hw_0.mmio.write(0x0, 0x01)\n",
    "#     overlay.np_sin_4f4_hw_0.mmio.write(0x0, 0x01)\n",
    "    overlay.np_sin_8f4_hw_0.mmio.write(0x0, 0x01)\n",
    "\n",
    "    overlay.axi_dma_0.sendchannel.transfer(x1)\n",
    "    overlay.axi_dma_1.recvchannel.transfer(out)\n",
    "    overlay.axi_dma_1.recvchannel.wait()\n",
    "\n",
    "B[:] = 0\n",
    "np_sin_f4_pynq(A, B)\n",
    "print(B)"
   ]
  },
  {
   "cell_type": "markdown",
   "metadata": {},
   "source": [
    "## pybind11"
   ]
  },
  {
   "cell_type": "code",
   "execution_count": 4,
   "metadata": {},
   "outputs": [],
   "source": [
    "%%pybind11 np_sin_f4\n",
    "\n",
    "#include <unistd.h>\n",
    "#include <fcntl.h>\n",
    "#include <termios.h>\n",
    "#include <sys/mman.h>\n",
    "\n",
    "#define MM2S_DMACR 0x00\n",
    "#define MM2S_DMACR_RS 0x00000001\n",
    "#define MM2S_DMACR_Reset 0x00000004\n",
    "#define MM2S_DMASR 0x04\n",
    "#define MM2S_DMASR_Halted 0x00000001\n",
    "#define MM2S_DMASR_Idle 0x00000002\n",
    "#define MM2S_SA 0x18\n",
    "#define MM2S_SA_MSB 0x1c\n",
    "#define MM2S_LENGTH 0x28\n",
    "\n",
    "#define S2MM_DMACR 0x30\n",
    "#define S2MM_DMACR_RS 0x00000001\n",
    "#define S2MM_DMACR_Reset 0x00000004\n",
    "#define S2MM_DMASR 0x34\n",
    "#define S2MM_DMASR_Halted 0x00000001\n",
    "#define S2MM_DMASR_Idle 0x00000002\n",
    "#define S2MM_DA 0x48\n",
    "#define S2MM_DA_MSB 0x4c\n",
    "#define S2MM_LENGTH 0x58\n",
    "\n",
    "#define printf py::print\n",
    "\n",
    "#define DMA_0_ADDR 0x40400000\n",
    "#define dma_0_get(x) DMA_0_VADDR[x >> 2]\n",
    "#define dma_0_set(x, y) DMA_0_VADDR[x >> 2] = y\n",
    "\n",
    "#define DMA_1_ADDR 0x40410000\n",
    "#define dma_1_get(x) DMA_1_VADDR[x >> 2]\n",
    "#define dma_1_set(x, y) DMA_1_VADDR[x >> 2] = y\n",
    "\n",
    "#define IP_ADDR 0x43C00000 \n",
    "#define ip_start() IP_VADDR[0x00 >> 2] = 0x00000001\n",
    "\n",
    "void np_sin_f4(unsigned int x1_addr,\n",
    "               unsigned int out_addr,\n",
    "               unsigned int stream_len)\n",
    "{\n",
    "    int fd = open(\"/dev/mem\", O_RDWR | O_SYNC);\n",
    "    volatile unsigned int * DMA_0_VADDR = (volatile unsigned int *) mmap(\n",
    "            NULL, 65535, PROT_READ | PROT_WRITE, MAP_SHARED, fd, DMA_0_ADDR\n",
    "    );\n",
    "    volatile unsigned int * DMA_1_VADDR = (volatile unsigned int *) mmap(\n",
    "            NULL, 65535, PROT_READ | PROT_WRITE, MAP_SHARED, fd, DMA_1_ADDR\n",
    "    );\n",
    "    volatile unsigned int * IP_VADDR = (volatile unsigned int *) mmap(\n",
    "            NULL, 65535, PROT_READ | PROT_WRITE, MAP_SHARED, fd, IP_ADDR\n",
    "    );\n",
    "    \n",
    "    ip_start();\n",
    "    \n",
    "    dma_0_set(S2MM_DMACR, S2MM_DMACR_Reset);\n",
    "    dma_1_set(S2MM_DMACR, S2MM_DMACR_Reset);\n",
    "    \n",
    "    dma_0_set(S2MM_DMACR, S2MM_DMACR_RS);\n",
    "    dma_1_set(S2MM_DMACR, S2MM_DMACR_RS);\n",
    "    \n",
    "    dma_0_set(MM2S_SA, x1_addr);\n",
    "    dma_0_set(MM2S_LENGTH, stream_len * sizeof(float));\n",
    "    \n",
    "    dma_1_set(S2MM_DA, out_addr);\n",
    "    dma_1_set(S2MM_LENGTH, stream_len * sizeof(float));\n",
    "    \n",
    "    while(!(dma_1_get(S2MM_DMASR) & S2MM_DMASR_Idle));\n",
    "    \n",
    "    close(fd);\n",
    "}"
   ]
  },
  {
   "cell_type": "code",
   "execution_count": 5,
   "metadata": {
    "scrolled": true
   },
   "outputs": [
    {
     "name": "stdout",
     "output_type": "stream",
     "text": [
      "[0.70785785 0.11268552 0.47692558 ... 0.3856171  0.4293326  0.6313273 ]\n"
     ]
    }
   ],
   "source": [
    "import np_sin_f4 as calc\n",
    "\n",
    "def np_sin_f4_pybind11(x1, out):\n",
    "    calc.np_sin_f4(x1.physical_address, out.physical_address, x1.size)\n",
    "\n",
    "B[:] = 0\n",
    "np_sin_f4_pybind11(A, B)\n",
    "print(B)"
   ]
  },
  {
   "cell_type": "markdown",
   "metadata": {},
   "source": [
    "## CFFI"
   ]
  },
  {
   "cell_type": "code",
   "execution_count": 6,
   "metadata": {
    "scrolled": false
   },
   "outputs": [
    {
     "name": "stdout",
     "output_type": "stream",
     "text": [
      "Overwriting build_np_sin_f4_cffi.py\n"
     ]
    }
   ],
   "source": [
    "%%writefile build_np_sin_f4_cffi.py\n",
    "\n",
    "from cffi import FFI\n",
    "ffibuilder = FFI()\n",
    "\n",
    "ffibuilder.cdef(\n",
    "    r\"\"\"\n",
    "    void np_sin_f4(unsigned int x1_addr,\n",
    "                   unsigned int out_addr,\n",
    "                   unsigned int stream_len);\n",
    "    \"\"\"\n",
    ")\n",
    "\n",
    "ffibuilder.set_source(\"np_sin_f4_cffi\",\n",
    "    r\"\"\"\n",
    "    #include <unistd.h>\n",
    "    #include <fcntl.h>\n",
    "    #include <termios.h>\n",
    "    #include <sys/mman.h>\n",
    "\n",
    "    #define MM2S_DMACR 0x00\n",
    "    #define MM2S_DMACR_RS 0x00000001\n",
    "    #define MM2S_DMACR_Reset 0x00000004\n",
    "    #define MM2S_DMASR 0x04\n",
    "    #define MM2S_DMASR_Halted 0x00000001\n",
    "    #define MM2S_DMASR_Idle 0x00000002\n",
    "    #define MM2S_SA 0x18\n",
    "    #define MM2S_SA_MSB 0x1c\n",
    "    #define MM2S_LENGTH 0x28\n",
    "\n",
    "    #define S2MM_DMACR 0x30\n",
    "    #define S2MM_DMACR_RS 0x00000001\n",
    "    #define S2MM_DMACR_Reset 0x00000004\n",
    "    #define S2MM_DMASR 0x34\n",
    "    #define S2MM_DMASR_Halted 0x00000001\n",
    "    #define S2MM_DMASR_Idle 0x00000002\n",
    "    #define S2MM_DA 0x48\n",
    "    #define S2MM_DA_MSB 0x4c\n",
    "    #define S2MM_LENGTH 0x58\n",
    "\n",
    "    #define printf py::print\n",
    "\n",
    "    #define DMA_0_ADDR 0x40400000\n",
    "    #define dma_0_get(x) DMA_0_VADDR[x >> 2]\n",
    "    #define dma_0_set(x, y) DMA_0_VADDR[x >> 2] = y\n",
    "\n",
    "    #define DMA_1_ADDR 0x40410000\n",
    "    #define dma_1_get(x) DMA_1_VADDR[x >> 2]\n",
    "    #define dma_1_set(x, y) DMA_1_VADDR[x >> 2] = y\n",
    "\n",
    "    #define IP_ADDR 0x43C00000 \n",
    "    #define ip_start() IP_VADDR[0x00 >> 2] = 0x00000001\n",
    "\n",
    "    void np_sin_f4(unsigned int x1_addr,\n",
    "                   unsigned int out_addr,\n",
    "                   unsigned int stream_len)\n",
    "    {\n",
    "        int fd = open(\"/dev/mem\", O_RDWR | O_SYNC);\n",
    "        volatile unsigned int * DMA_0_VADDR = (volatile unsigned int *) mmap(\n",
    "                NULL, 65535, PROT_READ | PROT_WRITE, MAP_SHARED, fd, DMA_0_ADDR\n",
    "        );\n",
    "        volatile unsigned int * DMA_1_VADDR = (volatile unsigned int *) mmap(\n",
    "                NULL, 65535, PROT_READ | PROT_WRITE, MAP_SHARED, fd, DMA_1_ADDR\n",
    "        );\n",
    "        volatile unsigned int * IP_VADDR = (volatile unsigned int *) mmap(\n",
    "                NULL, 65535, PROT_READ | PROT_WRITE, MAP_SHARED, fd, IP_ADDR\n",
    "        );\n",
    "\n",
    "        ip_start();\n",
    "\n",
    "        dma_0_set(S2MM_DMACR, S2MM_DMACR_Reset);\n",
    "        dma_1_set(S2MM_DMACR, S2MM_DMACR_Reset);\n",
    "\n",
    "        dma_0_set(S2MM_DMACR, S2MM_DMACR_RS);\n",
    "        dma_1_set(S2MM_DMACR, S2MM_DMACR_RS);\n",
    "\n",
    "        dma_0_set(MM2S_SA, x1_addr);\n",
    "        dma_0_set(MM2S_LENGTH, stream_len * sizeof(float));\n",
    "\n",
    "        dma_1_set(S2MM_DA, out_addr);\n",
    "        dma_1_set(S2MM_LENGTH, stream_len * sizeof(float));\n",
    "\n",
    "        while(!(dma_1_get(S2MM_DMASR) & S2MM_DMASR_Idle));\n",
    "\n",
    "        close(fd);\n",
    "    }\n",
    "    \"\"\"\n",
    ")\n",
    "\n",
    "if __name__ == \"__main__\":\n",
    "    import sys\n",
    "    print(sys.executable)\n",
    "    ffibuilder.compile(verbose=True)"
   ]
  },
  {
   "cell_type": "code",
   "execution_count": 7,
   "metadata": {
    "scrolled": true
   },
   "outputs": [
    {
     "name": "stdout",
     "output_type": "stream",
     "text": [
      "/home/xilinx/perf_env/bin/python\n",
      "generating ./np_sin_f4_cffi.c\n",
      "(already up-to-date)\n",
      "the current directory is '/home/xilinx/jupyter_notebooks/np/build'\n",
      "running build_ext\n",
      "building 'np_sin_f4_cffi' extension\n",
      "arm-linux-gnueabihf-gcc -pthread -DNDEBUG -g -fwrapv -O2 -Wall -Wstrict-prototypes -g -fdebug-prefix-map=/build/python3.7-2QTFw6/python3.7-3.7.0~b3=. -fstack-protector-strong -Wformat -Werror=format-security -Wdate-time -D_FORTIFY_SOURCE=2 -fPIC -I/home/xilinx/perf_env/include -I/usr/include/python3.7m -c np_sin_f4_cffi.c -o ./np_sin_f4_cffi.o\n",
      "arm-linux-gnueabihf-gcc -pthread -shared -Wl,-O1 -Wl,-Bsymbolic-functions -Wl,-Bsymbolic-functions -Wl,-z,relro -Wl,-Bsymbolic-functions -Wl,-z,relro -g -fdebug-prefix-map=/build/python3.7-2QTFw6/python3.7-3.7.0~b3=. -fstack-protector-strong -Wformat -Werror=format-security -Wdate-time -D_FORTIFY_SOURCE=2 ./np_sin_f4_cffi.o -o ./np_sin_f4_cffi.cpython-37m-arm-linux-gnueabihf.so\n"
     ]
    }
   ],
   "source": [
    "%%bash\n",
    "\n",
    "/home/xilinx/perf_env/bin/python build_np_sin_f4_cffi.py"
   ]
  },
  {
   "cell_type": "code",
   "execution_count": 8,
   "metadata": {},
   "outputs": [
    {
     "name": "stdout",
     "output_type": "stream",
     "text": [
      "[0.70785785 0.11268552 0.47692558 ... 0.3856171  0.4293326  0.6313273 ]\n"
     ]
    }
   ],
   "source": [
    "from np_sin_f4_cffi import lib as calc\n",
    "\n",
    "def np_sin_f4_cffi(x1, out):\n",
    "    calc.np_sin_f4(x1.physical_address, out.physical_address, x1.size)\n",
    "\n",
    "B[:] = 0\n",
    "np_sin_f4_cffi(A, B)\n",
    "print(B)"
   ]
  },
  {
   "cell_type": "markdown",
   "metadata": {},
   "source": [
    "## Timing analysis"
   ]
  },
  {
   "cell_type": "code",
   "execution_count": 9,
   "metadata": {},
   "outputs": [
    {
     "name": "stdout",
     "output_type": "stream",
     "text": [
      "kernel = 0, n = 4, t = 4.93877e-05\n",
      "kernel = 1, n = 4, t = 0.093603566\n",
      "kernel = 2, n = 4, t = 0.0003788468\n",
      "kernel = 3, n = 4, t = 0.0001139277\n",
      "kernel = 0, n = 8, t = 4.7387400000000006e-05\n",
      "kernel = 1, n = 8, t = 0.09919343190000002\n",
      "kernel = 2, n = 8, t = 0.00036288190000000005\n",
      "kernel = 3, n = 8, t = 0.000276628\n",
      "kernel = 0, n = 16, t = 4.95945e-05\n",
      "kernel = 1, n = 16, t = 0.09335702490000002\n",
      "kernel = 2, n = 16, t = 0.0001261234\n",
      "kernel = 3, n = 16, t = 0.00018379670000000004\n",
      "kernel = 0, n = 32, t = 6.54296e-05\n",
      "kernel = 1, n = 32, t = 0.0935257857\n",
      "kernel = 2, n = 32, t = 0.0001350585\n",
      "kernel = 3, n = 32, t = 0.00018641110000000002\n",
      "kernel = 0, n = 64, t = 6.55569e-05\n",
      "kernel = 1, n = 64, t = 0.0932999463\n",
      "kernel = 2, n = 64, t = 0.0003835763\n",
      "kernel = 3, n = 64, t = 0.0001162419\n",
      "kernel = 0, n = 128, t = 8.695380000000001e-05\n",
      "kernel = 1, n = 128, t = 0.09332530630000001\n",
      "kernel = 2, n = 128, t = 0.00038553290000000004\n",
      "kernel = 3, n = 128, t = 0.0001186892\n",
      "kernel = 0, n = 256, t = 0.0001265729\n",
      "kernel = 1, n = 256, t = 0.09344882570000002\n",
      "kernel = 2, n = 256, t = 0.0003875071\n",
      "kernel = 3, n = 256, t = 0.0001225809\n",
      "kernel = 0, n = 512, t = 0.0002112031\n",
      "kernel = 1, n = 512, t = 0.0932979506\n",
      "kernel = 2, n = 512, t = 0.00040175780000000004\n",
      "kernel = 3, n = 512, t = 0.0001255483\n",
      "kernel = 0, n = 1024, t = 0.0003750981\n",
      "kernel = 1, n = 1024, t = 0.09313766540000001\n",
      "kernel = 2, n = 1024, t = 0.0001402991\n",
      "kernel = 3, n = 1024, t = 0.00019768460000000001\n",
      "kernel = 0, n = 2048, t = 0.0007042369000000001\n",
      "kernel = 1, n = 2048, t = 0.0933878011\n",
      "kernel = 2, n = 2048, t = 0.00014704800000000002\n",
      "kernel = 3, n = 2048, t = 0.0002121633\n",
      "kernel = 0, n = 4096, t = 0.0015832973\n",
      "kernel = 1, n = 4096, t = 0.093374546\n",
      "kernel = 2, n = 4096, t = 0.0004197071\n",
      "kernel = 3, n = 4096, t = 0.00014473600000000002\n",
      "kernel = 0, n = 8192, t = 0.0031029\n",
      "kernel = 1, n = 8192, t = 0.10451300050000001\n",
      "kernel = 2, n = 8192, t = 0.0001789853\n",
      "kernel = 3, n = 8192, t = 0.00023067570000000003\n",
      "kernel = 0, n = 16384, t = 0.006156016900000001\n",
      "kernel = 1, n = 16384, t = 0.0937615765\n",
      "kernel = 2, n = 16384, t = 0.0002226718\n",
      "kernel = 3, n = 16384, t = 0.00034814990000000005\n",
      "kernel = 0, n = 32768, t = 0.012253532000000001\n",
      "kernel = 1, n = 32768, t = 0.09409430540000001\n",
      "kernel = 2, n = 32768, t = 0.0008440320000000001\n",
      "kernel = 3, n = 32768, t = 0.00043300840000000005\n",
      "kernel = 0, n = 65536, t = 0.0245237584\n",
      "kernel = 1, n = 65536, t = 0.0937788672\n",
      "kernel = 2, n = 65536, t = 0.0007131028000000001\n",
      "kernel = 3, n = 65536, t = 0.0005900766\n",
      "kernel = 0, n = 131072, t = 0.04885753720000001\n",
      "kernel = 1, n = 131072, t = 0.09412509890000001\n",
      "kernel = 2, n = 131072, t = 0.0010358489000000001\n",
      "kernel = 3, n = 131072, t = 0.0008906896\n",
      "kernel = 0, n = 262144, t = 0.09747319680000001\n",
      "kernel = 1, n = 262144, t = 0.09429560940000001\n",
      "kernel = 2, n = 262144, t = 0.0016417781000000002\n",
      "kernel = 3, n = 262144, t = 0.0015366295\n",
      "kernel = 0, n = 524288, t = 0.1947683034\n",
      "kernel = 1, n = 524288, t = 0.0951347561\n",
      "kernel = 2, n = 524288, t = 0.0027724698\n",
      "kernel = 3, n = 524288, t = 0.0027542873\n",
      "kernel = 0, n = 1048576, t = 0.3957855034\n",
      "kernel = 1, n = 1048576, t = 0.0948408547\n",
      "kernel = 2, n = 1048576, t = 0.005408677000000001\n",
      "kernel = 3, n = 1048576, t = 0.005382909200000001\n",
      "kernel = 0, n = 2097152, t = 0.7786498951\n",
      "kernel = 1, n = 2097152, t = 0.1111242355\n",
      "kernel = 2, n = 2097152, t = 0.0106519625\n",
      "kernel = 3, n = 2097152, t = 0.010774153800000002\n"
     ]
    },
    {
     "data": {
      "text/html": [
       "<pre style=\"white-space:pre;overflow-x:auto;line-height:normal;font-family:Menlo,'DejaVu Sans Mono',consolas,'Courier New',monospace\">┏━━━━━━━━━┳━━━━━━━━━━━━━━━━━━━┳━━━━━━━━━━━━━━━━━━━━┳━━━━━━━━━━━━━━━━━━━┳━━━━━━━━━━━━━━━━━━━━┓\n",
       "┃<span style=\"font-weight: bold\"> n       </span>┃<span style=\"font-weight: bold\"> numpy             </span>┃<span style=\"font-weight: bold\"> pynq               </span>┃<span style=\"font-weight: bold\"> pybind11          </span>┃<span style=\"font-weight: bold\"> cffi               </span>┃\n",
       "┡━━━━━━━━━╇━━━━━━━━━━━━━━━━━━━╇━━━━━━━━━━━━━━━━━━━━╇━━━━━━━━━━━━━━━━━━━╇━━━━━━━━━━━━━━━━━━━━┩\n",
       "│ 4       │ 4.93877e-05       │ 0.093603566        │ 0.0003788468      │ 0.0001139277       │\n",
       "│ 8       │ 4.73874000000000… │ 0.099193431900000… │ 0.00036288190000… │ 0.000276628        │\n",
       "│ 16      │ 4.95945e-05       │ 0.093357024900000… │ 0.0001261234      │ 0.000183796700000… │\n",
       "│ 32      │ 6.54296e-05       │ 0.0935257857       │ 0.0001350585      │ 0.000186411100000… │\n",
       "│ 64      │ 6.55569e-05       │ 0.0932999463       │ 0.0003835763      │ 0.0001162419       │\n",
       "│ 128     │ 8.69538000000000… │ 0.093325306300000… │ 0.00038553290000… │ 0.0001186892       │\n",
       "│ 256     │ 0.0001265729      │ 0.093448825700000… │ 0.0003875071      │ 0.0001225809       │\n",
       "│ 512     │ 0.0002112031      │ 0.0932979506       │ 0.00040175780000… │ 0.0001255483       │\n",
       "│ 1024    │ 0.0003750981      │ 0.093137665400000… │ 0.0001402991      │ 0.000197684600000… │\n",
       "│ 2048    │ 0.00070423690000… │ 0.0933878011       │ 0.00014704800000… │ 0.0002121633       │\n",
       "│ 4096    │ 0.0015832973      │ 0.093374546        │ 0.0004197071      │ 0.000144736000000… │\n",
       "│ 8192    │ 0.0031029         │ 0.104513000500000… │ 0.0001789853      │ 0.000230675700000… │\n",
       "│ 16384   │ 0.00615601690000… │ 0.0937615765       │ 0.0002226718      │ 0.000348149900000… │\n",
       "│ 32768   │ 0.01225353200000… │ 0.094094305400000… │ 0.00084403200000… │ 0.000433008400000… │\n",
       "│ 65536   │ 0.0245237584      │ 0.0937788672       │ 0.00071310280000… │ 0.0005900766       │\n",
       "│ 131072  │ 0.04885753720000… │ 0.094125098900000… │ 0.00103584890000… │ 0.0008906896       │\n",
       "│ 262144  │ 0.09747319680000… │ 0.094295609400000… │ 0.00164177810000… │ 0.0015366295       │\n",
       "│ 524288  │ 0.1947683034      │ 0.0951347561       │ 0.0027724698      │ 0.0027542873       │\n",
       "│ 1048576 │ 0.3957855034      │ 0.0948408547       │ 0.00540867700000… │ 0.005382909200000… │\n",
       "│ 2097152 │ 0.7786498951      │ 0.1111242355       │ 0.0106519625      │ 0.010774153800000… │\n",
       "└─────────┴───────────────────┴────────────────────┴───────────────────┴────────────────────┘\n",
       "</pre>\n"
      ],
      "text/plain": [
       "┏━━━━━━━━━┳━━━━━━━━━━━━━━━━━━━┳━━━━━━━━━━━━━━━━━━━━┳━━━━━━━━━━━━━━━━━━━┳━━━━━━━━━━━━━━━━━━━━┓\n",
       "┃\u001b[1m \u001b[0m\u001b[1mn      \u001b[0m\u001b[1m \u001b[0m┃\u001b[1m \u001b[0m\u001b[1mnumpy            \u001b[0m\u001b[1m \u001b[0m┃\u001b[1m \u001b[0m\u001b[1mpynq              \u001b[0m\u001b[1m \u001b[0m┃\u001b[1m \u001b[0m\u001b[1mpybind11         \u001b[0m\u001b[1m \u001b[0m┃\u001b[1m \u001b[0m\u001b[1mcffi              \u001b[0m\u001b[1m \u001b[0m┃\n",
       "┡━━━━━━━━━╇━━━━━━━━━━━━━━━━━━━╇━━━━━━━━━━━━━━━━━━━━╇━━━━━━━━━━━━━━━━━━━╇━━━━━━━━━━━━━━━━━━━━┩\n",
       "│ 4       │ 4.93877e-05       │ 0.093603566        │ 0.0003788468      │ 0.0001139277       │\n",
       "│ 8       │ 4.73874000000000… │ 0.099193431900000… │ 0.00036288190000… │ 0.000276628        │\n",
       "│ 16      │ 4.95945e-05       │ 0.093357024900000… │ 0.0001261234      │ 0.000183796700000… │\n",
       "│ 32      │ 6.54296e-05       │ 0.0935257857       │ 0.0001350585      │ 0.000186411100000… │\n",
       "│ 64      │ 6.55569e-05       │ 0.0932999463       │ 0.0003835763      │ 0.0001162419       │\n",
       "│ 128     │ 8.69538000000000… │ 0.093325306300000… │ 0.00038553290000… │ 0.0001186892       │\n",
       "│ 256     │ 0.0001265729      │ 0.093448825700000… │ 0.0003875071      │ 0.0001225809       │\n",
       "│ 512     │ 0.0002112031      │ 0.0932979506       │ 0.00040175780000… │ 0.0001255483       │\n",
       "│ 1024    │ 0.0003750981      │ 0.093137665400000… │ 0.0001402991      │ 0.000197684600000… │\n",
       "│ 2048    │ 0.00070423690000… │ 0.0933878011       │ 0.00014704800000… │ 0.0002121633       │\n",
       "│ 4096    │ 0.0015832973      │ 0.093374546        │ 0.0004197071      │ 0.000144736000000… │\n",
       "│ 8192    │ 0.0031029         │ 0.104513000500000… │ 0.0001789853      │ 0.000230675700000… │\n",
       "│ 16384   │ 0.00615601690000… │ 0.0937615765       │ 0.0002226718      │ 0.000348149900000… │\n",
       "│ 32768   │ 0.01225353200000… │ 0.094094305400000… │ 0.00084403200000… │ 0.000433008400000… │\n",
       "│ 65536   │ 0.0245237584      │ 0.0937788672       │ 0.00071310280000… │ 0.0005900766       │\n",
       "│ 131072  │ 0.04885753720000… │ 0.094125098900000… │ 0.00103584890000… │ 0.0008906896       │\n",
       "│ 262144  │ 0.09747319680000… │ 0.094295609400000… │ 0.00164177810000… │ 0.0015366295       │\n",
       "│ 524288  │ 0.1947683034      │ 0.0951347561       │ 0.0027724698      │ 0.0027542873       │\n",
       "│ 1048576 │ 0.3957855034      │ 0.0948408547       │ 0.00540867700000… │ 0.005382909200000… │\n",
       "│ 2097152 │ 0.7786498951      │ 0.1111242355       │ 0.0106519625      │ 0.010774153800000… │\n",
       "└─────────┴───────────────────┴────────────────────┴───────────────────┴────────────────────┘\n"
      ]
     },
     "metadata": {},
     "output_type": "display_data"
    },
    {
     "name": "stdout",
     "output_type": "stream",
     "text": [
      "\n"
     ]
    },
    {
     "data": {
      "image/png": "[encoded data removed]",
      "text/plain": [
       "<Figure size 432x288 with 1 Axes>"
      ]
     },
     "metadata": {
      "needs_background": "dark"
     },
     "output_type": "display_data"
    }
   ],
   "source": [
    "import time\n",
    "from perfplot._main import PerfplotData\n",
    "\n",
    "def _setup(n):\n",
    "    A = allocate(shape=(n,), dtype=\"f4\")\n",
    "    B = allocate(shape=(n,), dtype=\"f4\")\n",
    "\n",
    "    A[:] = np.random.rand(n)\n",
    "    B[:] = np.zeros(n)\n",
    "    \n",
    "    return A, B\n",
    "\n",
    "kernels = [\n",
    "    np_sin_f4_numpy,\n",
    "    np_sin_f4_pynq,\n",
    "    np_sin_f4_pybind11,\n",
    "    np_sin_f4_cffi,\n",
    "]\n",
    "\n",
    "iters = 10\n",
    "n_range = [2 ** k for k in range(2, 22)] \n",
    "timings_s = np.empty((len(kernels), len(n_range)), dtype=float)\n",
    "\n",
    "labels = [\"numpy\", \"pynq\", \"pybind11\", \"cffi\"]\n",
    "xlabel = \"len(x)\"\n",
    "\n",
    "for i, n in enumerate(n_range):\n",
    "    t0_ns = time.time_ns()\n",
    "    for _ in range(10):\n",
    "        pass\n",
    "    t1_ns = time.time_ns()\n",
    "    \n",
    "    loop_overhead_ns = t1_ns - t0_ns\n",
    "    \n",
    "    data = _setup(n)\n",
    "\n",
    "    for j, kernel in enumerate(kernels):        \n",
    "        t0_ns = time.time_ns()\n",
    "        for _ in range(iters):\n",
    "            kernel(*data)\n",
    "        t1_ns = time.time_ns()\n",
    "        \n",
    "        timings_s[j,i] = 1e-9 * ((t1_ns - t0_ns - loop_overhead_ns) / iters)\n",
    "        \n",
    "        print(f\"kernel = {j}, n = {n}, t = {timings_s[j,i]}\")\n",
    "        \n",
    "    for x in data:\n",
    "        x.freebuffer()\n",
    "        \n",
    "p = PerfplotData(\n",
    "    n_range,\n",
    "    timings_s,\n",
    "    None,\n",
    "    labels,\n",
    "    xlabel\n",
    ")\n",
    "\n",
    "print(p)\n",
    "\n",
    "p.show()"
   ]
  }
 ],
 "metadata": {
  "kernelspec": {
   "display_name": "perf_env/Python 3",
   "language": "python",
   "name": "python3"
  },
  "language_info": {
   "codemirror_mode": {
    "name": "ipython",
    "version": 3
   },
   "file_extension": ".py",
   "mimetype": "text/x-python",
   "name": "python",
   "nbconvert_exporter": "python",
   "pygments_lexer": "ipython3",
   "version": "3.7.0b3"
  }
 },
 "nbformat": 4,
 "nbformat_minor": 2
}
