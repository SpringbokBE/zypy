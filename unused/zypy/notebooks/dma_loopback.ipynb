{
 "cells": [
  {
   "cell_type": "markdown",
   "metadata": {},
   "source": [
    "# DMA loopback\n",
    "\n",
    "This example provides insight into the streaming latencies when using DMA."
   ]
  },
  {
   "cell_type": "markdown",
   "metadata": {},
   "source": [
    "## DMA configuration 1\n",
    "\n",
    "|Parameter | Value |\n",
    "| --- | --- |\n",
    "|Scatter-gather |Disabled |\n",
    "|Buffer length register width |14 bits |\n",
    "|Memory map data width |32 |\n",
    "|Stream data width |32 |\n",
    "|Max burst size |8 |"
   ]
  },
  {
   "cell_type": "code",
   "execution_count": 1,
   "metadata": {},
   "outputs": [
    {
     "data": {
      "application/javascript": [
       "\n",
       "try {\n",
       "require(['notebook/js/codecell'], function(codecell) {\n",
       "  codecell.CodeCell.options_default.highlight_modes[\n",
       "      'magic_text/x-csrc'] = {'reg':[/^%%microblaze/]};\n",
       "  Jupyter.notebook.events.one('kernel_ready.Kernel', function(){\n",
       "      Jupyter.notebook.get_cells().map(function(cell){\n",
       "          if (cell.cell_type == 'code'){ cell.auto_highlight(); } }) ;\n",
       "  });\n",
       "});\n",
       "} catch (e) {};\n"
      ]
     },
     "metadata": {},
     "output_type": "display_data"
    },
    {
     "data": {
      "application/javascript": [
       "\n",
       "try {\n",
       "require(['notebook/js/codecell'], function(codecell) {\n",
       "  codecell.CodeCell.options_default.highlight_modes[\n",
       "      'magic_text/x-csrc'] = {'reg':[/^%%pybind11/]};\n",
       "  Jupyter.notebook.events.one('kernel_ready.Kernel', function(){\n",
       "      Jupyter.notebook.get_cells().map(function(cell){\n",
       "          if (cell.cell_type == 'code'){ cell.auto_highlight(); } }) ;\n",
       "  });\n",
       "});\n",
       "} catch (e) {};\n"
      ]
     },
     "metadata": {},
     "output_type": "display_data"
    }
   ],
   "source": [
    "from pynq import Overlay, allocate\n",
    "import numpy as np\n",
    "\n",
    "overlay = Overlay(\"/home/xilinx/overlays/dma_loopback_1.bit\")\n",
    "overlay.download()"
   ]
  },
  {
   "cell_type": "code",
   "execution_count": 2,
   "metadata": {},
   "outputs": [],
   "source": [
    "A = allocate(shape=(2**1,), dtype=np.uint32)\n",
    "B = allocate(shape=(2**1,), dtype=np.uint32)\n",
    "\n",
    "A[:] = np.random.randint(100000, size=A.shape)"
   ]
  },
  {
   "cell_type": "code",
   "execution_count": 3,
   "metadata": {
    "scrolled": true
   },
   "outputs": [
    {
     "name": "stdout",
     "output_type": "stream",
     "text": [
      "250 loops, best of 3: 53.5 ms per loop\n"
     ]
    }
   ],
   "source": [
    "%%timeit -n 250 -r 3\n",
    "\n",
    "overlay.axi_dma_0.sendchannel.transfer(A)\n",
    "overlay.axi_dma_0.recvchannel.transfer(B)\n",
    "overlay.axi_dma_0.recvchannel.wait()"
   ]
  },
  {
   "cell_type": "code",
   "execution_count": 4,
   "metadata": {},
   "outputs": [],
   "source": [
    "A = allocate(shape=(2**2,), dtype=np.uint32)\n",
    "B = allocate(shape=(2**2,), dtype=np.uint32)\n",
    "\n",
    "A[:] = np.random.randint(100000, size=A.shape)"
   ]
  },
  {
   "cell_type": "code",
   "execution_count": 5,
   "metadata": {
    "scrolled": true
   },
   "outputs": [
    {
     "name": "stdout",
     "output_type": "stream",
     "text": [
      "250 loops, best of 3: 53.8 ms per loop\n"
     ]
    }
   ],
   "source": [
    "%%timeit -n 250 -r 3\n",
    "\n",
    "overlay.axi_dma_0.sendchannel.transfer(A)\n",
    "overlay.axi_dma_0.recvchannel.transfer(B)\n",
    "overlay.axi_dma_0.recvchannel.wait()"
   ]
  },
  {
   "cell_type": "code",
   "execution_count": 6,
   "metadata": {},
   "outputs": [],
   "source": [
    "A = allocate(shape=(2**3,), dtype=np.uint32)\n",
    "B = allocate(shape=(2**3,), dtype=np.uint32)\n",
    "\n",
    "A[:] = np.random.randint(100000, size=A.shape)"
   ]
  },
  {
   "cell_type": "code",
   "execution_count": 7,
   "metadata": {
    "scrolled": true
   },
   "outputs": [
    {
     "name": "stdout",
     "output_type": "stream",
     "text": [
      "250 loops, best of 3: 53.7 ms per loop\n"
     ]
    }
   ],
   "source": [
    "%%timeit -n 250 -r 3\n",
    "\n",
    "overlay.axi_dma_0.sendchannel.transfer(A)\n",
    "overlay.axi_dma_0.recvchannel.transfer(B)\n",
    "overlay.axi_dma_0.recvchannel.wait()"
   ]
  },
  {
   "cell_type": "code",
   "execution_count": 8,
   "metadata": {},
   "outputs": [],
   "source": [
    "A = allocate(shape=(2**4,), dtype=np.uint32)\n",
    "B = allocate(shape=(2**4,), dtype=np.uint32)\n",
    "\n",
    "A[:] = np.random.randint(100000, size=A.shape)"
   ]
  },
  {
   "cell_type": "code",
   "execution_count": 9,
   "metadata": {
    "scrolled": true
   },
   "outputs": [
    {
     "name": "stdout",
     "output_type": "stream",
     "text": [
      "250 loops, best of 3: 53.7 ms per loop\n"
     ]
    }
   ],
   "source": [
    "%%timeit -n 250 -r 3\n",
    "\n",
    "overlay.axi_dma_0.sendchannel.transfer(A)\n",
    "overlay.axi_dma_0.recvchannel.transfer(B)\n",
    "overlay.axi_dma_0.recvchannel.wait()"
   ]
  },
  {
   "cell_type": "code",
   "execution_count": 10,
   "metadata": {},
   "outputs": [],
   "source": [
    "A = allocate(shape=(2**5,), dtype=np.uint32)\n",
    "B = allocate(shape=(2**5,), dtype=np.uint32)\n",
    "\n",
    "A[:] = np.random.randint(100000, size=A.shape)"
   ]
  },
  {
   "cell_type": "code",
   "execution_count": 11,
   "metadata": {
    "scrolled": true
   },
   "outputs": [
    {
     "name": "stdout",
     "output_type": "stream",
     "text": [
      "250 loops, best of 3: 53.7 ms per loop\n"
     ]
    }
   ],
   "source": [
    "%%timeit -n 250 -r 3\n",
    "\n",
    "overlay.axi_dma_0.sendchannel.transfer(A)\n",
    "overlay.axi_dma_0.recvchannel.transfer(B)\n",
    "overlay.axi_dma_0.recvchannel.wait()"
   ]
  },
  {
   "cell_type": "code",
   "execution_count": 12,
   "metadata": {},
   "outputs": [],
   "source": [
    "A = allocate(shape=(2**6,), dtype=np.uint32)\n",
    "B = allocate(shape=(2**6,), dtype=np.uint32)\n",
    "\n",
    "A[:] = np.random.randint(100000, size=A.shape)"
   ]
  },
  {
   "cell_type": "code",
   "execution_count": 13,
   "metadata": {
    "scrolled": true
   },
   "outputs": [
    {
     "name": "stdout",
     "output_type": "stream",
     "text": [
      "250 loops, best of 3: 53.8 ms per loop\n"
     ]
    }
   ],
   "source": [
    "%%timeit -n 250 -r 3\n",
    "\n",
    "overlay.axi_dma_0.sendchannel.transfer(A)\n",
    "overlay.axi_dma_0.recvchannel.transfer(B)\n",
    "overlay.axi_dma_0.recvchannel.wait()"
   ]
  },
  {
   "cell_type": "code",
   "execution_count": 14,
   "metadata": {},
   "outputs": [],
   "source": [
    "A = allocate(shape=(2**7,), dtype=np.uint32)\n",
    "B = allocate(shape=(2**7,), dtype=np.uint32)\n",
    "\n",
    "A[:] = np.random.randint(100000, size=A.shape)"
   ]
  },
  {
   "cell_type": "code",
   "execution_count": 15,
   "metadata": {
    "scrolled": true
   },
   "outputs": [
    {
     "name": "stdout",
     "output_type": "stream",
     "text": [
      "250 loops, best of 3: 53.8 ms per loop\n"
     ]
    }
   ],
   "source": [
    "%%timeit -n 250 -r 3\n",
    "\n",
    "overlay.axi_dma_0.sendchannel.transfer(A)\n",
    "overlay.axi_dma_0.recvchannel.transfer(B)\n",
    "overlay.axi_dma_0.recvchannel.wait()"
   ]
  },
  {
   "cell_type": "code",
   "execution_count": 16,
   "metadata": {},
   "outputs": [],
   "source": [
    "A = allocate(shape=(2**8,), dtype=np.uint32)\n",
    "B = allocate(shape=(2**8,), dtype=np.uint32)\n",
    "\n",
    "A[:] = np.random.randint(100000, size=A.shape)"
   ]
  },
  {
   "cell_type": "code",
   "execution_count": 17,
   "metadata": {
    "scrolled": true
   },
   "outputs": [
    {
     "name": "stdout",
     "output_type": "stream",
     "text": [
      "250 loops, best of 3: 53.8 ms per loop\n"
     ]
    }
   ],
   "source": [
    "%%timeit -n 250 -r 3\n",
    "\n",
    "overlay.axi_dma_0.sendchannel.transfer(A)\n",
    "overlay.axi_dma_0.recvchannel.transfer(B)\n",
    "overlay.axi_dma_0.recvchannel.wait()"
   ]
  },
  {
   "cell_type": "code",
   "execution_count": 18,
   "metadata": {},
   "outputs": [],
   "source": [
    "A = allocate(shape=(2**9,), dtype=np.uint32)\n",
    "B = allocate(shape=(2**9,), dtype=np.uint32)\n",
    "\n",
    "A[:] = np.random.randint(100000, size=A.shape)"
   ]
  },
  {
   "cell_type": "code",
   "execution_count": 19,
   "metadata": {
    "scrolled": true
   },
   "outputs": [
    {
     "name": "stdout",
     "output_type": "stream",
     "text": [
      "250 loops, best of 3: 53.9 ms per loop\n"
     ]
    }
   ],
   "source": [
    "%%timeit -n 250 -r 3\n",
    "\n",
    "overlay.axi_dma_0.sendchannel.transfer(A)\n",
    "overlay.axi_dma_0.recvchannel.transfer(B)\n",
    "overlay.axi_dma_0.recvchannel.wait()"
   ]
  },
  {
   "cell_type": "code",
   "execution_count": 20,
   "metadata": {},
   "outputs": [],
   "source": [
    "A = allocate(shape=(2**10,), dtype=np.uint32)\n",
    "B = allocate(shape=(2**10,), dtype=np.uint32)\n",
    "\n",
    "A[:] = np.random.randint(100000, size=A.shape)"
   ]
  },
  {
   "cell_type": "code",
   "execution_count": 21,
   "metadata": {
    "scrolled": true
   },
   "outputs": [
    {
     "name": "stdout",
     "output_type": "stream",
     "text": [
      "250 loops, best of 3: 54 ms per loop\n"
     ]
    }
   ],
   "source": [
    "%%timeit -n 250 -r 3\n",
    "\n",
    "overlay.axi_dma_0.sendchannel.transfer(A)\n",
    "overlay.axi_dma_0.recvchannel.transfer(B)\n",
    "overlay.axi_dma_0.recvchannel.wait()"
   ]
  },
  {
   "cell_type": "code",
   "execution_count": 22,
   "metadata": {},
   "outputs": [],
   "source": [
    "A = allocate(shape=(2**11,), dtype=np.uint32)\n",
    "B = allocate(shape=(2**11,), dtype=np.uint32)\n",
    "\n",
    "A[:] = np.random.randint(100000, size=A.shape)"
   ]
  },
  {
   "cell_type": "code",
   "execution_count": 23,
   "metadata": {
    "scrolled": true
   },
   "outputs": [
    {
     "name": "stdout",
     "output_type": "stream",
     "text": [
      "250 loops, best of 3: 53.9 ms per loop\n"
     ]
    }
   ],
   "source": [
    "%%timeit -n 250 -r 3\n",
    "\n",
    "overlay.axi_dma_0.sendchannel.transfer(A)\n",
    "overlay.axi_dma_0.recvchannel.transfer(B)\n",
    "overlay.axi_dma_0.recvchannel.wait()"
   ]
  },
  {
   "cell_type": "markdown",
   "metadata": {},
   "source": [
    "## DMA configuration 2\n",
    "\n",
    "|Parameter | Value |\n",
    "| --- | --- |\n",
    "|Scatter-gather |Disabled |\n",
    "|Buffer length register width |14 bits |\n",
    "|Memory map data width |64 |\n",
    "|Stream data width |64 |\n",
    "|Max burst size |8 |"
   ]
  },
  {
   "cell_type": "code",
   "execution_count": 24,
   "metadata": {},
   "outputs": [],
   "source": [
    "from pynq import Overlay, allocate\n",
    "import numpy as np\n",
    "\n",
    "overlay = Overlay(\"/home/xilinx/overlays/dma_loopback_1.bit\")\n",
    "overlay.download()"
   ]
  },
  {
   "cell_type": "code",
   "execution_count": 25,
   "metadata": {},
   "outputs": [],
   "source": [
    "A = allocate(shape=(2**1,), dtype=np.uint32)\n",
    "B = allocate(shape=(2**1,), dtype=np.uint32)\n",
    "\n",
    "A[:] = np.random.randint(100000, size=A.shape)"
   ]
  },
  {
   "cell_type": "code",
   "execution_count": 26,
   "metadata": {
    "scrolled": true
   },
   "outputs": [
    {
     "name": "stdout",
     "output_type": "stream",
     "text": [
      "250 loops, best of 3: 53.9 ms per loop\n"
     ]
    }
   ],
   "source": [
    "%%timeit -n 250 -r 3\n",
    "\n",
    "overlay.axi_dma_0.sendchannel.transfer(A)\n",
    "overlay.axi_dma_0.recvchannel.transfer(B)\n",
    "overlay.axi_dma_0.recvchannel.wait()"
   ]
  },
  {
   "cell_type": "code",
   "execution_count": 27,
   "metadata": {},
   "outputs": [],
   "source": [
    "A = allocate(shape=(2**2,), dtype=np.uint32)\n",
    "B = allocate(shape=(2**2,), dtype=np.uint32)\n",
    "\n",
    "A[:] = np.random.randint(100000, size=A.shape)"
   ]
  },
  {
   "cell_type": "code",
   "execution_count": 28,
   "metadata": {
    "scrolled": true
   },
   "outputs": [
    {
     "name": "stdout",
     "output_type": "stream",
     "text": [
      "250 loops, best of 3: 53.9 ms per loop\n"
     ]
    }
   ],
   "source": [
    "%%timeit -n 250 -r 3\n",
    "\n",
    "overlay.axi_dma_0.sendchannel.transfer(A)\n",
    "overlay.axi_dma_0.recvchannel.transfer(B)\n",
    "overlay.axi_dma_0.recvchannel.wait()"
   ]
  },
  {
   "cell_type": "code",
   "execution_count": 29,
   "metadata": {},
   "outputs": [],
   "source": [
    "A = allocate(shape=(2**3,), dtype=np.uint32)\n",
    "B = allocate(shape=(2**3,), dtype=np.uint32)\n",
    "\n",
    "A[:] = np.random.randint(100000, size=A.shape)"
   ]
  },
  {
   "cell_type": "code",
   "execution_count": 30,
   "metadata": {
    "scrolled": true
   },
   "outputs": [
    {
     "name": "stdout",
     "output_type": "stream",
     "text": [
      "250 loops, best of 3: 54 ms per loop\n"
     ]
    }
   ],
   "source": [
    "%%timeit -n 250 -r 3\n",
    "\n",
    "overlay.axi_dma_0.sendchannel.transfer(A)\n",
    "overlay.axi_dma_0.recvchannel.transfer(B)\n",
    "overlay.axi_dma_0.recvchannel.wait()"
   ]
  },
  {
   "cell_type": "code",
   "execution_count": 31,
   "metadata": {},
   "outputs": [],
   "source": [
    "A = allocate(shape=(2**4,), dtype=np.uint32)\n",
    "B = allocate(shape=(2**4,), dtype=np.uint32)\n",
    "\n",
    "A[:] = np.random.randint(100000, size=A.shape)"
   ]
  },
  {
   "cell_type": "code",
   "execution_count": 32,
   "metadata": {
    "scrolled": true
   },
   "outputs": [
    {
     "name": "stdout",
     "output_type": "stream",
     "text": [
      "250 loops, best of 3: 54 ms per loop\n"
     ]
    }
   ],
   "source": [
    "%%timeit -n 250 -r 3\n",
    "\n",
    "overlay.axi_dma_0.sendchannel.transfer(A)\n",
    "overlay.axi_dma_0.recvchannel.transfer(B)\n",
    "overlay.axi_dma_0.recvchannel.wait()"
   ]
  },
  {
   "cell_type": "code",
   "execution_count": 33,
   "metadata": {},
   "outputs": [],
   "source": [
    "A = allocate(shape=(2**5,), dtype=np.uint32)\n",
    "B = allocate(shape=(2**5,), dtype=np.uint32)\n",
    "\n",
    "A[:] = np.random.randint(100000, size=A.shape)"
   ]
  },
  {
   "cell_type": "code",
   "execution_count": 34,
   "metadata": {
    "scrolled": true
   },
   "outputs": [
    {
     "name": "stdout",
     "output_type": "stream",
     "text": [
      "250 loops, best of 3: 53.9 ms per loop\n"
     ]
    }
   ],
   "source": [
    "%%timeit -n 250 -r 3\n",
    "\n",
    "overlay.axi_dma_0.sendchannel.transfer(A)\n",
    "overlay.axi_dma_0.recvchannel.transfer(B)\n",
    "overlay.axi_dma_0.recvchannel.wait()"
   ]
  },
  {
   "cell_type": "code",
   "execution_count": 35,
   "metadata": {},
   "outputs": [],
   "source": [
    "A = allocate(shape=(2**6,), dtype=np.uint32)\n",
    "B = allocate(shape=(2**6,), dtype=np.uint32)\n",
    "\n",
    "A[:] = np.random.randint(100000, size=A.shape)"
   ]
  },
  {
   "cell_type": "code",
   "execution_count": 36,
   "metadata": {
    "scrolled": true
   },
   "outputs": [
    {
     "name": "stdout",
     "output_type": "stream",
     "text": [
      "250 loops, best of 3: 54 ms per loop\n"
     ]
    }
   ],
   "source": [
    "%%timeit -n 250 -r 3\n",
    "\n",
    "overlay.axi_dma_0.sendchannel.transfer(A)\n",
    "overlay.axi_dma_0.recvchannel.transfer(B)\n",
    "overlay.axi_dma_0.recvchannel.wait()"
   ]
  },
  {
   "cell_type": "code",
   "execution_count": 37,
   "metadata": {},
   "outputs": [],
   "source": [
    "A = allocate(shape=(2**7,), dtype=np.uint32)\n",
    "B = allocate(shape=(2**7,), dtype=np.uint32)\n",
    "\n",
    "A[:] = np.random.randint(100000, size=A.shape)"
   ]
  },
  {
   "cell_type": "code",
   "execution_count": 38,
   "metadata": {
    "scrolled": true
   },
   "outputs": [
    {
     "name": "stdout",
     "output_type": "stream",
     "text": [
      "250 loops, best of 3: 54 ms per loop\n"
     ]
    }
   ],
   "source": [
    "%%timeit -n 250 -r 3\n",
    "\n",
    "overlay.axi_dma_0.sendchannel.transfer(A)\n",
    "overlay.axi_dma_0.recvchannel.transfer(B)\n",
    "overlay.axi_dma_0.recvchannel.wait()"
   ]
  },
  {
   "cell_type": "code",
   "execution_count": 39,
   "metadata": {},
   "outputs": [],
   "source": [
    "A = allocate(shape=(2**8,), dtype=np.uint32)\n",
    "B = allocate(shape=(2**8,), dtype=np.uint32)\n",
    "\n",
    "A[:] = np.random.randint(100000, size=A.shape)"
   ]
  },
  {
   "cell_type": "code",
   "execution_count": 40,
   "metadata": {
    "scrolled": true
   },
   "outputs": [
    {
     "name": "stdout",
     "output_type": "stream",
     "text": [
      "250 loops, best of 3: 53.9 ms per loop\n"
     ]
    }
   ],
   "source": [
    "%%timeit -n 250 -r 3\n",
    "\n",
    "overlay.axi_dma_0.sendchannel.transfer(A)\n",
    "overlay.axi_dma_0.recvchannel.transfer(B)\n",
    "overlay.axi_dma_0.recvchannel.wait()"
   ]
  },
  {
   "cell_type": "code",
   "execution_count": 41,
   "metadata": {},
   "outputs": [],
   "source": [
    "A = allocate(shape=(2**9,), dtype=np.uint32)\n",
    "B = allocate(shape=(2**9,), dtype=np.uint32)\n",
    "\n",
    "A[:] = np.random.randint(100000, size=A.shape)"
   ]
  },
  {
   "cell_type": "code",
   "execution_count": 42,
   "metadata": {
    "scrolled": true
   },
   "outputs": [
    {
     "name": "stdout",
     "output_type": "stream",
     "text": [
      "250 loops, best of 3: 54.1 ms per loop\n"
     ]
    }
   ],
   "source": [
    "%%timeit -n 250 -r 3\n",
    "\n",
    "overlay.axi_dma_0.sendchannel.transfer(A)\n",
    "overlay.axi_dma_0.recvchannel.transfer(B)\n",
    "overlay.axi_dma_0.recvchannel.wait()"
   ]
  },
  {
   "cell_type": "code",
   "execution_count": 43,
   "metadata": {},
   "outputs": [],
   "source": [
    "A = allocate(shape=(2**10,), dtype=np.uint32)\n",
    "B = allocate(shape=(2**10,), dtype=np.uint32)\n",
    "\n",
    "A[:] = np.random.randint(100000, size=A.shape)"
   ]
  },
  {
   "cell_type": "code",
   "execution_count": 44,
   "metadata": {
    "scrolled": true
   },
   "outputs": [
    {
     "name": "stdout",
     "output_type": "stream",
     "text": [
      "250 loops, best of 3: 54 ms per loop\n"
     ]
    }
   ],
   "source": [
    "%%timeit -n 250 -r 3\n",
    "\n",
    "overlay.axi_dma_0.sendchannel.transfer(A)\n",
    "overlay.axi_dma_0.recvchannel.transfer(B)\n",
    "overlay.axi_dma_0.recvchannel.wait()"
   ]
  },
  {
   "cell_type": "code",
   "execution_count": 45,
   "metadata": {},
   "outputs": [],
   "source": [
    "A = allocate(shape=(2**11,), dtype=np.uint32)\n",
    "B = allocate(shape=(2**11,), dtype=np.uint32)\n",
    "\n",
    "A[:] = np.random.randint(100000, size=A.shape)"
   ]
  },
  {
   "cell_type": "code",
   "execution_count": 46,
   "metadata": {
    "scrolled": true
   },
   "outputs": [
    {
     "name": "stdout",
     "output_type": "stream",
     "text": [
      "250 loops, best of 3: 54 ms per loop\n"
     ]
    }
   ],
   "source": [
    "%%timeit -n 250 -r 3\n",
    "\n",
    "overlay.axi_dma_0.sendchannel.transfer(A)\n",
    "overlay.axi_dma_0.recvchannel.transfer(B)\n",
    "overlay.axi_dma_0.recvchannel.wait()"
   ]
  },
  {
   "cell_type": "markdown",
   "metadata": {},
   "source": [
    "## DMA configuration 3\n",
    "\n",
    "|Parameter | Value |\n",
    "| --- | --- |\n",
    "|Scatter-gather |Disabled |\n",
    "|Buffer length register width |24 bits |\n",
    "|Memory map data width |64 |\n",
    "|Stream data width |64 |\n",
    "|Max burst size |8 |"
   ]
  },
  {
   "cell_type": "code",
   "execution_count": 47,
   "metadata": {},
   "outputs": [],
   "source": [
    "from pynq import Overlay, allocate\n",
    "import numpy as np\n",
    "\n",
    "overlay = Overlay(\"/home/xilinx/overlays/dma_loopback_3.bit\")\n",
    "overlay.download()"
   ]
  },
  {
   "cell_type": "code",
   "execution_count": 48,
   "metadata": {},
   "outputs": [],
   "source": [
    "A = allocate(shape=(2**1,), dtype=np.uint32)\n",
    "B = allocate(shape=(2**1,), dtype=np.uint32)\n",
    "\n",
    "A[:] = np.random.randint(100000, size=A.shape)"
   ]
  },
  {
   "cell_type": "code",
   "execution_count": 49,
   "metadata": {
    "scrolled": true
   },
   "outputs": [
    {
     "name": "stdout",
     "output_type": "stream",
     "text": [
      "250 loops, best of 3: 54.4 ms per loop\n"
     ]
    }
   ],
   "source": [
    "%%timeit -n 250 -r 3\n",
    "\n",
    "overlay.axi_dma_0.sendchannel.transfer(A)\n",
    "overlay.axi_dma_0.recvchannel.transfer(B)\n",
    "overlay.axi_dma_0.recvchannel.wait()"
   ]
  },
  {
   "cell_type": "code",
   "execution_count": 50,
   "metadata": {},
   "outputs": [],
   "source": [
    "A = allocate(shape=(2**2,), dtype=np.uint32)\n",
    "B = allocate(shape=(2**2,), dtype=np.uint32)\n",
    "\n",
    "A[:] = np.random.randint(100000, size=A.shape)"
   ]
  },
  {
   "cell_type": "code",
   "execution_count": 51,
   "metadata": {
    "scrolled": true
   },
   "outputs": [
    {
     "name": "stdout",
     "output_type": "stream",
     "text": [
      "250 loops, best of 3: 54.3 ms per loop\n"
     ]
    }
   ],
   "source": [
    "%%timeit -n 250 -r 3\n",
    "\n",
    "overlay.axi_dma_0.sendchannel.transfer(A)\n",
    "overlay.axi_dma_0.recvchannel.transfer(B)\n",
    "overlay.axi_dma_0.recvchannel.wait()"
   ]
  },
  {
   "cell_type": "code",
   "execution_count": 52,
   "metadata": {},
   "outputs": [],
   "source": [
    "A = allocate(shape=(2**3,), dtype=np.uint32)\n",
    "B = allocate(shape=(2**3,), dtype=np.uint32)\n",
    "\n",
    "A[:] = np.random.randint(100000, size=A.shape)"
   ]
  },
  {
   "cell_type": "code",
   "execution_count": 53,
   "metadata": {
    "scrolled": true
   },
   "outputs": [
    {
     "name": "stdout",
     "output_type": "stream",
     "text": [
      "250 loops, best of 3: 54.4 ms per loop\n"
     ]
    }
   ],
   "source": [
    "%%timeit -n 250 -r 3\n",
    "\n",
    "overlay.axi_dma_0.sendchannel.transfer(A)\n",
    "overlay.axi_dma_0.recvchannel.transfer(B)\n",
    "overlay.axi_dma_0.recvchannel.wait()"
   ]
  },
  {
   "cell_type": "code",
   "execution_count": 54,
   "metadata": {},
   "outputs": [],
   "source": [
    "A = allocate(shape=(2**4,), dtype=np.uint32)\n",
    "B = allocate(shape=(2**4,), dtype=np.uint32)\n",
    "\n",
    "A[:] = np.random.randint(100000, size=A.shape)"
   ]
  },
  {
   "cell_type": "code",
   "execution_count": 55,
   "metadata": {
    "scrolled": true
   },
   "outputs": [
    {
     "name": "stdout",
     "output_type": "stream",
     "text": [
      "250 loops, best of 3: 54.5 ms per loop\n"
     ]
    }
   ],
   "source": [
    "%%timeit -n 250 -r 3\n",
    "\n",
    "overlay.axi_dma_0.sendchannel.transfer(A)\n",
    "overlay.axi_dma_0.recvchannel.transfer(B)\n",
    "overlay.axi_dma_0.recvchannel.wait()"
   ]
  },
  {
   "cell_type": "code",
   "execution_count": 56,
   "metadata": {},
   "outputs": [],
   "source": [
    "A = allocate(shape=(2**5,), dtype=np.uint32)\n",
    "B = allocate(shape=(2**5,), dtype=np.uint32)\n",
    "\n",
    "A[:] = np.random.randint(100000, size=A.shape)"
   ]
  },
  {
   "cell_type": "code",
   "execution_count": 57,
   "metadata": {
    "scrolled": true
   },
   "outputs": [
    {
     "name": "stdout",
     "output_type": "stream",
     "text": [
      "250 loops, best of 3: 54.4 ms per loop\n"
     ]
    }
   ],
   "source": [
    "%%timeit -n 250 -r 3\n",
    "\n",
    "overlay.axi_dma_0.sendchannel.transfer(A)\n",
    "overlay.axi_dma_0.recvchannel.transfer(B)\n",
    "overlay.axi_dma_0.recvchannel.wait()"
   ]
  },
  {
   "cell_type": "code",
   "execution_count": 58,
   "metadata": {},
   "outputs": [],
   "source": [
    "A = allocate(shape=(2**6,), dtype=np.uint32)\n",
    "B = allocate(shape=(2**6,), dtype=np.uint32)\n",
    "\n",
    "A[:] = np.random.randint(100000, size=A.shape)"
   ]
  },
  {
   "cell_type": "code",
   "execution_count": 59,
   "metadata": {
    "scrolled": true
   },
   "outputs": [
    {
     "name": "stdout",
     "output_type": "stream",
     "text": [
      "250 loops, best of 3: 54.5 ms per loop\n"
     ]
    }
   ],
   "source": [
    "%%timeit -n 250 -r 3\n",
    "\n",
    "overlay.axi_dma_0.sendchannel.transfer(A)\n",
    "overlay.axi_dma_0.recvchannel.transfer(B)\n",
    "overlay.axi_dma_0.recvchannel.wait()"
   ]
  },
  {
   "cell_type": "code",
   "execution_count": 60,
   "metadata": {},
   "outputs": [],
   "source": [
    "A = allocate(shape=(2**7,), dtype=np.uint32)\n",
    "B = allocate(shape=(2**7,), dtype=np.uint32)\n",
    "\n",
    "A[:] = np.random.randint(100000, size=A.shape)"
   ]
  },
  {
   "cell_type": "code",
   "execution_count": 61,
   "metadata": {
    "scrolled": true
   },
   "outputs": [
    {
     "name": "stdout",
     "output_type": "stream",
     "text": [
      "250 loops, best of 3: 54.4 ms per loop\n"
     ]
    }
   ],
   "source": [
    "%%timeit -n 250 -r 3\n",
    "\n",
    "overlay.axi_dma_0.sendchannel.transfer(A)\n",
    "overlay.axi_dma_0.recvchannel.transfer(B)\n",
    "overlay.axi_dma_0.recvchannel.wait()"
   ]
  },
  {
   "cell_type": "code",
   "execution_count": 62,
   "metadata": {},
   "outputs": [],
   "source": [
    "A = allocate(shape=(2**8,), dtype=np.uint32)\n",
    "B = allocate(shape=(2**8,), dtype=np.uint32)\n",
    "\n",
    "A[:] = np.random.randint(100000, size=A.shape)"
   ]
  },
  {
   "cell_type": "code",
   "execution_count": 63,
   "metadata": {
    "scrolled": true
   },
   "outputs": [
    {
     "name": "stdout",
     "output_type": "stream",
     "text": [
      "250 loops, best of 3: 54.4 ms per loop\n"
     ]
    }
   ],
   "source": [
    "%%timeit -n 250 -r 3\n",
    "\n",
    "overlay.axi_dma_0.sendchannel.transfer(A)\n",
    "overlay.axi_dma_0.recvchannel.transfer(B)\n",
    "overlay.axi_dma_0.recvchannel.wait()"
   ]
  },
  {
   "cell_type": "code",
   "execution_count": 64,
   "metadata": {},
   "outputs": [],
   "source": [
    "A = allocate(shape=(2**9,), dtype=np.uint32)\n",
    "B = allocate(shape=(2**9,), dtype=np.uint32)\n",
    "\n",
    "A[:] = np.random.randint(100000, size=A.shape)"
   ]
  },
  {
   "cell_type": "code",
   "execution_count": 65,
   "metadata": {
    "scrolled": true
   },
   "outputs": [
    {
     "name": "stdout",
     "output_type": "stream",
     "text": [
      "250 loops, best of 3: 54.5 ms per loop\n"
     ]
    }
   ],
   "source": [
    "%%timeit -n 250 -r 3\n",
    "\n",
    "overlay.axi_dma_0.sendchannel.transfer(A)\n",
    "overlay.axi_dma_0.recvchannel.transfer(B)\n",
    "overlay.axi_dma_0.recvchannel.wait()"
   ]
  },
  {
   "cell_type": "code",
   "execution_count": 66,
   "metadata": {},
   "outputs": [],
   "source": [
    "A = allocate(shape=(2**10,), dtype=np.uint32)\n",
    "B = allocate(shape=(2**10,), dtype=np.uint32)\n",
    "\n",
    "A[:] = np.random.randint(100000, size=A.shape)"
   ]
  },
  {
   "cell_type": "code",
   "execution_count": 67,
   "metadata": {
    "scrolled": true
   },
   "outputs": [
    {
     "name": "stdout",
     "output_type": "stream",
     "text": [
      "250 loops, best of 3: 54.5 ms per loop\n"
     ]
    }
   ],
   "source": [
    "%%timeit -n 250 -r 3\n",
    "\n",
    "overlay.axi_dma_0.sendchannel.transfer(A)\n",
    "overlay.axi_dma_0.recvchannel.transfer(B)\n",
    "overlay.axi_dma_0.recvchannel.wait()"
   ]
  },
  {
   "cell_type": "code",
   "execution_count": 68,
   "metadata": {},
   "outputs": [],
   "source": [
    "A = allocate(shape=(2**11,), dtype=np.uint32)\n",
    "B = allocate(shape=(2**11,), dtype=np.uint32)\n",
    "\n",
    "A[:] = np.random.randint(100000, size=A.shape)"
   ]
  },
  {
   "cell_type": "code",
   "execution_count": 69,
   "metadata": {
    "scrolled": true
   },
   "outputs": [
    {
     "name": "stdout",
     "output_type": "stream",
     "text": [
      "250 loops, best of 3: 54.5 ms per loop\n"
     ]
    }
   ],
   "source": [
    "%%timeit -n 250 -r 3\n",
    "\n",
    "overlay.axi_dma_0.sendchannel.transfer(A)\n",
    "overlay.axi_dma_0.recvchannel.transfer(B)\n",
    "overlay.axi_dma_0.recvchannel.wait()"
   ]
  },
  {
   "cell_type": "code",
   "execution_count": 70,
   "metadata": {},
   "outputs": [],
   "source": [
    "A = allocate(shape=(2**12,), dtype=np.uint32)\n",
    "B = allocate(shape=(2**12,), dtype=np.uint32)\n",
    "\n",
    "A[:] = np.random.randint(100000, size=A.shape)"
   ]
  },
  {
   "cell_type": "code",
   "execution_count": 71,
   "metadata": {
    "scrolled": false
   },
   "outputs": [
    {
     "name": "stdout",
     "output_type": "stream",
     "text": [
      "250 loops, best of 3: 54.6 ms per loop\n"
     ]
    }
   ],
   "source": [
    "%%timeit -n 250 -r 3\n",
    "\n",
    "overlay.axi_dma_0.sendchannel.transfer(A)\n",
    "overlay.axi_dma_0.recvchannel.transfer(B)\n",
    "overlay.axi_dma_0.recvchannel.wait()"
   ]
  },
  {
   "cell_type": "code",
   "execution_count": 72,
   "metadata": {},
   "outputs": [],
   "source": [
    "A = allocate(shape=(2**13,), dtype=np.uint32)\n",
    "B = allocate(shape=(2**13,), dtype=np.uint32)\n",
    "\n",
    "A[:] = np.random.randint(100000, size=A.shape)"
   ]
  },
  {
   "cell_type": "code",
   "execution_count": 73,
   "metadata": {
    "scrolled": false
   },
   "outputs": [
    {
     "name": "stdout",
     "output_type": "stream",
     "text": [
      "250 loops, best of 3: 54.6 ms per loop\n"
     ]
    }
   ],
   "source": [
    "%%timeit -n 250 -r 3\n",
    "\n",
    "overlay.axi_dma_0.sendchannel.transfer(A)\n",
    "overlay.axi_dma_0.recvchannel.transfer(B)\n",
    "overlay.axi_dma_0.recvchannel.wait()"
   ]
  },
  {
   "cell_type": "code",
   "execution_count": 74,
   "metadata": {},
   "outputs": [],
   "source": [
    "A = allocate(shape=(2**14,), dtype=np.uint32)\n",
    "B = allocate(shape=(2**14,), dtype=np.uint32)\n",
    "\n",
    "A[:] = np.random.randint(100000, size=A.shape)"
   ]
  },
  {
   "cell_type": "code",
   "execution_count": 75,
   "metadata": {
    "scrolled": false
   },
   "outputs": [
    {
     "name": "stdout",
     "output_type": "stream",
     "text": [
      "250 loops, best of 3: 54.5 ms per loop\n"
     ]
    }
   ],
   "source": [
    "%%timeit -n 250 -r 3\n",
    "\n",
    "overlay.axi_dma_0.sendchannel.transfer(A)\n",
    "overlay.axi_dma_0.recvchannel.transfer(B)\n",
    "overlay.axi_dma_0.recvchannel.wait()"
   ]
  },
  {
   "cell_type": "code",
   "execution_count": 76,
   "metadata": {},
   "outputs": [],
   "source": [
    "A = allocate(shape=(2**15,), dtype=np.uint32)\n",
    "B = allocate(shape=(2**15,), dtype=np.uint32)\n",
    "\n",
    "A[:] = np.random.randint(100000, size=A.shape)"
   ]
  },
  {
   "cell_type": "code",
   "execution_count": 77,
   "metadata": {
    "scrolled": false
   },
   "outputs": [
    {
     "name": "stdout",
     "output_type": "stream",
     "text": [
      "250 loops, best of 3: 54.6 ms per loop\n"
     ]
    }
   ],
   "source": [
    "%%timeit -n 250 -r 3\n",
    "\n",
    "overlay.axi_dma_0.sendchannel.transfer(A)\n",
    "overlay.axi_dma_0.recvchannel.transfer(B)\n",
    "overlay.axi_dma_0.recvchannel.wait()"
   ]
  },
  {
   "cell_type": "code",
   "execution_count": 78,
   "metadata": {},
   "outputs": [],
   "source": [
    "A = allocate(shape=(2**16,), dtype=np.uint32)\n",
    "B = allocate(shape=(2**16,), dtype=np.uint32)\n",
    "\n",
    "A[:] = np.random.randint(100000, size=A.shape)"
   ]
  },
  {
   "cell_type": "code",
   "execution_count": 79,
   "metadata": {
    "scrolled": false
   },
   "outputs": [
    {
     "name": "stdout",
     "output_type": "stream",
     "text": [
      "250 loops, best of 3: 54.6 ms per loop\n"
     ]
    }
   ],
   "source": [
    "%%timeit -n 250 -r 3\n",
    "\n",
    "overlay.axi_dma_0.sendchannel.transfer(A)\n",
    "overlay.axi_dma_0.recvchannel.transfer(B)\n",
    "overlay.axi_dma_0.recvchannel.wait()"
   ]
  },
  {
   "cell_type": "code",
   "execution_count": 80,
   "metadata": {},
   "outputs": [],
   "source": [
    "A = allocate(shape=(2**17,), dtype=np.uint32)\n",
    "B = allocate(shape=(2**17,), dtype=np.uint32)\n",
    "\n",
    "A[:] = np.random.randint(100000, size=A.shape)"
   ]
  },
  {
   "cell_type": "code",
   "execution_count": 81,
   "metadata": {
    "scrolled": false
   },
   "outputs": [
    {
     "name": "stdout",
     "output_type": "stream",
     "text": [
      "250 loops, best of 3: 54.6 ms per loop\n"
     ]
    }
   ],
   "source": [
    "%%timeit -n 250 -r 3\n",
    "\n",
    "overlay.axi_dma_0.sendchannel.transfer(A)\n",
    "overlay.axi_dma_0.recvchannel.transfer(B)\n",
    "overlay.axi_dma_0.recvchannel.wait()"
   ]
  },
  {
   "cell_type": "code",
   "execution_count": 82,
   "metadata": {},
   "outputs": [],
   "source": [
    "A = allocate(shape=(2**18,), dtype=np.uint32)\n",
    "B = allocate(shape=(2**18,), dtype=np.uint32)\n",
    "\n",
    "A[:] = np.random.randint(100000, size=A.shape)"
   ]
  },
  {
   "cell_type": "code",
   "execution_count": 83,
   "metadata": {
    "scrolled": false
   },
   "outputs": [
    {
     "name": "stdout",
     "output_type": "stream",
     "text": [
      "250 loops, best of 3: 54.9 ms per loop\n"
     ]
    }
   ],
   "source": [
    "%%timeit -n 250 -r 3\n",
    "\n",
    "overlay.axi_dma_0.sendchannel.transfer(A)\n",
    "overlay.axi_dma_0.recvchannel.transfer(B)\n",
    "overlay.axi_dma_0.recvchannel.wait()"
   ]
  },
  {
   "cell_type": "code",
   "execution_count": 84,
   "metadata": {},
   "outputs": [],
   "source": [
    "A = allocate(shape=(2**19,), dtype=np.uint32)\n",
    "B = allocate(shape=(2**19,), dtype=np.uint32)\n",
    "\n",
    "A[:] = np.random.randint(100000, size=A.shape)"
   ]
  },
  {
   "cell_type": "code",
   "execution_count": 85,
   "metadata": {
    "scrolled": false
   },
   "outputs": [
    {
     "name": "stdout",
     "output_type": "stream",
     "text": [
      "250 loops, best of 3: 54.8 ms per loop\n"
     ]
    }
   ],
   "source": [
    "%%timeit -n 250 -r 3\n",
    "\n",
    "overlay.axi_dma_0.sendchannel.transfer(A)\n",
    "overlay.axi_dma_0.recvchannel.transfer(B)\n",
    "overlay.axi_dma_0.recvchannel.wait()"
   ]
  },
  {
   "cell_type": "code",
   "execution_count": 86,
   "metadata": {},
   "outputs": [],
   "source": [
    "A = allocate(shape=(2**20,), dtype=np.uint32)\n",
    "B = allocate(shape=(2**20,), dtype=np.uint32)\n",
    "\n",
    "A[:] = np.random.randint(100000, size=A.shape)"
   ]
  },
  {
   "cell_type": "code",
   "execution_count": 87,
   "metadata": {
    "scrolled": false
   },
   "outputs": [
    {
     "name": "stdout",
     "output_type": "stream",
     "text": [
      "250 loops, best of 3: 55.7 ms per loop\n"
     ]
    }
   ],
   "source": [
    "%%timeit -n 250 -r 3\n",
    "\n",
    "overlay.axi_dma_0.sendchannel.transfer(A)\n",
    "overlay.axi_dma_0.recvchannel.transfer(B)\n",
    "overlay.axi_dma_0.recvchannel.wait()"
   ]
  },
  {
   "cell_type": "code",
   "execution_count": 88,
   "metadata": {},
   "outputs": [],
   "source": [
    "A = allocate(shape=(2**21,), dtype=np.uint32)\n",
    "B = allocate(shape=(2**21,), dtype=np.uint32)\n",
    "\n",
    "A[:] = np.random.randint(100000, size=A.shape)"
   ]
  },
  {
   "cell_type": "code",
   "execution_count": 89,
   "metadata": {
    "scrolled": false
   },
   "outputs": [
    {
     "name": "stdout",
     "output_type": "stream",
     "text": [
      "250 loops, best of 3: 57 ms per loop\n"
     ]
    }
   ],
   "source": [
    "%%timeit -n 250 -r 3\n",
    "\n",
    "overlay.axi_dma_0.sendchannel.transfer(A)\n",
    "overlay.axi_dma_0.recvchannel.transfer(B)\n",
    "overlay.axi_dma_0.recvchannel.wait()"
   ]
  },
  {
   "cell_type": "markdown",
   "metadata": {},
   "source": [
    "# Matrix multiplication for reference"
   ]
  },
  {
   "cell_type": "code",
   "execution_count": 90,
   "metadata": {},
   "outputs": [],
   "source": [
    "A = np.random.randint(100000, size=(2**1,2**1), dtype=np.uint32)\n",
    "B = np.random.randint(100000, size=(2**1,2**1), dtype=np.uint32)"
   ]
  },
  {
   "cell_type": "code",
   "execution_count": 91,
   "metadata": {
    "scrolled": true
   },
   "outputs": [
    {
     "name": "stdout",
     "output_type": "stream",
     "text": [
      "250 loops, best of 3: 20.9 µs per loop\n"
     ]
    }
   ],
   "source": [
    "%%timeit -n 250 -r 3\n",
    "\n",
    "A@B"
   ]
  },
  {
   "cell_type": "code",
   "execution_count": 92,
   "metadata": {},
   "outputs": [],
   "source": [
    "A = np.random.randint(100000, size=(2**2,2**2), dtype=np.uint32)\n",
    "B = np.random.randint(100000, size=(2**2,2**2), dtype=np.uint32)"
   ]
  },
  {
   "cell_type": "code",
   "execution_count": 93,
   "metadata": {
    "scrolled": true
   },
   "outputs": [
    {
     "name": "stdout",
     "output_type": "stream",
     "text": [
      "250 loops, best of 3: 22 µs per loop\n"
     ]
    }
   ],
   "source": [
    "%%timeit -n 250 -r 3\n",
    "\n",
    "A@B"
   ]
  },
  {
   "cell_type": "code",
   "execution_count": 94,
   "metadata": {},
   "outputs": [],
   "source": [
    "A = np.random.randint(100000, size=(2**3,2**3), dtype=np.uint32)\n",
    "B = np.random.randint(100000, size=(2**3,2**3), dtype=np.uint32)"
   ]
  },
  {
   "cell_type": "code",
   "execution_count": 95,
   "metadata": {
    "scrolled": true
   },
   "outputs": [
    {
     "name": "stdout",
     "output_type": "stream",
     "text": [
      "250 loops, best of 3: 27.4 µs per loop\n"
     ]
    }
   ],
   "source": [
    "%%timeit -n 250 -r 3\n",
    "\n",
    "A@B"
   ]
  },
  {
   "cell_type": "code",
   "execution_count": 96,
   "metadata": {},
   "outputs": [],
   "source": [
    "A = np.random.randint(100000, size=(2**4,2**4), dtype=np.uint32)\n",
    "B = np.random.randint(100000, size=(2**4,2**4), dtype=np.uint32)"
   ]
  },
  {
   "cell_type": "code",
   "execution_count": 97,
   "metadata": {
    "scrolled": true
   },
   "outputs": [
    {
     "name": "stdout",
     "output_type": "stream",
     "text": [
      "250 loops, best of 3: 64.7 µs per loop\n"
     ]
    }
   ],
   "source": [
    "%%timeit -n 250 -r 3\n",
    "\n",
    "A@B"
   ]
  },
  {
   "cell_type": "code",
   "execution_count": 98,
   "metadata": {},
   "outputs": [],
   "source": [
    "A = np.random.randint(100000, size=(2**5,2**5), dtype=np.uint32)\n",
    "B = np.random.randint(100000, size=(2**5,2**5), dtype=np.uint32)"
   ]
  },
  {
   "cell_type": "code",
   "execution_count": 99,
   "metadata": {
    "scrolled": true
   },
   "outputs": [
    {
     "name": "stdout",
     "output_type": "stream",
     "text": [
      "250 loops, best of 3: 317 µs per loop\n"
     ]
    }
   ],
   "source": [
    "%%timeit -n 250 -r 3\n",
    "\n",
    "A@B"
   ]
  },
  {
   "cell_type": "code",
   "execution_count": 100,
   "metadata": {},
   "outputs": [],
   "source": [
    "A = np.random.randint(100000, size=(2**1,2**1), dtype=np.uint32)\n",
    "B = np.random.randint(100000, size=(2**1,2**1), dtype=np.uint32)"
   ]
  },
  {
   "cell_type": "code",
   "execution_count": 101,
   "metadata": {
    "scrolled": true
   },
   "outputs": [
    {
     "name": "stdout",
     "output_type": "stream",
     "text": [
      "250 loops, best of 3: 24.9 µs per loop\n"
     ]
    }
   ],
   "source": [
    "%%timeit -n 250 -r 3\n",
    "\n",
    "A@B"
   ]
  },
  {
   "cell_type": "code",
   "execution_count": 102,
   "metadata": {},
   "outputs": [],
   "source": [
    "A = np.random.randint(100000, size=(2**6,2**6), dtype=np.uint32)\n",
    "B = np.random.randint(100000, size=(2**6,2**6), dtype=np.uint32)"
   ]
  },
  {
   "cell_type": "code",
   "execution_count": 103,
   "metadata": {
    "scrolled": true
   },
   "outputs": [
    {
     "name": "stdout",
     "output_type": "stream",
     "text": [
      "250 loops, best of 3: 2.26 ms per loop\n"
     ]
    }
   ],
   "source": [
    "%%timeit -n 250 -r 3\n",
    "\n",
    "A@B"
   ]
  },
  {
   "cell_type": "code",
   "execution_count": 104,
   "metadata": {},
   "outputs": [],
   "source": [
    "A = np.random.randint(100000, size=(2**7,2**7), dtype=np.uint32)\n",
    "B = np.random.randint(100000, size=(2**7,2**7), dtype=np.uint32)"
   ]
  },
  {
   "cell_type": "code",
   "execution_count": 105,
   "metadata": {
    "scrolled": true
   },
   "outputs": [
    {
     "name": "stdout",
     "output_type": "stream",
     "text": [
      "250 loops, best of 3: 56 ms per loop\n"
     ]
    }
   ],
   "source": [
    "%%timeit -n 250 -r 3\n",
    "\n",
    "A@B"
   ]
  },
  {
   "cell_type": "code",
   "execution_count": 106,
   "metadata": {},
   "outputs": [],
   "source": [
    "A = np.random.randint(100000, size=(2**8,2**8), dtype=np.uint32)\n",
    "B = np.random.randint(100000, size=(2**8,2**8), dtype=np.uint32)"
   ]
  },
  {
   "cell_type": "code",
   "execution_count": 107,
   "metadata": {
    "scrolled": true
   },
   "outputs": [
    {
     "name": "stdout",
     "output_type": "stream",
     "text": [
      "250 loops, best of 3: 546 ms per loop\n"
     ]
    }
   ],
   "source": [
    "%%timeit -n 250 -r 3\n",
    "\n",
    "A@B"
   ]
  },
  {
   "cell_type": "code",
   "execution_count": 108,
   "metadata": {},
   "outputs": [],
   "source": [
    "A = np.random.randint(100000, size=(2**9,2**9), dtype=np.uint32)\n",
    "B = np.random.randint(100000, size=(2**9,2**9), dtype=np.uint32)"
   ]
  },
  {
   "cell_type": "code",
   "execution_count": 109,
   "metadata": {
    "scrolled": true
   },
   "outputs": [
    {
     "name": "stdout",
     "output_type": "stream",
     "text": [
      "5 loops, best of 3: 11.7 s per loop\n"
     ]
    }
   ],
   "source": [
    "%%timeit -n 5 -r 3\n",
    "\n",
    "A@B"
   ]
  },
  {
   "cell_type": "code",
   "execution_count": 110,
   "metadata": {},
   "outputs": [],
   "source": [
    "A = np.random.randint(100000, size=(2**10,2**10), dtype=np.uint32)\n",
    "B = np.random.randint(100000, size=(2**10,2**10), dtype=np.uint32)"
   ]
  },
  {
   "cell_type": "code",
   "execution_count": 111,
   "metadata": {
    "scrolled": true
   },
   "outputs": [
    {
     "ename": "KeyboardInterrupt",
     "evalue": "",
     "output_type": "error",
     "traceback": [
      "\u001b[0;31m---------------------------------------------------------------------------\u001b[0m",
      "\u001b[0;31mKeyboardInterrupt\u001b[0m                         Traceback (most recent call last)",
      "\u001b[0;32m<ipython-input-111-0554c8d09c44>\u001b[0m in \u001b[0;36m<module>\u001b[0;34m()\u001b[0m\n\u001b[0;32m----> 1\u001b[0;31m \u001b[0mget_ipython\u001b[0m\u001b[0;34m(\u001b[0m\u001b[0;34m)\u001b[0m\u001b[0;34m.\u001b[0m\u001b[0mrun_cell_magic\u001b[0m\u001b[0;34m(\u001b[0m\u001b[0;34m'timeit'\u001b[0m\u001b[0;34m,\u001b[0m \u001b[0;34m''\u001b[0m\u001b[0;34m,\u001b[0m \u001b[0;34m'\\nA@B'\u001b[0m\u001b[0;34m)\u001b[0m\u001b[0;34m\u001b[0m\u001b[0m\n\u001b[0m",
      "\u001b[0;32m/usr/lib/python3/dist-packages/IPython/core/interactiveshell.py\u001b[0m in \u001b[0;36mrun_cell_magic\u001b[0;34m(self, magic_name, line, cell)\u001b[0m\n\u001b[1;32m   2115\u001b[0m             \u001b[0mmagic_arg_s\u001b[0m \u001b[0;34m=\u001b[0m \u001b[0mself\u001b[0m\u001b[0;34m.\u001b[0m\u001b[0mvar_expand\u001b[0m\u001b[0;34m(\u001b[0m\u001b[0mline\u001b[0m\u001b[0;34m,\u001b[0m \u001b[0mstack_depth\u001b[0m\u001b[0;34m)\u001b[0m\u001b[0;34m\u001b[0m\u001b[0m\n\u001b[1;32m   2116\u001b[0m             \u001b[0;32mwith\u001b[0m \u001b[0mself\u001b[0m\u001b[0;34m.\u001b[0m\u001b[0mbuiltin_trap\u001b[0m\u001b[0;34m:\u001b[0m\u001b[0;34m\u001b[0m\u001b[0m\n\u001b[0;32m-> 2117\u001b[0;31m                 \u001b[0mresult\u001b[0m \u001b[0;34m=\u001b[0m \u001b[0mfn\u001b[0m\u001b[0;34m(\u001b[0m\u001b[0mmagic_arg_s\u001b[0m\u001b[0;34m,\u001b[0m \u001b[0mcell\u001b[0m\u001b[0;34m)\u001b[0m\u001b[0;34m\u001b[0m\u001b[0m\n\u001b[0m\u001b[1;32m   2118\u001b[0m             \u001b[0;32mreturn\u001b[0m \u001b[0mresult\u001b[0m\u001b[0;34m\u001b[0m\u001b[0m\n\u001b[1;32m   2119\u001b[0m \u001b[0;34m\u001b[0m\u001b[0m\n",
      "\u001b[0;32m<decorator-gen-59>\u001b[0m in \u001b[0;36mtimeit\u001b[0;34m(self, line, cell)\u001b[0m\n",
      "\u001b[0;32m/usr/lib/python3/dist-packages/IPython/core/magic.py\u001b[0m in \u001b[0;36m<lambda>\u001b[0;34m(f, *a, **k)\u001b[0m\n\u001b[1;32m    186\u001b[0m     \u001b[0;31m# but it's overkill for just that one bit of state.\u001b[0m\u001b[0;34m\u001b[0m\u001b[0;34m\u001b[0m\u001b[0m\n\u001b[1;32m    187\u001b[0m     \u001b[0;32mdef\u001b[0m \u001b[0mmagic_deco\u001b[0m\u001b[0;34m(\u001b[0m\u001b[0marg\u001b[0m\u001b[0;34m)\u001b[0m\u001b[0;34m:\u001b[0m\u001b[0;34m\u001b[0m\u001b[0m\n\u001b[0;32m--> 188\u001b[0;31m         \u001b[0mcall\u001b[0m \u001b[0;34m=\u001b[0m \u001b[0;32mlambda\u001b[0m \u001b[0mf\u001b[0m\u001b[0;34m,\u001b[0m \u001b[0;34m*\u001b[0m\u001b[0ma\u001b[0m\u001b[0;34m,\u001b[0m \u001b[0;34m**\u001b[0m\u001b[0mk\u001b[0m\u001b[0;34m:\u001b[0m \u001b[0mf\u001b[0m\u001b[0;34m(\u001b[0m\u001b[0;34m*\u001b[0m\u001b[0ma\u001b[0m\u001b[0;34m,\u001b[0m \u001b[0;34m**\u001b[0m\u001b[0mk\u001b[0m\u001b[0;34m)\u001b[0m\u001b[0;34m\u001b[0m\u001b[0m\n\u001b[0m\u001b[1;32m    189\u001b[0m \u001b[0;34m\u001b[0m\u001b[0m\n\u001b[1;32m    190\u001b[0m         \u001b[0;32mif\u001b[0m \u001b[0mcallable\u001b[0m\u001b[0;34m(\u001b[0m\u001b[0marg\u001b[0m\u001b[0;34m)\u001b[0m\u001b[0;34m:\u001b[0m\u001b[0;34m\u001b[0m\u001b[0m\n",
      "\u001b[0;32m/usr/lib/python3/dist-packages/IPython/core/magics/execution.py\u001b[0m in \u001b[0;36mtimeit\u001b[0;34m(self, line, cell)\u001b[0m\n\u001b[1;32m   1055\u001b[0m             \u001b[0mnumber\u001b[0m \u001b[0;34m=\u001b[0m \u001b[0;36m1\u001b[0m\u001b[0;34m\u001b[0m\u001b[0m\n\u001b[1;32m   1056\u001b[0m             \u001b[0;32mfor\u001b[0m \u001b[0m_\u001b[0m \u001b[0;32min\u001b[0m \u001b[0mrange\u001b[0m\u001b[0;34m(\u001b[0m\u001b[0;36m1\u001b[0m\u001b[0;34m,\u001b[0m \u001b[0;36m10\u001b[0m\u001b[0;34m)\u001b[0m\u001b[0;34m:\u001b[0m\u001b[0;34m\u001b[0m\u001b[0m\n\u001b[0;32m-> 1057\u001b[0;31m                 \u001b[0mtime_number\u001b[0m \u001b[0;34m=\u001b[0m \u001b[0mtimer\u001b[0m\u001b[0;34m.\u001b[0m\u001b[0mtimeit\u001b[0m\u001b[0;34m(\u001b[0m\u001b[0mnumber\u001b[0m\u001b[0;34m)\u001b[0m\u001b[0;34m\u001b[0m\u001b[0m\n\u001b[0m\u001b[1;32m   1058\u001b[0m                 \u001b[0mworst_tuning\u001b[0m \u001b[0;34m=\u001b[0m \u001b[0mmax\u001b[0m\u001b[0;34m(\u001b[0m\u001b[0mworst_tuning\u001b[0m\u001b[0;34m,\u001b[0m \u001b[0mtime_number\u001b[0m \u001b[0;34m/\u001b[0m \u001b[0mnumber\u001b[0m\u001b[0;34m)\u001b[0m\u001b[0;34m\u001b[0m\u001b[0m\n\u001b[1;32m   1059\u001b[0m                 \u001b[0;32mif\u001b[0m \u001b[0mtime_number\u001b[0m \u001b[0;34m>=\u001b[0m \u001b[0;36m0.2\u001b[0m\u001b[0;34m:\u001b[0m\u001b[0;34m\u001b[0m\u001b[0m\n",
      "\u001b[0;32m/usr/lib/python3/dist-packages/IPython/core/magics/execution.py\u001b[0m in \u001b[0;36mtimeit\u001b[0;34m(self, number)\u001b[0m\n\u001b[1;32m    137\u001b[0m         \u001b[0mgc\u001b[0m\u001b[0;34m.\u001b[0m\u001b[0mdisable\u001b[0m\u001b[0;34m(\u001b[0m\u001b[0;34m)\u001b[0m\u001b[0;34m\u001b[0m\u001b[0m\n\u001b[1;32m    138\u001b[0m         \u001b[0;32mtry\u001b[0m\u001b[0;34m:\u001b[0m\u001b[0;34m\u001b[0m\u001b[0m\n\u001b[0;32m--> 139\u001b[0;31m             \u001b[0mtiming\u001b[0m \u001b[0;34m=\u001b[0m \u001b[0mself\u001b[0m\u001b[0;34m.\u001b[0m\u001b[0minner\u001b[0m\u001b[0;34m(\u001b[0m\u001b[0mit\u001b[0m\u001b[0;34m,\u001b[0m \u001b[0mself\u001b[0m\u001b[0;34m.\u001b[0m\u001b[0mtimer\u001b[0m\u001b[0;34m)\u001b[0m\u001b[0;34m\u001b[0m\u001b[0m\n\u001b[0m\u001b[1;32m    140\u001b[0m         \u001b[0;32mfinally\u001b[0m\u001b[0;34m:\u001b[0m\u001b[0;34m\u001b[0m\u001b[0m\n\u001b[1;32m    141\u001b[0m             \u001b[0;32mif\u001b[0m \u001b[0mgcold\u001b[0m\u001b[0;34m:\u001b[0m\u001b[0;34m\u001b[0m\u001b[0m\n",
      "\u001b[0;32m<magic-timeit>\u001b[0m in \u001b[0;36minner\u001b[0;34m(_it, _timer)\u001b[0m\n",
      "\u001b[0;31mKeyboardInterrupt\u001b[0m: "
     ]
    }
   ],
   "source": [
    "%%timeit\n",
    "\n",
    "A@B"
   ]
  },
  {
   "cell_type": "code",
   "execution_count": null,
   "metadata": {},
   "outputs": [],
   "source": [
    "A = np.random.randint(100000, size=(2**11,2**11), dtype=np.uint32)\n",
    "B = np.random.randint(100000, size=(2**11,2**11), dtype=np.uint32)"
   ]
  },
  {
   "cell_type": "code",
   "execution_count": null,
   "metadata": {
    "scrolled": true
   },
   "outputs": [],
   "source": [
    "%%timeit\n",
    "\n",
    "A@B"
   ]
  },
  {
   "cell_type": "code",
   "execution_count": null,
   "metadata": {},
   "outputs": [],
   "source": [
    "A = np.random.randint(100000, size=(2**12,2**12), dtype=np.uint32)\n",
    "B = np.random.randint(100000, size=(2**12,2**12), dtype=np.uint32)"
   ]
  },
  {
   "cell_type": "code",
   "execution_count": null,
   "metadata": {
    "scrolled": true
   },
   "outputs": [],
   "source": [
    "%%timeit\n",
    "\n",
    "A@B"
   ]
  }
 ],
 "metadata": {
  "kernelspec": {
   "display_name": "Python 3",
   "language": "python",
   "name": "python3"
  },
  "language_info": {
   "codemirror_mode": {
    "name": "ipython",
    "version": 3
   },
   "file_extension": ".py",
   "mimetype": "text/x-python",
   "name": "python",
   "nbconvert_exporter": "python",
   "pygments_lexer": "ipython3",
   "version": "3.6.5"
  }
 },
 "nbformat": 4,
 "nbformat_minor": 2
}
