{
 "cells": [
  {
   "cell_type": "markdown",
   "metadata": {},
   "source": [
    "# filter_avg_f4\n",
    "This notebook will build two modules in which the overlay is controlled using pybind11 and CFFI respectively. The `.so` files will be copied into the `zypy/lib/` folder so they can be used with ZyPy. The generic initalisation code is found below. After that, four implementatiations will be made and compared: the default NumPy one, the hardware accelerated version using PYNQ, the hardware accelerated version using pybind11 and the hardware accelerated version using CFFI. A timing analysis at the end will reveal the minimum stream size required for the accelerators to be more beneficial than the default NumPy implementation. To build and do the analysis, click on `Kernel > Restart & Run All`."
   ]
  },
  {
   "cell_type": "code",
   "execution_count": 1,
   "metadata": {},
   "outputs": [
    {
     "data": {
      "application/javascript": [
       "\n",
       "try {\n",
       "require(['notebook/js/codecell'], function(codecell) {\n",
       "  codecell.CodeCell.options_default.highlight_modes[\n",
       "      'magic_text/x-csrc'] = {'reg':[/^%%microblaze/]};\n",
       "  Jupyter.notebook.events.one('kernel_ready.Kernel', function(){\n",
       "      Jupyter.notebook.get_cells().map(function(cell){\n",
       "          if (cell.cell_type == 'code'){ cell.auto_highlight(); } }) ;\n",
       "  });\n",
       "});\n",
       "} catch (e) {};\n"
      ]
     },
     "metadata": {},
     "output_type": "display_data"
    },
    {
     "data": {
      "application/javascript": [
       "\n",
       "try {\n",
       "require(['notebook/js/codecell'], function(codecell) {\n",
       "  codecell.CodeCell.options_default.highlight_modes[\n",
       "      'magic_text/x-csrc'] = {'reg':[/^%%pybind11/]};\n",
       "  Jupyter.notebook.events.one('kernel_ready.Kernel', function(){\n",
       "      Jupyter.notebook.get_cells().map(function(cell){\n",
       "          if (cell.cell_type == 'code'){ cell.auto_highlight(); } }) ;\n",
       "  });\n",
       "});\n",
       "} catch (e) {};\n"
      ]
     },
     "metadata": {},
     "output_type": "display_data"
    }
   ],
   "source": [
    "from pynq import Overlay, allocate\n",
    "import numpy as np\n",
    "\n",
    "overlay = Overlay(\"/home/xilinx/jupyter_notebooks/zypy/overlays/filter_avg_f4.bit\")\n",
    "\n",
    "M, N = 100, 100\n",
    "\n",
    "x1 = allocate(shape=(M, N), dtype=\"f4\")\n",
    "out = allocate(shape=(M, N), dtype=\"f4\")\n",
    "\n",
    "x1[:] = np.random.rand(*x1.shape) + 1\n",
    "out[:] = np.zeros(out.shape)"
   ]
  },
  {
   "cell_type": "markdown",
   "metadata": {},
   "source": [
    "# NumPy\n",
    "This is just a wrapper around the default NumPy implementation. The wrapper is required so we can compare it in the timing analysis."
   ]
  },
  {
   "cell_type": "code",
   "execution_count": 2,
   "metadata": {},
   "outputs": [
    {
     "name": "stdout",
     "output_type": "stream",
     "text": [
      "filter_avg_f4_numpy = [[1.296496  1.8705478 1.9647924 ... 1.8284323 1.1524236 1.6646081]\n",
      " [1.1657425 1.4420944 1.422201  ... 1.6511616 1.539968  1.3811685]\n",
      " [1.0883642 1.4271669 1.3637537 ... 1.5522726 1.5290493 1.3340511]\n",
      " ...\n",
      " [1.6907862 1.3719832 1.5519608 ... 1.4607917 1.7707318 1.4477668]\n",
      " [1.4906814 1.383455  1.5348579 ... 1.7115669 1.4110779 1.0313082]\n",
      " [1.5987314 1.378473  1.1149542 ... 1.9061413 1.003926  1.6088834]]\n"
     ]
    }
   ],
   "source": [
    "def filter_avg_f4_numpy(x1, out):\n",
    "    out[:] = x1[:]\n",
    "    out[1:-1, 1:-1] = 0.2 * (\n",
    "      x1[1:-1, 1:-1] +\n",
    "      x1[:-2, 1:-1] +\n",
    "      x1[2:, 1:-1] +\n",
    "      x1[1:-1, :-2] +\n",
    "      x1[1:-1, 2:]\n",
    "    )\n",
    "\n",
    "out[:] = 0\n",
    "filter_avg_f4_numpy(x1, out)\n",
    "print(f\"filter_avg_f4_numpy = {out}\")"
   ]
  },
  {
   "cell_type": "markdown",
   "metadata": {},
   "source": [
    "# PYNQ\n",
    "This is the default PYNQ implementation, in which the AXI4-Lite registers are controlled using the built-in MMIO module."
   ]
  },
  {
   "cell_type": "code",
   "execution_count": 3,
   "metadata": {},
   "outputs": [
    {
     "name": "stdout",
     "output_type": "stream",
     "text": [
      "filter_avg_f4_pynq = [[1.296496  1.8705478 1.9647924 ... 1.8284323 1.1524236 1.6646081]\n",
      " [1.1657425 1.4420944 1.4222012 ... 1.6511616 1.539968  1.3811685]\n",
      " [1.0883642 1.427167  1.3637537 ... 1.5522724 1.5290493 1.3340511]\n",
      " ...\n",
      " [1.6907862 1.3719832 1.5519608 ... 1.4607916 1.7707319 1.4477668]\n",
      " [1.4906814 1.3834552 1.534858  ... 1.7115669 1.4110779 1.0313082]\n",
      " [1.5987314 1.378473  1.1149542 ... 1.9061413 1.003926  1.6088834]]\n"
     ]
    }
   ],
   "source": [
    "def filter_avg_f4_pynq(x1, out):\n",
    "    overlay.filter_avg_f4_0.mmio.write(0x10, (x1.shape[0] << 0) | (x1.shape[1] << 16))  # Set args\n",
    "    overlay.filter_avg_f4_0.mmio.write(0x00, 0x01)  # Start the IP core\n",
    "\n",
    "    overlay.axi_dma_0.sendchannel.transfer(x1)\n",
    "    overlay.axi_dma_0.recvchannel.transfer(out)\n",
    "    overlay.axi_dma_0.recvchannel.wait()\n",
    "\n",
    "out[:] = 0\n",
    "filter_avg_f4_pynq(x1, out)\n",
    "print(f\"filter_avg_f4_pynq = {out}\")"
   ]
  },
  {
   "cell_type": "markdown",
   "metadata": {},
   "source": [
    "# pybind11\n",
    "This is the pybind11 implementation, in which all registers are controlled by `mmap`ing the physical memory `/dev/mem/`."
   ]
  },
  {
   "cell_type": "code",
   "execution_count": 4,
   "metadata": {},
   "outputs": [],
   "source": [
    "%%pybind11 filter_avg_f4_pybind11\n",
    "\n",
    "#include \"defines.h\"\n",
    "\n",
    "void filter_avg_f4(\n",
    "    unsigned int x1_addr,\n",
    "    unsigned int out_addr,\n",
    "    unsigned int height,\n",
    "    unsigned int width)\n",
    "{\n",
    "    init();\n",
    "    \n",
    "    filter_avg_f4_0_args_args_w(((height << 0) | (width << 16)));\n",
    "    filter_avg_f4_0_ctrl_ap_start_rw(0x1);\n",
    "\n",
    "    unsigned int length = height * width * sizeof(float); \n",
    "\n",
    "    axi_dma_0_mm2s_dmacr_reset_rw(0x1);\n",
    "    axi_dma_0_s2mm_dmacr_reset_rw(0x1);\n",
    "    \n",
    "    axi_dma_0_mm2s_dmacr_rs_rw(0x1);\n",
    "    axi_dma_0_mm2s_sa_source_address_rw(x1_addr);\n",
    "    axi_dma_0_mm2s_length_length_rw(length);\n",
    "    \n",
    "    axi_dma_0_s2mm_dmacr_rs_rw(0x1);\n",
    "    axi_dma_0_s2mm_da_destination_address_rw(out_addr);\n",
    "    axi_dma_0_s2mm_length_length_rw(length);\n",
    "    while(!(axi_dma_0_s2mm_dmasr_idle_r()));\n",
    "\n",
    "    exit();\n",
    "}"
   ]
  },
  {
   "cell_type": "code",
   "execution_count": 5,
   "metadata": {},
   "outputs": [],
   "source": [
    "# This cell writes the above source code to a file, so that it can be reused for the CFFI implementation.\n",
    "# Please make sure the cell above is the last cell executed!\n",
    "\n",
    "with open(f\"filter_avg_f4.c\", \"w\") as f:\n",
    "    code = (\"#\" + _ih[-2].split(\"#\", 1)[1])[:-2].replace(\"\\\\n\", \"\\n\")\n",
    "    f.write(code)"
   ]
  },
  {
   "cell_type": "code",
   "execution_count": 6,
   "metadata": {},
   "outputs": [
    {
     "name": "stdout",
     "output_type": "stream",
     "text": [
      "filter_avg_f4_pybind11 = [[1.296496  1.8705478 1.9647924 ... 1.8284323 1.1524236 1.6646081]\n",
      " [1.1657425 1.4420944 1.4222012 ... 1.6511616 1.539968  1.3811685]\n",
      " [1.0883642 1.427167  1.3637537 ... 1.5522724 1.5290493 1.3340511]\n",
      " ...\n",
      " [1.6907862 1.3719832 1.5519608 ... 1.4607916 1.7707319 1.4477668]\n",
      " [1.4906814 1.3834552 1.534858  ... 1.7115669 1.4110779 1.0313082]\n",
      " [1.5987314 1.378473  1.1149542 ... 1.9061413 1.003926  1.6088834]]\n"
     ]
    }
   ],
   "source": [
    "import filter_avg_f4_pybind11 as calc\n",
    "\n",
    "def filter_avg_f4_pybind11(x1, out):\n",
    "    calc.filter_avg_f4(x1.physical_address, out.physical_address, *x1.shape)\n",
    "\n",
    "out[:] = 0\n",
    "filter_avg_f4_pybind11(x1, out)\n",
    "print(f\"filter_avg_f4_pybind11 = {out}\")"
   ]
  },
  {
   "cell_type": "markdown",
   "metadata": {},
   "source": [
    "# CFFI\n",
    "This is the CFFI implementation, of which the source code is identical to the pybind11 implementation.\n",
    "The only thing that needs to be added are the C definitions."
   ]
  },
  {
   "cell_type": "code",
   "execution_count": 7,
   "metadata": {},
   "outputs": [
    {
     "name": "stdout",
     "output_type": "stream",
     "text": [
      "Writing build_filter_avg_f4_cffi.py\n"
     ]
    }
   ],
   "source": [
    "%%writefile build_filter_avg_f4_cffi.py\n",
    "\n",
    "from cffi import FFI\n",
    "ffibuilder = FFI()\n",
    "\n",
    "ffibuilder.cdef(\n",
    "    r\"\"\"\n",
    "void filter_avg_f4(\n",
    "    unsigned int x1_addr,\n",
    "    unsigned int out_addr,\n",
    "    unsigned int height,\n",
    "    unsigned int width\n",
    ");\n",
    "    \"\"\"\n",
    ")\n",
    "\n",
    "with open(\"filter_avg_f4.c\") as f:\n",
    "    ffibuilder.set_source(\"filter_avg_f4_cffi\", f.read())\n",
    "\n",
    "if __name__ == \"__main__\":\n",
    "    ffibuilder.compile(verbose=True)"
   ]
  },
  {
   "cell_type": "code",
   "execution_count": 8,
   "metadata": {},
   "outputs": [
    {
     "name": "stdout",
     "output_type": "stream",
     "text": [
      "generating ./filter_avg_f4_cffi.c\n",
      "the current directory is '/home/xilinx/jupyter_notebooks/zypy/lib/filter_avg_f4'\n",
      "running build_ext\n",
      "building 'filter_avg_f4_cffi' extension\n",
      "arm-linux-gnueabihf-gcc -pthread -DNDEBUG -g -fwrapv -O2 -Wall -Wstrict-prototypes -g -fdebug-prefix-map=/build/python3.7-2QTFw6/python3.7-3.7.0~b3=. -fstack-protector-strong -Wformat -Werror=format-security -Wdate-time -D_FORTIFY_SOURCE=2 -fPIC -I/home/xilinx/perf_env/include -I/usr/include/python3.7m -c filter_avg_f4_cffi.c -o ./filter_avg_f4_cffi.o\n",
      "arm-linux-gnueabihf-gcc -pthread -shared -Wl,-O1 -Wl,-Bsymbolic-functions -Wl,-Bsymbolic-functions -Wl,-z,relro -Wl,-Bsymbolic-functions -Wl,-z,relro -g -fdebug-prefix-map=/build/python3.7-2QTFw6/python3.7-3.7.0~b3=. -fstack-protector-strong -Wformat -Werror=format-security -Wdate-time -D_FORTIFY_SOURCE=2 ./filter_avg_f4_cffi.o -o ./filter_avg_f4_cffi.cpython-37m-arm-linux-gnueabihf.so\n"
     ]
    },
    {
     "name": "stderr",
     "output_type": "stream",
     "text": [
      "In file included from filter_avg_f4_cffi.c:569:0:\n",
      "defines.h:106:15: warning: backslash-newline at end of file\n",
      " #define exit()\\\r\n",
      "                \n"
     ]
    }
   ],
   "source": [
    "%%bash\n",
    "\n",
    "/home/xilinx/perf_env/bin/python  build_filter_avg_f4_cffi.py\n",
    "cp filter_avg_f4_cffi.cpython-37m-arm-linux-gnueabihf.so ../\n",
    "cp filter_avg_f4_pybind11.so ../"
   ]
  },
  {
   "cell_type": "code",
   "execution_count": 9,
   "metadata": {},
   "outputs": [
    {
     "name": "stdout",
     "output_type": "stream",
     "text": [
      "filter_avg_f4_cffi = [[1.296496  1.8705478 1.9647924 ... 1.8284323 1.1524236 1.6646081]\n",
      " [1.1657425 1.4420944 1.4222012 ... 1.6511616 1.539968  1.3811685]\n",
      " [1.0883642 1.427167  1.3637537 ... 1.5522724 1.5290493 1.3340511]\n",
      " ...\n",
      " [1.6907862 1.3719832 1.5519608 ... 1.4607916 1.7707319 1.4477668]\n",
      " [1.4906814 1.3834552 1.534858  ... 1.7115669 1.4110779 1.0313082]\n",
      " [1.5987314 1.378473  1.1149542 ... 1.9061413 1.003926  1.6088834]]\n"
     ]
    }
   ],
   "source": [
    "from filter_avg_f4_cffi import lib as calc\n",
    "\n",
    "def filter_avg_f4_cffi(x1, out):\n",
    "    calc.filter_avg_f4(x1.physical_address, out.physical_address, *x1.shape)\n",
    "\n",
    "out[:] = 0\n",
    "filter_avg_f4_cffi(x1, out)\n",
    "print(f\"filter_avg_f4_cffi = {out}\")"
   ]
  },
  {
   "cell_type": "markdown",
   "metadata": {},
   "source": [
    "# Timing analysis\n",
    "The timing analysis is done for each of the functions that is accelerated in hardware. The values of the stream size for which the hardware implementation provides acceleration are given by `pynq_min`, `pybind11_min` and `cffi_min` respectively. Equivalently `pynq_min_reconf`, `pybind11_min_reconf` and `cffi_min_recong` indicate the size required in case reconfiguration is taken into account as well."
   ]
  },
  {
   "cell_type": "markdown",
   "metadata": {},
   "source": [
    "## filter_avg_f4\n"
   ]
  },
  {
   "cell_type": "code",
   "execution_count": 10,
   "metadata": {},
   "outputs": [
    {
     "name": "stdout",
     "output_type": "stream",
     "text": [
      "kernel = numpy, n = 16, t = 0.0022087356\n",
      "kernel = pynq, n = 16, t = 0.1003055146\n",
      "kernel = pybind11, n = 16, t = 0.0004202895\n",
      "kernel = cffi, n = 16, t = 0.00020055470000000003\n",
      "kernel = numpy, n = 32, t = 0.0021662338\n",
      "kernel = pynq, n = 32, t = 0.10003477370000001\n",
      "kernel = pybind11, n = 32, t = 0.00040558280000000004\n",
      "kernel = cffi, n = 32, t = 0.00021090370000000002\n",
      "kernel = numpy, n = 64, t = 0.0021854714\n",
      "kernel = pynq, n = 64, t = 0.10081656350000001\n",
      "kernel = pybind11, n = 64, t = 0.00041653390000000005\n",
      "kernel = cffi, n = 64, t = 0.0002053249\n",
      "kernel = numpy, n = 128, t = 0.0022296356000000004\n",
      "kernel = pynq, n = 128, t = 0.10030229890000002\n",
      "kernel = pybind11, n = 128, t = 0.00017569350000000002\n",
      "kernel = cffi, n = 128, t = 0.0002793055\n",
      "kernel = numpy, n = 256, t = 0.0023187019\n",
      "kernel = pynq, n = 256, t = 0.1001951516\n",
      "kernel = pybind11, n = 256, t = 0.0004111194000000001\n",
      "kernel = cffi, n = 256, t = 0.00020996990000000002\n",
      "kernel = numpy, n = 512, t = 0.0024130575000000003\n",
      "kernel = pynq, n = 512, t = 0.10102667800000001\n",
      "kernel = pybind11, n = 512, t = 0.00041633940000000003\n",
      "kernel = cffi, n = 512, t = 0.0002263633\n",
      "kernel = numpy, n = 1024, t = 0.0027096354\n",
      "kernel = pynq, n = 1024, t = 0.1000341193\n",
      "kernel = pybind11, n = 1024, t = 0.0001874726\n",
      "kernel = cffi, n = 1024, t = 0.00029517020000000005\n",
      "kernel = numpy, n = 2048, t = 0.0031511461\n",
      "kernel = pynq, n = 2048, t = 0.10011278970000001\n",
      "kernel = pybind11, n = 2048, t = 0.0004393458\n",
      "kernel = cffi, n = 2048, t = 0.0002417363\n",
      "kernel = numpy, n = 4096, t = 0.0041597794\n",
      "kernel = pynq, n = 4096, t = 0.100288626\n",
      "kernel = pybind11, n = 4096, t = 0.0004656376\n",
      "kernel = cffi, n = 4096, t = 0.0003428541\n",
      "kernel = numpy, n = 8192, t = 0.005855886\n",
      "kernel = pynq, n = 8192, t = 0.09996809820000001\n",
      "kernel = pybind11, n = 8192, t = 0.0005250987\n",
      "kernel = cffi, n = 8192, t = 0.00037607990000000007\n",
      "kernel = numpy, n = 16384, t = 0.009628207100000001\n",
      "kernel = pynq, n = 16384, t = 0.0999922315\n",
      "kernel = pybind11, n = 16384, t = 0.0006039403000000001\n",
      "kernel = cffi, n = 16384, t = 0.0004586723\n",
      "kernel = numpy, n = 32768, t = 0.0154455927\n",
      "kernel = pynq, n = 32768, t = 0.0999914162\n",
      "kernel = pybind11, n = 32768, t = 0.0005326003\n",
      "kernel = cffi, n = 32768, t = 0.0006208376\n",
      "kernel = numpy, n = 65536, t = 0.0320654363\n",
      "kernel = pynq, n = 65536, t = 0.10040945940000001\n",
      "kernel = pybind11, n = 65536, t = 0.0008857071\n",
      "kernel = cffi, n = 65536, t = 0.0009379290000000001\n",
      "kernel = numpy, n = 131072, t = 0.06330932460000001\n",
      "kernel = pynq, n = 131072, t = 0.1005190448\n",
      "kernel = pybind11, n = 131072, t = 0.0016915557\n",
      "kernel = cffi, n = 131072, t = 0.0015571766000000002\n",
      "kernel = numpy, n = 262144, t = 0.1327058213\n",
      "kernel = pynq, n = 262144, t = 0.1007616508\n",
      "kernel = pybind11, n = 262144, t = 0.0029390326000000005\n",
      "kernel = cffi, n = 262144, t = 0.0029132993\n",
      "kernel = numpy, n = 524288, t = 0.25894139590000004\n",
      "kernel = pynq, n = 524288, t = 0.1005880635\n",
      "kernel = pybind11, n = 524288, t = 0.005621722400000001\n",
      "kernel = cffi, n = 524288, t = 0.0055961473\n",
      "kernel = numpy, n = 1048576, t = 0.5157189072\n",
      "kernel = pynq, n = 1048576, t = 0.10119568020000001\n",
      "kernel = pybind11, n = 1048576, t = 0.010953454100000001\n",
      "kernel = cffi, n = 1048576, t = 0.0109502954\n",
      "kernel = numpy, n = 2097152, t = 1.0281123022\n",
      "kernel = pynq, n = 2097152, t = 0.1030084608\n",
      "kernel = pybind11, n = 2097152, t = 0.0215653187\n",
      "kernel = cffi, n = 2097152, t = 0.0215621283\n"
     ]
    },
    {
     "data": {
      "text/html": [
       "<pre style=\"white-space:pre;overflow-x:auto;line-height:normal;font-family:Menlo,'DejaVu Sans Mono',consolas,'Courier New',monospace\">┏━━━━━━━━━┳━━━━━━━━━━━━━━━━━━━━┳━━━━━━━━━━━━━━━━━━━┳━━━━━━━━━━━━━━━━━━━━┳━━━━━━━━━━━━━━━━━━━┓\n",
       "┃<span style=\"font-weight: bold\"> n       </span>┃<span style=\"font-weight: bold\"> numpy              </span>┃<span style=\"font-weight: bold\"> pynq              </span>┃<span style=\"font-weight: bold\"> pybind11           </span>┃<span style=\"font-weight: bold\"> cffi              </span>┃\n",
       "┡━━━━━━━━━╇━━━━━━━━━━━━━━━━━━━━╇━━━━━━━━━━━━━━━━━━━╇━━━━━━━━━━━━━━━━━━━━╇━━━━━━━━━━━━━━━━━━━┩\n",
       "│ 16      │ 0.000138045975     │ 0.0062690946625   │ 2.626809375e-05    │ 1.25346687500000… │\n",
       "│ 32      │ 6.769480625e-05    │ 0.00312608667812… │ 1.267446250000000… │ 6.59074062500000… │\n",
       "│ 64      │ 3.4147990625e-05   │ 0.00157525880468… │ 6.508342187500001… │ 3.2082015625e-06  │\n",
       "│ 128     │ 1.741902812500000… │ 0.00078361171015… │ 1.372605468750000… │ 2.18207421875e-06 │\n",
       "│ 256     │ 9.057429296875e-06 │ 0.00039138731093… │ 1.605935156250000… │ 8.20194921875000… │\n",
       "│ 512     │ 4.713002929687501… │ 0.00019731773046… │ 8.131628906250001… │ 4.421158203125e-… │\n",
       "│ 1024    │ 2.6461283203125e-… │ 9.76895696289062… │ 1.830787109375e-07 │ 2.88252148437500… │\n",
       "│ 2048    │ 1.538645556640625… │ 4.88831980957031… │ 2.1452431640625e-… │ 1.18035302734375… │\n",
       "│ 4096    │ 1.015571142578125… │ 2.44845278320312… │ 1.136810546875e-07 │ 8.37046142578125… │\n",
       "│ 8192    │ 7.14829833984375e… │ 1.22031369873046… │ 6.409896240234375… │ 4.59081909179687… │\n",
       "│ 16384   │ 5.876591247558594… │ 6.10304147338867… │ 3.686159057617188… │ 2.79951354980468… │\n",
       "│ 32768   │ 4.713620819091797… │ 3.05149585571289… │ 1.625367126464844… │ 1.89464599609375… │\n",
       "│ 65536   │ 4.892797286987305… │ 1.53212676086425… │ 1.351481781005859… │ 1.43116607666015… │\n",
       "│ 131072  │ 4.830118148803712… │ 7.66899450683593… │ 1.290554580688476… │ 1.18803146362304… │\n",
       "│ 262144  │ 5.062325336456299… │ 3.84375193786621… │ 1.121151962280273… │ 1.11133548736572… │\n",
       "│ 524288  │ 4.938915174484254… │ 1.91856505393981… │ 1.072258453369140… │ 1.06738039016723… │\n",
       "│ 1048576 │ 4.918278762817383… │ 9.65077211380005… │ 1.044602785110473… │ 1.04430154800415… │\n",
       "│ 2097152 │ 4.902421484947205… │ 4.911826171875e-… │ 1.028314528465271… │ 1.02816239833831… │\n",
       "└─────────┴────────────────────┴───────────────────┴────────────────────┴───────────────────┘\n",
       "</pre>\n"
      ],
      "text/plain": [
       "┏━━━━━━━━━┳━━━━━━━━━━━━━━━━━━━━┳━━━━━━━━━━━━━━━━━━━┳━━━━━━━━━━━━━━━━━━━━┳━━━━━━━━━━━━━━━━━━━┓\n",
       "┃\u001b[1m \u001b[0m\u001b[1mn      \u001b[0m\u001b[1m \u001b[0m┃\u001b[1m \u001b[0m\u001b[1mnumpy             \u001b[0m\u001b[1m \u001b[0m┃\u001b[1m \u001b[0m\u001b[1mpynq             \u001b[0m\u001b[1m \u001b[0m┃\u001b[1m \u001b[0m\u001b[1mpybind11          \u001b[0m\u001b[1m \u001b[0m┃\u001b[1m \u001b[0m\u001b[1mcffi             \u001b[0m\u001b[1m \u001b[0m┃\n",
       "┡━━━━━━━━━╇━━━━━━━━━━━━━━━━━━━━╇━━━━━━━━━━━━━━━━━━━╇━━━━━━━━━━━━━━━━━━━━╇━━━━━━━━━━━━━━━━━━━┩\n",
       "│ 16      │ 0.000138045975     │ 0.0062690946625   │ 2.626809375e-05    │ 1.25346687500000… │\n",
       "│ 32      │ 6.769480625e-05    │ 0.00312608667812… │ 1.267446250000000… │ 6.59074062500000… │\n",
       "│ 64      │ 3.4147990625e-05   │ 0.00157525880468… │ 6.508342187500001… │ 3.2082015625e-06  │\n",
       "│ 128     │ 1.741902812500000… │ 0.00078361171015… │ 1.372605468750000… │ 2.18207421875e-06 │\n",
       "│ 256     │ 9.057429296875e-06 │ 0.00039138731093… │ 1.605935156250000… │ 8.20194921875000… │\n",
       "│ 512     │ 4.713002929687501… │ 0.00019731773046… │ 8.131628906250001… │ 4.421158203125e-… │\n",
       "│ 1024    │ 2.6461283203125e-… │ 9.76895696289062… │ 1.830787109375e-07 │ 2.88252148437500… │\n",
       "│ 2048    │ 1.538645556640625… │ 4.88831980957031… │ 2.1452431640625e-… │ 1.18035302734375… │\n",
       "│ 4096    │ 1.015571142578125… │ 2.44845278320312… │ 1.136810546875e-07 │ 8.37046142578125… │\n",
       "│ 8192    │ 7.14829833984375e… │ 1.22031369873046… │ 6.409896240234375… │ 4.59081909179687… │\n",
       "│ 16384   │ 5.876591247558594… │ 6.10304147338867… │ 3.686159057617188… │ 2.79951354980468… │\n",
       "│ 32768   │ 4.713620819091797… │ 3.05149585571289… │ 1.625367126464844… │ 1.89464599609375… │\n",
       "│ 65536   │ 4.892797286987305… │ 1.53212676086425… │ 1.351481781005859… │ 1.43116607666015… │\n",
       "│ 131072  │ 4.830118148803712… │ 7.66899450683593… │ 1.290554580688476… │ 1.18803146362304… │\n",
       "│ 262144  │ 5.062325336456299… │ 3.84375193786621… │ 1.121151962280273… │ 1.11133548736572… │\n",
       "│ 524288  │ 4.938915174484254… │ 1.91856505393981… │ 1.072258453369140… │ 1.06738039016723… │\n",
       "│ 1048576 │ 4.918278762817383… │ 9.65077211380005… │ 1.044602785110473… │ 1.04430154800415… │\n",
       "│ 2097152 │ 4.902421484947205… │ 4.911826171875e-… │ 1.028314528465271… │ 1.02816239833831… │\n",
       "└─────────┴────────────────────┴───────────────────┴────────────────────┴───────────────────┘\n"
      ]
     },
     "metadata": {},
     "output_type": "display_data"
    },
    {
     "name": "stdout",
     "output_type": "stream",
     "text": [
      "\n"
     ]
    },
    {
     "data": {
      "image/png": "[encoded data removed]",
      "text/plain": [
       "<Figure size 720x540 with 1 Axes>"
      ]
     },
     "metadata": {
      "needs_background": "dark"
     },
     "output_type": "display_data"
    },
    {
     "name": "stdout",
     "output_type": "stream",
     "text": [
      "pynq_min = 131072\n",
      "pybind11_min = 0\n",
      "cffi_min = 0\n",
      "Bitstream download time = 0.224022781\n"
     ]
    },
    {
     "data": {
      "text/html": [
       "<pre style=\"white-space:pre;overflow-x:auto;line-height:normal;font-family:Menlo,'DejaVu Sans Mono',consolas,'Courier New',monospace\">┏━━━━━━━━━┳━━━━━━━━━━━━━━━━━━━━┳━━━━━━━━━━━━━━━━━━━┳━━━━━━━━━━━━━━━━━━━━┳━━━━━━━━━━━━━━━━━━━┓\n",
       "┃<span style=\"font-weight: bold\"> n       </span>┃<span style=\"font-weight: bold\"> numpy              </span>┃<span style=\"font-weight: bold\"> pynq - reconfig   </span>┃<span style=\"font-weight: bold\"> pybind11 -         </span>┃<span style=\"font-weight: bold\"> cffi - reconfig   </span>┃\n",
       "┃         ┃                    ┃                   ┃<span style=\"font-weight: bold\"> reconfig           </span>┃                   ┃\n",
       "┡━━━━━━━━━╇━━━━━━━━━━━━━━━━━━━━╇━━━━━━━━━━━━━━━━━━━╇━━━━━━━━━━━━━━━━━━━━╇━━━━━━━━━━━━━━━━━━━┩\n",
       "│ 16      │ 0.000138045975     │ 0.020270518475    │ 0.01402769190625   │ 0.01401395848125  │\n",
       "│ 32      │ 6.769480625e-05    │ 0.01012679858437… │ 0.00701338636875   │ 0.007007302646875 │\n",
       "│ 64      │ 3.4147990625e-05   │ 0.00507561475781… │ 0.0035068642953125 │ 0.00350356415468… │\n",
       "│ 128     │ 1.741902812500000… │ 0.00253378968671… │ 0.001751550582031… │ 0.00175236005078… │\n",
       "│ 256     │ 9.057429296875e-06 │ 0.00126647629921… │ 0.0008766949234375 │ 0.00087590918320… │\n",
       "│ 512     │ 4.713002929687501… │ 0.00063486222460… │ 0.000438357657031… │ 0.00043798660996… │\n",
       "│ 1024    │ 2.6461283203125e-… │ 0.00031646181669… │ 0.000218955325781… │ 0.00021906049921… │\n",
       "│ 2048    │ 1.538645556640625… │ 0.00015826932163… │ 0.000109600647851… │ 0.00010950415883… │\n",
       "│ 4096    │ 1.015571142578125… │ 7.91775895996093… │ 5.480674282226563… │ 5.47767663818359… │\n",
       "│ 8192    │ 7.14829833984375e… │ 3.95496678710937… │ 2.741062984619140… │ 2.73924390747070… │\n",
       "│ 16384   │ 5.876591247558594… │ 1.97763069152832… │ 1.371012703247070… │ 1.37012605773925… │\n",
       "│ 32768   │ 4.713620819091797… │ 9.88812857666015… │ 6.852886392211914… │ 6.85557918090820… │\n",
       "│ 65536   │ 4.892797286987305… │ 4.95044312133789… │ 3.431831178283691… │ 3.43262802124023… │\n",
       "│ 131072  │ 4.830118148803712… │ 2.47605763092041… │ 1.722063726043701… │ 1.72103849487304… │\n",
       "│ 262144  │ 5.062325336456299… │ 1.23895428390502… │ 8.65790609741211e… │ 8.65692444992065… │\n",
       "│ 524288  │ 4.938915174484254… │ 6.19146050453186… │ 4.380121295928955… │ 4.37963348960876… │\n",
       "│ 1048576 │ 4.918278762817383… │ 3.10152493667602… │ 2.240908003807068… │ 2.24087788009643… │\n",
       "│ 2097152 │ 4.902421484947205… │ 1.55940647983551… │ 1.171055315494537… │ 1.17104010248184… │\n",
       "└─────────┴────────────────────┴───────────────────┴────────────────────┴───────────────────┘\n",
       "</pre>\n"
      ],
      "text/plain": [
       "┏━━━━━━━━━┳━━━━━━━━━━━━━━━━━━━━┳━━━━━━━━━━━━━━━━━━━┳━━━━━━━━━━━━━━━━━━━━┳━━━━━━━━━━━━━━━━━━━┓\n",
       "┃\u001b[1m \u001b[0m\u001b[1mn      \u001b[0m\u001b[1m \u001b[0m┃\u001b[1m \u001b[0m\u001b[1mnumpy             \u001b[0m\u001b[1m \u001b[0m┃\u001b[1m \u001b[0m\u001b[1mpynq - reconfig  \u001b[0m\u001b[1m \u001b[0m┃\u001b[1m \u001b[0m\u001b[1mpybind11 -        \u001b[0m\u001b[1m \u001b[0m┃\u001b[1m \u001b[0m\u001b[1mcffi - reconfig  \u001b[0m\u001b[1m \u001b[0m┃\n",
       "┃         ┃                    ┃                   ┃\u001b[1m \u001b[0m\u001b[1mreconfig          \u001b[0m\u001b[1m \u001b[0m┃                   ┃\n",
       "┡━━━━━━━━━╇━━━━━━━━━━━━━━━━━━━━╇━━━━━━━━━━━━━━━━━━━╇━━━━━━━━━━━━━━━━━━━━╇━━━━━━━━━━━━━━━━━━━┩\n",
       "│ 16      │ 0.000138045975     │ 0.020270518475    │ 0.01402769190625   │ 0.01401395848125  │\n",
       "│ 32      │ 6.769480625e-05    │ 0.01012679858437… │ 0.00701338636875   │ 0.007007302646875 │\n",
       "│ 64      │ 3.4147990625e-05   │ 0.00507561475781… │ 0.0035068642953125 │ 0.00350356415468… │\n",
       "│ 128     │ 1.741902812500000… │ 0.00253378968671… │ 0.001751550582031… │ 0.00175236005078… │\n",
       "│ 256     │ 9.057429296875e-06 │ 0.00126647629921… │ 0.0008766949234375 │ 0.00087590918320… │\n",
       "│ 512     │ 4.713002929687501… │ 0.00063486222460… │ 0.000438357657031… │ 0.00043798660996… │\n",
       "│ 1024    │ 2.6461283203125e-… │ 0.00031646181669… │ 0.000218955325781… │ 0.00021906049921… │\n",
       "│ 2048    │ 1.538645556640625… │ 0.00015826932163… │ 0.000109600647851… │ 0.00010950415883… │\n",
       "│ 4096    │ 1.015571142578125… │ 7.91775895996093… │ 5.480674282226563… │ 5.47767663818359… │\n",
       "│ 8192    │ 7.14829833984375e… │ 3.95496678710937… │ 2.741062984619140… │ 2.73924390747070… │\n",
       "│ 16384   │ 5.876591247558594… │ 1.97763069152832… │ 1.371012703247070… │ 1.37012605773925… │\n",
       "│ 32768   │ 4.713620819091797… │ 9.88812857666015… │ 6.852886392211914… │ 6.85557918090820… │\n",
       "│ 65536   │ 4.892797286987305… │ 4.95044312133789… │ 3.431831178283691… │ 3.43262802124023… │\n",
       "│ 131072  │ 4.830118148803712… │ 2.47605763092041… │ 1.722063726043701… │ 1.72103849487304… │\n",
       "│ 262144  │ 5.062325336456299… │ 1.23895428390502… │ 8.65790609741211e… │ 8.65692444992065… │\n",
       "│ 524288  │ 4.938915174484254… │ 6.19146050453186… │ 4.380121295928955… │ 4.37963348960876… │\n",
       "│ 1048576 │ 4.918278762817383… │ 3.10152493667602… │ 2.240908003807068… │ 2.24087788009643… │\n",
       "│ 2097152 │ 4.902421484947205… │ 1.55940647983551… │ 1.171055315494537… │ 1.17104010248184… │\n",
       "└─────────┴────────────────────┴───────────────────┴────────────────────┴───────────────────┘\n"
      ]
     },
     "metadata": {},
     "output_type": "display_data"
    },
    {
     "name": "stdout",
     "output_type": "stream",
     "text": [
      "\n"
     ]
    },
    {
     "data": {
      "image/png": "[encoded data removed]",
      "text/plain": [
       "<Figure size 720x540 with 1 Axes>"
      ]
     },
     "metadata": {
      "needs_background": "dark"
     },
     "output_type": "display_data"
    },
    {
     "name": "stdout",
     "output_type": "stream",
     "text": [
      "pynq_min_reconf = 524288\n",
      "pybind11_min_reconf = 262144\n",
      "cffi_min_reconf = 262144\n"
     ]
    }
   ],
   "source": [
    "from perfplot._main import PerfplotData\n",
    "import matplotlib.pyplot as plt\n",
    "import time\n",
    "import os\n",
    "import sys\n",
    "\n",
    "# Import the lower-level ZyPy module\n",
    "zypy_path = os.path.abspath(os.path.join(\"../..\"))\n",
    "\n",
    "if zypy_path not in sys.path:\n",
    "    sys.path.append(zypy_path)\n",
    "    \n",
    "from zypy import ZyPy as zp\n",
    "\n",
    "overlay = Overlay(\"/home/xilinx/jupyter_notebooks/zypy/overlays/filter_avg_f4.bit\")   # Reload the overlay or PYNQ won't restart DMAs (because of bitstream download using ZyPy).\n",
    "\n",
    "def _setup(n):\n",
    "\n",
    "    # Adjust the setup as required. The return value(s) will be passed as arguments to the kernels.\n",
    "\n",
    "    M = N = int(np.sqrt(n))\n",
    "    x1 = allocate(shape=(M, N), dtype=\"f4\")\n",
    "    out = allocate(shape=(M, N), dtype=\"f4\")\n",
    "    \n",
    "    x1[:] = np.random.rand(*x1.shape)\n",
    "    out[:] = np.zeros(out.shape)\n",
    "\n",
    "    return x1, out\n",
    "\n",
    "iters = 10  # Specify the number of iterations per kernel per input size here.\n",
    "n_range = [2 ** k for k in range(4, 22)]  # Specify the input size range here.\n",
    "\n",
    "kernels = [filter_avg_f4_numpy, filter_avg_f4_pynq, filter_avg_f4_pybind11, filter_avg_f4_cffi]\n",
    "timings_s = np.empty((len(kernels), len(n_range)), dtype=float)\n",
    "labels = [\"numpy\", \"pynq\", \"pybind11\", \"cffi\"]\n",
    "xlabel = \"N\"\n",
    "\n",
    "# Do the actual timings.\n",
    "for i, n in enumerate(n_range):\n",
    "    t0_ns = time.time_ns()\n",
    "    for _ in range(10):\n",
    "        pass\n",
    "    t1_ns = time.time_ns()\n",
    "    loop_overhead_ns = t1_ns - t0_ns\n",
    "    \n",
    "    data = _setup(n)\n",
    "\n",
    "    for j, kernel in enumerate(kernels):\n",
    "        t0_ns = time.time_ns()\n",
    "        for _ in range(iters):\n",
    "            kernel(*data)\n",
    "        t1_ns = time.time_ns()\n",
    "        timings_s[j,i] = 1e-9 * ((t1_ns - t0_ns - loop_overhead_ns) / iters)\n",
    "        print(f\"kernel = {labels[j]}, n = {n}, t = {timings_s[j,i]}\")\n",
    "\n",
    "    for x in data:\n",
    "        x.freebuffer()\n",
    "\n",
    "# Print and plot the timing results.\n",
    "\n",
    "p = PerfplotData(\n",
    "    n_range,\n",
    "    timings_s / n_range,\n",
    "    None,\n",
    "    labels,\n",
    "    xlabel\n",
    ")\n",
    "\n",
    "print(p)\n",
    "plt.figure(figsize=(8, 6), dpi=90)\n",
    "p.plot()\n",
    "plt.ylabel('Runtime per element [s]')\n",
    "plt.show()\n",
    "\n",
    "# Find the intersection points between the NumPy version and the PYNQ, pybind11 and CFFI versions, respectively.\n",
    "\n",
    "pynq_min = 0 if timings_s[1][0] < timings_s[0][0] else np.inf\n",
    "pybind11_min = 0 if timings_s[2][0] < timings_s[0][0] else np.inf\n",
    "cffi_min = 0 if timings_s[3][0] < timings_s[0][0] else np.inf\n",
    "\n",
    "intersections = np.argwhere(np.diff(np.sign(timings_s[0] - timings_s[1]))).flatten()\n",
    "if intersections.size > 0: pynq_min = n_range[intersections[-1]]\n",
    "intersections = np.argwhere(np.diff(np.sign(timings_s[0] - timings_s[2]))).flatten()\n",
    "if intersections.size > 0: pybind11_min = n_range[intersections[-1]]  \n",
    "intersections = np.argwhere(np.diff(np.sign(timings_s[0] - timings_s[3]))).flatten()\n",
    "if intersections.size > 0: cffi_min = n_range[intersections[-1]]\n",
    "    \n",
    "print(f\"pynq_min = {pynq_min}\")\n",
    "print(f\"pybind11_min = {pybind11_min}\")\n",
    "print(f\"cffi_min = {cffi_min}\")\n",
    "\n",
    "# Find the bitstream download time.\n",
    "\n",
    "t0_ns = time.time_ns()\n",
    "zp.download_bitfile(\"/home/xilinx/jupyter_notebooks/zypy/overlays/filter_avg_f4.bit\")\n",
    "t1_ns = time.time_ns()\n",
    "\n",
    "bitstream_dl_time = 1e-9 * (t1_ns - t0_ns)\n",
    "\n",
    "print(f\"Bitstream download time = {bitstream_dl_time}\")\n",
    "\n",
    "# Print and plot the timing results (including reconfiguration overhead).\n",
    "\n",
    "q = PerfplotData(\n",
    "    n_range,\n",
    "    np.array([(timing_s + bitstream_dl_time) / n_range if i else timing_s / n_range for i, timing_s in enumerate(timings_s)]),\n",
    "    None,\n",
    "    np.array([label + \" - reconfig\" if i else label for i, label in enumerate(labels)]),\n",
    "    xlabel\n",
    ")\n",
    "\n",
    "print(q)\n",
    "plt.figure(figsize=(8, 6), dpi=90)\n",
    "q.plot()\n",
    "plt.ylabel('Runtime per element [s]')\n",
    "plt.show()\n",
    "\n",
    "# Find the intersection points taking into account the bitstream download overhead.\n",
    "\n",
    "pynq_min_reconf, pybind11_min_reconf, cffi_min_reconf = np.inf, np.inf, np.inf\n",
    "\n",
    "pynq_min = 0 if timings_s[1][0] + bitstream_dl_time < timings_s[0][0] else np.inf\n",
    "pybind11_min = 0 if timings_s[2][0] + bitstream_dl_time < timings_s[0][0] else np.inf\n",
    "cffi_min = 0 if timings_s[3][0] + bitstream_dl_time < timings_s[0][0] else np.inf\n",
    "\n",
    "intersections = np.argwhere(np.diff(np.sign(timings_s[0] - (timings_s[1] + bitstream_dl_time)))).flatten()\n",
    "if intersections.size > 0:pynq_min_reconf = n_range[intersections[-1]]\n",
    "intersections = np.argwhere(np.diff(np.sign(timings_s[0] - (timings_s[2] + bitstream_dl_time)))).flatten()\n",
    "if intersections.size > 0: pybind11_min_reconf = n_range[intersections[-1]]\n",
    "intersections = np.argwhere(np.diff(np.sign(timings_s[0] - (timings_s[3] + bitstream_dl_time)))).flatten()\n",
    "if intersections.size > 0: cffi_min_reconf = n_range[intersections[-1]]\n",
    "\n",
    "print(f\"pynq_min_reconf = {pynq_min_reconf}\")\n",
    "print(f\"pybind11_min_reconf = {pybind11_min_reconf}\")\n",
    "print(f\"cffi_min_reconf = {cffi_min_reconf}\")"
   ]
  }
 ],
 "metadata": {
  "kernelspec": {
   "display_name": "perf_env/Python 3",
   "language": "python",
   "name": "python3"
  },
  "language_info": {
   "codemirror_mode": {
    "name": "ipython",
    "version": 3
   },
   "file_extension": ".py",
   "mimetype": "text/x-python",
   "name": "python",
   "nbconvert_exporter": "python",
   "pygments_lexer": "ipython3",
   "version": "3.7.0b3"
  }
 },
 "nbformat": 4,
 "nbformat_minor": 5
}
